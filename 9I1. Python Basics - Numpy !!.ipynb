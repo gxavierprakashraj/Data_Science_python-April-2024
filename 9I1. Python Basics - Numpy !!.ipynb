{
 "cells": [
  {
   "cell_type": "markdown",
   "id": "749bd7ac",
   "metadata": {},
   "source": [
    "Numpy is a general-purpose array-processing package. It provides a high-performance multidimensional array object, and tools for working with these arrays. It is the fundamental package for scientific computing with Python.\n",
    "Besides its obvious scientific uses, Numpy can also be used as an efficient multi-dimensional container of generic data."
   ]
  },
  {
   "cell_type": "markdown",
   "id": "017520ed",
   "metadata": {},
   "source": [
    "# Arrays in Numpy\n",
    "\n",
    "Array in Numpy is a table of elements (usually numbers), all of the same type, indexed by a tuple of positive integers. In Numpy, number of dimensions of the array is called rank of the array.A tuple of integers giving the size of the array along each dimension is known as shape of the array. An array class in Numpy is called as ndarray. Elements in Numpy arrays are accessed by using square brackets and can be initialized by using nested Python Lists."
   ]
  },
  {
   "cell_type": "markdown",
   "id": "76e97a52",
   "metadata": {},
   "source": [
    "# Creating a Numpy Array\n",
    "\n",
    "Arrays in Numpy can be created by multiple ways, with various number of Ranks, defining the size of the Array. Arrays can also be created with the use of various data types such as lists, tuples, etc. The type of the resultant array is deduced from the type of the elements in the sequences.\n",
    "Note: Type of array can be explicitly defined while creating the array."
   ]
  },
  {
   "cell_type": "code",
   "execution_count": 1,
   "id": "bcfc2ae4",
   "metadata": {},
   "outputs": [
    {
     "name": "stdout",
     "output_type": "stream",
     "text": [
      "Array with Rank 1: \n",
      " [1 2 3]\n",
      "Array with Rank 2: \n",
      " [[1 2 3]\n",
      " [4 5 6]]\n",
      "\n",
      "Array created using passed tuple:\n",
      " [1 3 2]\n"
     ]
    }
   ],
   "source": [
    "# Python program for\n",
    "# Creation of Arrays\n",
    "import numpy as np\n",
    " \n",
    "# Creating a rank 1 Array\n",
    "arr = np.array([1, 2, 3])\n",
    "print(\"Array with Rank 1: \\n\",arr)\n",
    " \n",
    "# Creating a rank 2 Array\n",
    "arr = np.array([[1, 2, 3],\n",
    "                [4, 5, 6]])\n",
    "print(\"Array with Rank 2: \\n\", arr)\n",
    " \n",
    "# Creating an array from tuple\n",
    "arr = np.array((1, 3, 2))\n",
    "print(\"\\nArray created using \"\n",
    "      \"passed tuple:\\n\", arr)"
   ]
  },
  {
   "cell_type": "markdown",
   "id": "4da63cb6",
   "metadata": {},
   "source": [
    "# Accessing the array Index\n",
    "\n",
    "In a numpy array, indexing or accessing the array index can be done in multiple ways. To print a range of an array, slicing is done. Slicing of an array is defining a range in a new array which is used to print a range of elements from the original array. Since, sliced array holds a range of elements of the original array, modifying content with the help of sliced array modifies the original array content."
   ]
  },
  {
   "cell_type": "code",
   "execution_count": 2,
   "id": "d76086b5",
   "metadata": {},
   "outputs": [
    {
     "name": "stdout",
     "output_type": "stream",
     "text": [
      "Initial Array: \n",
      " \n",
      "[[-1.   2.   0.   4. ]\n",
      " [ 4.  -0.5  6.   0. ]\n",
      " [ 2.6  0.   7.   8. ]\n",
      " [ 3.  -7.   4.   2. ]]\n",
      "\n",
      "Array with first 2 rows and alternate columns(0 and 2):\n",
      "\n",
      " [[-1.  0.]\n",
      " [ 4.  6.]]\n",
      "\n",
      "Elements at indices (1, 3), (1, 2), (0, 1), (2, 0):\n",
      "\n",
      " [0.  6.  2.  2.6]\n"
     ]
    }
   ],
   "source": [
    "# Python program to demonstrate\n",
    "# indexing in numpy array\n",
    "import numpy as np\n",
    " \n",
    "# Initial Array\n",
    "arr = np.array([[-1, 2, 0, 4],\n",
    "                [4, -0.5, 6, 0],\n",
    "                [2.6, 0, 7, 8],\n",
    "                [3, -7, 4, 2.0]])\n",
    "print(\"Initial Array: \\n \")\n",
    "print(arr)\n",
    " \n",
    "# Printing a range of Array\n",
    "# with the use of slicing method\n",
    "sliced_arr = arr[:2 , ::2]\n",
    "\n",
    "print (\"\\nArray with first 2 rows and\"\n",
    "    \" alternate columns(0 and 2):\\n\\n\", sliced_arr)\n",
    " \n",
    "# Printing elements at\n",
    "# specific Indices\n",
    "Index_arr = arr[[1, 1, 0, 2],[3, 2, 1, 0]]\n",
    "\n",
    "print (\"\\nElements at indices (1, 3), \"\n",
    "    \"(1, 2), (0, 1), (2, 0):\\n\\n\", Index_arr)"
   ]
  },
  {
   "cell_type": "markdown",
   "id": "2d780674",
   "metadata": {},
   "source": [
    "# Basic Array Operations\n",
    "\n",
    "In numpy, arrays allow a wide range of operations which can be performed on a particular array or a combination of Arrays. These operation include some basic Mathematical operation as well as Unary and Binary operations."
   ]
  },
  {
   "cell_type": "code",
   "execution_count": 3,
   "id": "9953a1ed",
   "metadata": {},
   "outputs": [
    {
     "name": "stdout",
     "output_type": "stream",
     "text": [
      "[[1 2]\n",
      " [3 4]]\n",
      "\n",
      "\n",
      "[[4 3]\n",
      " [2 1]]\n",
      "Adding 1 to every element:\n",
      " [[2 3]\n",
      " [4 5]]\n",
      "\n",
      "Subtracting 2 from each element:\n",
      " [[ 2  1]\n",
      " [ 0 -1]]\n",
      "\n",
      "Sum of all array elements in a:  10\n",
      "\n",
      "Array sum a + b :\n",
      " [[5 5]\n",
      " [5 5]]\n"
     ]
    }
   ],
   "source": [
    "# Python program to demonstrate\n",
    "# basic operations on single array\n",
    "import numpy as np\n",
    " \n",
    "# Defining Array 1\n",
    "a = np.array([[1, 2],\n",
    "              [3, 4]])\n",
    "print(a)\n",
    "\n",
    "print(\"\\n\")\n",
    "# Defining Array 2\n",
    "b = np.array([[4, 3],\n",
    "              [2, 1]])\n",
    "print(b)\n",
    "               \n",
    "# Adding 1 to every element\n",
    "print (\"Adding 1 to every element:\\n\", a + 1)\n",
    " \n",
    "# Subtracting 2 from each element\n",
    "print (\"\\nSubtracting 2 from each element:\\n\", b - 2)\n",
    " \n",
    "# sum of array elements\n",
    "# Performing Unary operations\n",
    "print (\"\\nSum of all array \"\n",
    "       \"elements in a: \", a.sum())\n",
    " \n",
    "# Adding two arrays\n",
    "# Performing Binary operations\n",
    "print (\"\\nArray sum a + b :\\n\", a + b)"
   ]
  },
  {
   "cell_type": "markdown",
   "id": "7407a528",
   "metadata": {},
   "source": [
    "# So, What is NumPy? \n",
    "\n",
    "NumPy is a general-purpose array-processing package. It provides a high-performance multidimensional array object, and tools for working with these arrays. It is the fundamental package for scientific computing with Python. It is open-source software. It contains various features including these important ones:\n",
    "\n",
    "A powerful N-dimensional array object\n",
    "\n",
    "Sophisticated (broadcasting) functions\n",
    "\n",
    "Tools for integrating C/C++ and Fortran code\n",
    "\n",
    "Useful linear algebra, Fourier transform, and random number capabilities\n",
    "\n",
    "Besides its obvious scientific uses, NumPy can also be used as an efficient multi-dimensional container of generic data. Arbitrary data-types can be defined using Numpy which allows NumPy to seamlessly and speedily integrate with a wide variety of databases."
   ]
  },
  {
   "cell_type": "markdown",
   "id": "034ee998",
   "metadata": {},
   "source": [
    "# 1. Arrays in NumPy: \n",
    "\n",
    "NumPy’s main object is the homogeneous multidimensional array."
   ]
  },
  {
   "cell_type": "raw",
   "id": "3d5583d4",
   "metadata": {},
   "source": [
    "It is a table of elements (usually numbers), all of the same type, indexed by a tuple of positive integers.\n",
    "\n",
    "In NumPy dimensions are called axes. The number of axes is rank.\n",
    "\n",
    "NumPy’s array class is called ndarray. It is also known by the alias array.\n",
    "\n",
    "[[ 1, 2, 3],\n",
    " [ 4, 2, 5]]\n",
    " \n",
    "Here,\n",
    "\n",
    "rank = 2 (as it is 2-dimensional or it has 2 axes)\n",
    "\n",
    "first dimension(axis) length = 2, second dimension has length = 3\n",
    "\n",
    "overall shape can be expressed as: (2, 3)"
   ]
  },
  {
   "cell_type": "code",
   "execution_count": 4,
   "id": "47a07d81",
   "metadata": {},
   "outputs": [
    {
     "name": "stdout",
     "output_type": "stream",
     "text": [
      "[[1 2 3]\n",
      " [4 2 5]]\n",
      "\n",
      "\n",
      "Array is of type:  <class 'numpy.ndarray'>\n",
      "No. of dimensions:  2\n",
      "Shape of array:  (2, 3)\n",
      "Size of array:  6\n",
      "Array stores elements of type:  int32\n"
     ]
    }
   ],
   "source": [
    "# Python program to demonstrate\n",
    "# basic array characteristics\n",
    "import numpy as np\n",
    "\n",
    "# Creating array object\n",
    "arr = np.array( [[ 1, 2, 3],\n",
    "                [ 4, 2, 5],])\n",
    "\n",
    "print(arr)\n",
    "print(\"\\n\")\n",
    "\n",
    "# Printing type of arr object\n",
    "print(\"Array is of type: \", type(arr))\n",
    "\n",
    "# Printing array dimensions (axes)\n",
    "print(\"No. of dimensions: \", arr.ndim)\n",
    "\n",
    "# Printing shape of array\n",
    "print(\"Shape of array: \", arr.shape)\n",
    "\n",
    "# Printing size (total number of elements) of array\n",
    "print(\"Size of array: \", arr.size)\n",
    "\n",
    "# Printing type of elements in array\n",
    "print(\"Array stores elements of type: \", arr.dtype)"
   ]
  },
  {
   "cell_type": "markdown",
   "id": "ee5c4c2a",
   "metadata": {},
   "source": [
    "# 2. Array creation: There are various ways to create arrays in NumPy.\n",
    "\n",
    "For example, you can create an array from a regular Python list or tuple using the array function. The type of the resulting array is deduced from the type of the elements in the sequences.\n",
    "\n",
    "Often, the elements of an array are originally unknown, but its size is known. Hence, NumPy offers several functions to create arrays with initial placeholder content. These minimize the necessity of growing arrays, an expensive operation. For example: np.zeros, np.ones, np.full, np.empty, etc.\n",
    "\n",
    "To create sequences of numbers, NumPy provides a function analogous to range that returns arrays instead of lists.\n",
    "\n",
    "arange: returns evenly spaced values within a given interval. step size is specified.\n",
    "\n",
    "linspace: returns evenly spaced values within a given interval. num no. of elements are returned.\n",
    "    \n",
    "Reshaping array: We can use reshape method to reshape an array. Consider an array with shape (a1, a2, a3, …, aN). We can reshape and convert it into another array with shape (b1, b2, b3, …, bM). The only required condition is: a1 x a2 x a3 … x aN = b1 x b2 x b3 … x bM . (i.e original size of array remains unchanged.)\n",
    "\n",
    "Flatten array: We can use flatten method to get a copy of array collapsed into one dimension. It accepts order argument. Default value is ‘C’ (for row-major order). Use ‘F’ for column major order.\n",
    "\n",
    "Note: Type of array can be explicitly defined while creating array. "
   ]
  },
  {
   "cell_type": "code",
   "execution_count": 7,
   "id": "0d01c3b1",
   "metadata": {},
   "outputs": [
    {
     "name": "stdout",
     "output_type": "stream",
     "text": [
      "Array created using passed list:\n",
      " [[1. 2. 4.]\n",
      " [5. 8. 7.]]\n",
      "\n",
      "Array created using passed tuple:\n",
      " [1 3 2]\n",
      "\n",
      "An array initialized with all zeros:\n",
      " [[0. 0. 0. 0.]\n",
      " [0. 0. 0. 0.]\n",
      " [0. 0. 0. 0.]]\n",
      "\n",
      "An array initialized with all 6s.Array type is complex:\n",
      " [[6. 6. 6.]\n",
      " [6. 6. 6.]\n",
      " [6. 6. 6.]]\n",
      "\n",
      "A random array:\n",
      " [[0.21122773 0.77832625]\n",
      " [0.83879616 0.47803564]]\n",
      "\n",
      "A sequential array with steps of 5:\n",
      " [ 0  5 10 15 20 25]\n",
      "\n",
      "A sequential array with 10 values between0 and 5:\n",
      " [0.         0.55555556 1.11111111 1.66666667 2.22222222 2.77777778\n",
      " 3.33333333 3.88888889 4.44444444 5.        ]\n",
      "\n",
      "Original array:\n",
      " [[1 2 3 4]\n",
      " [5 2 4 2]\n",
      " [1 2 0 1]]\n",
      "Reshaped array:\n",
      " [[[1 2 3]\n",
      "  [4 5 2]]\n",
      "\n",
      " [[4 2 1]\n",
      "  [2 0 1]]]\n",
      "\n",
      "Original array:\n",
      " [[1 2 3]\n",
      " [4 5 6]]\n",
      "Fattened array:\n",
      " [1 2 3 4 5 6]\n"
     ]
    }
   ],
   "source": [
    "# Python program to demonstrate\n",
    "# array creation techniques\n",
    "import numpy as np\n",
    "\n",
    "# Creating array from list with type float\n",
    "a = np.array([[1, 2, 4], [5, 8, 7]], dtype = 'float')\n",
    "print (\"Array created using passed list:\\n\", a)\n",
    "\n",
    "# Creating array from tuple\n",
    "b = np.array((1 , 3, 2))\n",
    "print (\"\\nArray created using passed tuple:\\n\", b)\n",
    "\n",
    "# Creating a 3X4 array with all zeros\n",
    "c = np.zeros((3, 4))\n",
    "print (\"\\nAn array initialized with all zeros:\\n\", c)\n",
    "\n",
    "# Create a constant value array of complex type\n",
    "d = np.full((3, 3), 6, dtype = 'float')\n",
    "print (\"\\nAn array initialized with all 6s.\"\n",
    "            \"Array type is complex:\\n\", d)\n",
    "\n",
    "# Create an array with random values\n",
    "e = np.random.random((2, 2))\n",
    "print (\"\\nA random array:\\n\", e)\n",
    "\n",
    "# Create a sequence of integers\n",
    "# from 0 to 30 with steps of 5\n",
    "f = np.arange(0, 30, 5)\n",
    "print (\"\\nA sequential array with steps of 5:\\n\", f)\n",
    "\n",
    "# Create a sequence of 10 values in range 0 to 5\n",
    "g = np.linspace(0, 5, 10)\n",
    "print (\"\\nA sequential array with 10 values between\"\n",
    "                                        \"0 and 5:\\n\", g)\n",
    "\n",
    "# Reshaping 3X4 array to 2X2X3 array\n",
    "arr = np.array([[1, 2, 3, 4],\n",
    "                [5, 2, 4, 2],\n",
    "                [1, 2, 0, 1]])\n",
    "\n",
    "newarr = arr.reshape(2,2,3)\n",
    "\n",
    "print (\"\\nOriginal array:\\n\", arr)\n",
    "print (\"Reshaped array:\\n\", newarr)\n",
    "\n",
    "# Flatten array\n",
    "arr = np.array([[1, 2, 3], [4, 5, 6]])\n",
    "flarr = arr.flatten()\n",
    "\n",
    "print (\"\\nOriginal array:\\n\", arr)\n",
    "print (\"Fattened array:\\n\", flarr)"
   ]
  },
  {
   "cell_type": "markdown",
   "id": "6a4550d7",
   "metadata": {},
   "source": [
    "# 3. Array Indexing: \n",
    "\n",
    "Knowing the basics of array indexing is important for analysing and manipulating the array object. NumPy offers many ways to do array indexing.\n",
    "\n",
    "Slicing: Just like lists in python, NumPy arrays can be sliced. As arrays can be multidimensional, you need to specify a slice for each dimension of the array.\n",
    "\n",
    "Integer array indexing: In this method, lists are passed for indexing for each dimension. One to one mapping of corresponding elements is done to construct a new arbitrary array.\n",
    "\n",
    "Boolean array indexing: This method is used when we want to pick elements from array which satisfy some condition."
   ]
  },
  {
   "cell_type": "code",
   "execution_count": 8,
   "id": "d49f1f4c",
   "metadata": {},
   "outputs": [
    {
     "name": "stdout",
     "output_type": "stream",
     "text": [
      "[[-1.   2.   0.   4. ]\n",
      " [ 4.  -0.5  6.   0. ]\n",
      " [ 2.6  0.   7.   8. ]\n",
      " [ 3.  -7.   4.   2. ]]\n",
      "\n",
      "\n",
      "Array with first 2 rows and alternatecolumns(0 and 2):\n",
      " [[-1.  0.]\n",
      " [ 4.  6.]]\n",
      "\n",
      "Elements at indices (0, 3), (1, 2), (2, 1),(3, 0):\n",
      " [4. 6. 0. 3.]\n",
      "\n",
      "\n",
      "[[-1.   2.   0.   4. ]\n",
      " [ 4.  -0.5  6.   0. ]\n",
      " [ 2.6  0.   7.   8. ]\n",
      " [ 3.  -7.   4.   2. ]]\n",
      "\n",
      "\n",
      "[[False  True False  True]\n",
      " [ True False  True False]\n",
      " [ True False  True  True]\n",
      " [ True False  True  True]]\n",
      "\n",
      "Elements greater than 0:\n",
      " [2.  4.  4.  6.  2.6 7.  8.  3.  4.  2. ]\n"
     ]
    }
   ],
   "source": [
    "# Python program to demonstrate\n",
    "# indexing in numpy\n",
    "import numpy as np\n",
    "\n",
    "# An exemplar array\n",
    "arr = np.array([[-1, 2, 0, 4],\n",
    "                [4, -0.5, 6, 0],\n",
    "                [2.6, 0, 7, 8],\n",
    "                [3, -7, 4, 2.0]])\n",
    "\n",
    "print(arr)\n",
    "print(\"\\n\")\n",
    "\n",
    "# Slicing array\n",
    "temp = arr[:2, ::2]\n",
    "print (\"Array with first 2 rows and alternate\"\n",
    "                    \"columns(0 and 2):\\n\", temp)\n",
    "\n",
    "# Integer array indexing example\n",
    "temp = arr[[0, 1, 2, 3], [3, 2, 1, 0]]\n",
    "print (\"\\nElements at indices (0, 3), (1, 2), (2, 1),\" \"(3, 0):\\n\", temp)\n",
    "\n",
    "print(\"\\n\")\n",
    "print(arr)\n",
    "# boolean array indexing example\n",
    "cond = arr > 0 # cond is a boolean array\n",
    "print(\"\\n\")\n",
    "print(cond)\n",
    "temp = arr[cond]\n",
    "print (\"\\nElements greater than 0:\\n\", temp)\n",
    "\n",
    "#To undersatnd the result of boolean array, please refer the code in below cell"
   ]
  },
  {
   "cell_type": "code",
   "execution_count": 9,
   "id": "20832d42",
   "metadata": {},
   "outputs": [
    {
     "name": "stdout",
     "output_type": "stream",
     "text": [
      "[[False  True False  True]\n",
      " [ True False  True False]\n",
      " [ True False  True  True]\n",
      " [ True False  True  True]]\n",
      "\n",
      "\n",
      "[2.  4.  4.  6.  2.6 7.  8.  3.  4.  2. ]\n"
     ]
    }
   ],
   "source": [
    "print(cond)\n",
    "print(\"\\n\")\n",
    "print(arr[cond])"
   ]
  },
  {
   "cell_type": "markdown",
   "id": "5cc14002",
   "metadata": {},
   "source": [
    "# 4. Basic operations: \n",
    "\n",
    "Plethora of built-in arithmetic functions are provided in NumPy.\n",
    "\n",
    "Operations on single array: We can use overloaded arithmetic operators to do element-wise operation on array to create a new array. In case of +=, -=, *= operators, the existing array is modified."
   ]
  },
  {
   "cell_type": "code",
   "execution_count": 10,
   "id": "d1eacf21",
   "metadata": {
    "scrolled": true
   },
   "outputs": [
    {
     "name": "stdout",
     "output_type": "stream",
     "text": [
      "[1 2 5 3]\n",
      "\n",
      "\n",
      "Adding 1 to every element: [2 3 6 4]\n",
      "Subtracting 3 from each element: [-2 -1  2  0]\n",
      "Multiplying each element by 10: [10 20 50 30]\n",
      "Squaring each element: [ 1  4 25  9]\n",
      "Doubled each element of original array: [ 2  4 10  6]\n",
      "\n",
      "Original array:\n",
      " [[1 2 3]\n",
      " [3 4 5]\n",
      " [9 6 0]]\n",
      "Transpose of array:\n",
      " [[1 3 9]\n",
      " [2 4 6]\n",
      " [3 5 0]]\n"
     ]
    }
   ],
   "source": [
    "# Python program to demonstrate\n",
    "# basic operations on single array\n",
    "import numpy as np\n",
    "\n",
    "a = np.array([1, 2, 5, 3])\n",
    "\n",
    "print(a)\n",
    "print(\"\\n\")\n",
    "# add 1 to every element\n",
    "print (\"Adding 1 to every element:\", a+1)\n",
    "\n",
    "# subtract 3 from each element\n",
    "print (\"Subtracting 3 from each element:\", a-3)\n",
    "\n",
    "# multiply each element by 10\n",
    "print (\"Multiplying each element by 10:\", a*10)\n",
    "\n",
    "# square each element\n",
    "print (\"Squaring each element:\", a**2)\n",
    "\n",
    "# modify existing array\n",
    "a *= 2\n",
    "print (\"Doubled each element of original array:\", a)\n",
    "\n",
    "# transpose of array\n",
    "a = np.array([[1, 2, 3], [3, 4, 5], [9, 6, 0]])\n",
    "\n",
    "print (\"\\nOriginal array:\\n\", a)\n",
    "print (\"Transpose of array:\\n\", a.T)"
   ]
  },
  {
   "cell_type": "markdown",
   "id": "4671f830",
   "metadata": {},
   "source": [
    "# Unary operators: \n",
    "    \n",
    "Many unary operations are provided as a method of ndarray class. This includes sum, min, max, etc. These functions can also be applied row-wise or column-wise by setting an axis parameter."
   ]
  },
  {
   "cell_type": "code",
   "execution_count": 11,
   "id": "b020fc74",
   "metadata": {},
   "outputs": [
    {
     "name": "stdout",
     "output_type": "stream",
     "text": [
      "Largest element is: 9\n",
      "Row-wise maximum elements: [6 7 9]\n",
      "Column-wise minimum elements: [1 1 2]\n",
      "Sum of all array elements: 38\n",
      "Cumulative sum along each row:\n",
      " [[ 1  6 12]\n",
      " [ 4 11 13]\n",
      " [ 3  4 13]]\n"
     ]
    }
   ],
   "source": [
    "# Python program to demonstrate\n",
    "# unary operators in numpy\n",
    "import numpy as np\n",
    "\n",
    "arr = np.array([[1, 5, 6],\n",
    "                [4, 7, 2],\n",
    "                [3, 1, 9]])\n",
    "\n",
    "# maximum element of array\n",
    "print (\"Largest element is:\", arr.max())\n",
    "print (\"Row-wise maximum elements:\",\n",
    "                                arr.max(axis = 1))\n",
    "\n",
    "# minimum element of array\n",
    "print (\"Column-wise minimum elements:\",\n",
    "                                arr.min(axis = 0))\n",
    "\n",
    "# sum of array elements\n",
    "print (\"Sum of all array elements:\",\n",
    "                                arr.sum())\n",
    "\n",
    "# cumulative sum along each row\n",
    "print (\"Cumulative sum along each row:\\n\",\n",
    "                                    arr.cumsum(axis = 1))"
   ]
  },
  {
   "cell_type": "markdown",
   "id": "4037d34b",
   "metadata": {},
   "source": [
    "# Binary operators: \n",
    "    \n",
    "These operations apply on array elementwise and a new array is created. You can use all basic arithmetic operators like +, -, /, , etc. In case of +=, -=, = operators, the existing array is modified."
   ]
  },
  {
   "cell_type": "code",
   "execution_count": 12,
   "id": "d993364a",
   "metadata": {},
   "outputs": [
    {
     "name": "stdout",
     "output_type": "stream",
     "text": [
      "Array sum:\n",
      " [[5 5]\n",
      " [5 5]]\n",
      "Array multiplication:\n",
      " [[4 6]\n",
      " [6 4]]\n",
      "Matrix multiplication:\n",
      " [[ 8  5]\n",
      " [20 13]]\n"
     ]
    }
   ],
   "source": [
    "# Python program to demonstrate\n",
    "# binary operators in Numpy\n",
    "import numpy as np\n",
    "\n",
    "a = np.array([[1, 2],\n",
    "            [3, 4]])\n",
    "              \n",
    "b = np.array([[4, 3],\n",
    "            [2, 1]])\n",
    "\n",
    "# add arrays\n",
    "print (\"Array sum:\\n\", a + b)\n",
    "\n",
    "# multiply arrays (elementwise multiplication)\n",
    "print (\"Array multiplication:\\n\", a*b)\n",
    "\n",
    "# matrix multiplication\n",
    "print (\"Matrix multiplication:\\n\", a.dot(b))"
   ]
  },
  {
   "cell_type": "markdown",
   "id": "bf05d95f",
   "metadata": {},
   "source": [
    "# Universal functions (ufunc): \n",
    "\n",
    "NumPy provides familiar mathematical functions such as sin, cos, exp, etc. These functions also operate elementwise on an array, producing an array as output.\n",
    "\n",
    "Note: All the operations we did above using overloaded operators can be done using ufuncs like np.add, np.subtract, np.multiply, np.divide, np.sum, etc. "
   ]
  },
  {
   "cell_type": "code",
   "execution_count": 13,
   "id": "177fc796",
   "metadata": {},
   "outputs": [
    {
     "name": "stdout",
     "output_type": "stream",
     "text": [
      "Sine values of array elements: [0.0000000e+00 1.0000000e+00 1.2246468e-16]\n",
      "Exponent of array elements: [ 1.          2.71828183  7.3890561  20.08553692]\n",
      "Square root of array elements: [0.         1.         1.41421356 1.73205081]\n"
     ]
    }
   ],
   "source": [
    "# Python program to demonstrate\n",
    "# universal functions in numpy\n",
    "import numpy as np\n",
    "\n",
    "# create an array of sine values\n",
    "a = np.array([0, np.pi/2, np.pi])\n",
    "print (\"Sine values of array elements:\", np.sin(a))\n",
    "\n",
    "# exponential values\n",
    "a = np.array([0, 1, 2, 3])\n",
    "print (\"Exponent of array elements:\", np.exp(a))\n",
    "\n",
    "# square root of array values\n",
    "print (\"Square root of array elements:\", np.sqrt(a))"
   ]
  },
  {
   "cell_type": "code",
   "execution_count": 14,
   "id": "98247460",
   "metadata": {},
   "outputs": [
    {
     "data": {
      "text/plain": [
       "1.2246467991473532e-16"
      ]
     },
     "execution_count": 14,
     "metadata": {},
     "output_type": "execute_result"
    }
   ],
   "source": [
    "np.sin(np.pi)"
   ]
  },
  {
   "cell_type": "markdown",
   "id": "ca379a29",
   "metadata": {},
   "source": [
    "# 4. Sorting array: \n",
    "    \n",
    "There is a simple np.sort method for sorting NumPy arrays. Let’s explore it a bit. "
   ]
  },
  {
   "cell_type": "code",
   "execution_count": 15,
   "id": "be1a8dc3",
   "metadata": {},
   "outputs": [
    {
     "name": "stdout",
     "output_type": "stream",
     "text": [
      "[[ 1  4  2]\n",
      " [ 3  4  6]\n",
      " [ 0 -1  5]]\n",
      "Array elements in sorted order:\n",
      " [-1  0  1  2  3  4  4  5  6]\n",
      "Row-wise sorted array:\n",
      " [[ 1  2  4]\n",
      " [ 3  4  6]\n",
      " [-1  0  5]]\n",
      "Column wise sort:\n",
      " [[ 0 -1  2]\n",
      " [ 1  4  5]\n",
      " [ 3  4  6]]\n"
     ]
    }
   ],
   "source": [
    "# Python program to demonstrate sorting in numpy\n",
    "import numpy as np\n",
    "\n",
    "a = np.array([[1, 4, 2],\n",
    "                [3, 4, 6],\n",
    "                [0, -1, 5]])\n",
    "\n",
    "print(a)\n",
    "\n",
    "# sorted array\n",
    "print (\"Array elements in sorted order:\\n\",\n",
    "                    np.sort(a, axis = None))\n",
    "\n",
    "# sort array row-wise\n",
    "print (\"Row-wise sorted array:\\n\",\n",
    "                    np.sort(a, axis = 1))\n",
    "\n",
    "# specify sort algorithm\n",
    "print (\"Column wise sort:\\n\",\n",
    "                    np.sort(a, axis = 0))"
   ]
  },
  {
   "cell_type": "markdown",
   "id": "118140b1",
   "metadata": {},
   "source": [
    "So, this was a brief yet concise introduction-cum-tutorial of the NumPy library. For more detailed study, please refer NumPy Reference Guide ."
   ]
  },
  {
   "cell_type": "markdown",
   "id": "9d9012e8",
   "metadata": {},
   "source": [
    "# Advance Numpy Operations"
   ]
  },
  {
   "cell_type": "markdown",
   "id": "512ca0bc",
   "metadata": {},
   "source": [
    "This segment discusses some more and a bit advanced methods available in NumPy.\n",
    "\n",
    "# 1. Stacking: \n",
    "\n",
    "Several arrays can be stacked together along different axes.\n",
    "    \n",
    "np.vstack: To stack arrays along vertical axis.\n",
    "    \n",
    "np.hstack: To stack arrays along horizontal axis.\n",
    "    \n",
    "np.column_stack: To stack 1-D arrays as columns into 2-D arrays.\n",
    "    \n",
    "np.concatenate: To stack arrays along specified axis (axis is passed as argument)."
   ]
  },
  {
   "cell_type": "code",
   "execution_count": 17,
   "id": "5dbfdc4e",
   "metadata": {},
   "outputs": [
    {
     "name": "stdout",
     "output_type": "stream",
     "text": [
      "Vertical stacking:\n",
      " [[1 2]\n",
      " [3 4]\n",
      " [5 6]\n",
      " [7 8]]\n",
      "\n",
      "Horizontal stacking:\n",
      " [[1 2 5 6]\n",
      " [3 4 7 8]]\n",
      "\n",
      "Column stacking:\n",
      " [[1 2 5]\n",
      " [3 4 6]]\n",
      "\n",
      "Concatenating on axis:\n",
      " [[1 2 5 6]\n",
      " [3 4 7 8]]\n"
     ]
    }
   ],
   "source": [
    "import numpy as np\n",
    "\n",
    "a = np.array([[1, 2],\n",
    "            [3, 4]])\n",
    "\n",
    "b = np.array([[5, 6],\n",
    "            [7, 8]])\n",
    "\n",
    "# vertical stacking\n",
    "print(\"Vertical stacking:\\n\", np.vstack((a, b)))\n",
    "\n",
    "# horizontal stacking\n",
    "print(\"\\nHorizontal stacking:\\n\", np.hstack((a, b)))\n",
    "\n",
    "c = [5, 6]\n",
    "\n",
    "# stacking columns\n",
    "print(\"\\nColumn stacking:\\n\", np.column_stack((a, c)))\n",
    "\n",
    "# concatenation method\n",
    "print(\"\\nConcatenating on axis:\\n\", np.concatenate((a, b), 1))"
   ]
  },
  {
   "cell_type": "markdown",
   "id": "8de7d0ac",
   "metadata": {},
   "source": [
    "# 2. Splitting:\n",
    "\n",
    "For splitting, we have these functions:\n",
    "    \n",
    "np.hsplit: Split array along horizontal axis.\n",
    "    \n",
    "np.vsplit: Split array along vertical axis.\n",
    "    \n",
    "np.array_split: Split array along specified axis."
   ]
  },
  {
   "cell_type": "code",
   "execution_count": 18,
   "id": "6e74492c",
   "metadata": {},
   "outputs": [
    {
     "name": "stdout",
     "output_type": "stream",
     "text": [
      "Splitting along horizontal axis into 2 parts:\n",
      "\n",
      " [array([[1, 3],\n",
      "       [2, 4]]), array([[5, 7],\n",
      "       [6, 8]]), array([[ 9, 11],\n",
      "       [10, 12]])]\n",
      "\n",
      "Splitting along vertical axis into 2 parts:\n",
      "\n",
      " [array([[ 1,  3,  5,  7,  9, 11]]), array([[ 2,  4,  6,  8, 10, 12]])]\n"
     ]
    }
   ],
   "source": [
    "import numpy as np\n",
    "\n",
    "a = np.array([[1, 3, 5, 7, 9, 11],\n",
    "            [2, 4, 6, 8, 10, 12]])\n",
    "\n",
    "# horizontal splitting\n",
    "print(\"Splitting along horizontal axis into 2 parts:\\n\\n\", np.hsplit(a, 3))\n",
    "\n",
    "# vertical splitting\n",
    "print(\"\\nSplitting along vertical axis into 2 parts:\\n\\n\", np.vsplit(a, 2))"
   ]
  },
  {
   "cell_type": "markdown",
   "id": "6d8562f7",
   "metadata": {},
   "source": [
    "# 3. Working with datetime:\n",
    "    \n",
    "Numpy has core array data types which natively support datetime functionality. The data type is called “datetime64”, so named because “datetime” is already taken by the datetime library included in Python.\n",
    "Consider the example below for some examples:"
   ]
  },
  {
   "cell_type": "code",
   "execution_count": 19,
   "id": "9f05833f",
   "metadata": {},
   "outputs": [
    {
     "name": "stdout",
     "output_type": "stream",
     "text": [
      "Date is: 2017-02-12\n",
      "Year is: 2017\n",
      "\n",
      "Dates of February, 2017:\n",
      "\n",
      " ['2017-02-01' '2017-02-02' '2017-02-03' '2017-02-04' '2017-02-05'\n",
      " '2017-02-06' '2017-02-07' '2017-02-08' '2017-02-09' '2017-02-10'\n",
      " '2017-02-11' '2017-02-12' '2017-02-13' '2017-02-14' '2017-02-15'\n",
      " '2017-02-16' '2017-02-17' '2017-02-18' '2017-02-19' '2017-02-20'\n",
      " '2017-02-21' '2017-02-22' '2017-02-23' '2017-02-24' '2017-02-25'\n",
      " '2017-02-26' '2017-02-27' '2017-02-28']\n",
      "\n",
      "Today is February: True\n",
      "\n",
      "No. of days: 365 days\n",
      "No. of weeks: 52 weeks\n",
      "\n",
      "Dates in sorted order: ['2016-10-13' '2017-02-12' '2019-05-22']\n"
     ]
    }
   ],
   "source": [
    "import numpy as np\n",
    "\n",
    "# creating a date\n",
    "today = np.datetime64('2017-02-12')\n",
    "print(\"Date is:\", today)\n",
    "print(\"Year is:\", np.datetime64(today, 'Y'))\n",
    "\n",
    "# creating array of dates in a month\n",
    "dates = np.arange('2017-02', '2017-03', dtype='datetime64[D]')\n",
    "\n",
    "print(\"\\nDates of February, 2017:\\n\\n\", dates)\n",
    "\n",
    "print(\"\\nToday is February:\", today in dates)\n",
    "\n",
    "# arithmetic operation on dates\n",
    "dur = np.datetime64('2017-05-22') - np.datetime64('2016-05-22')\n",
    "\n",
    "print(\"\\nNo. of days:\", dur)\n",
    "\n",
    "print(\"No. of weeks:\", np.timedelta64(dur, 'W'))\n",
    "\n",
    "# sorting dates\n",
    "a = np.array(['2017-02-12', '2016-10-13', '2019-05-22'], dtype='datetime64')\n",
    "print(\"\\nDates in sorted order:\", np.sort(a))"
   ]
  },
  {
   "cell_type": "markdown",
   "id": "37f42d21",
   "metadata": {},
   "source": [
    "# Basic Slicing and Advanced Indexing in NumPy Python"
   ]
  },
  {
   "cell_type": "markdown",
   "id": "88a682b3",
   "metadata": {},
   "source": [
    "NumPy or Numeric Python is a package for computation on homogeneous n-dimensional arrays. In numpy dimensions are called as axes.\n",
    "\n",
    "Why do we need NumPy ?\n",
    "\n",
    "A question arises that why do we need NumPy when python lists are already there. The answer to it is we cannot perform operations on all the elements of two list directly. For example we cannot multiply two lists directly we will have to do it element wise. This is where the role of NumPy comes into play."
   ]
  },
  {
   "cell_type": "code",
   "execution_count": 20,
   "id": "a64adec5",
   "metadata": {},
   "outputs": [
    {
     "ename": "TypeError",
     "evalue": "can't multiply sequence by non-int of type 'list'",
     "output_type": "error",
     "traceback": [
      "\u001b[1;31m---------------------------------------------------------------------------\u001b[0m",
      "\u001b[1;31mTypeError\u001b[0m                                 Traceback (most recent call last)",
      "\u001b[1;32m~\\AppData\\Local\\Temp/ipykernel_23284/770897490.py\u001b[0m in \u001b[0;36m<module>\u001b[1;34m\u001b[0m\n\u001b[0;32m      5\u001b[0m \u001b[1;33m\u001b[0m\u001b[0m\n\u001b[0;32m      6\u001b[0m \u001b[1;31m# Multiplying both lists directly would give an error.\u001b[0m\u001b[1;33m\u001b[0m\u001b[1;33m\u001b[0m\u001b[0m\n\u001b[1;32m----> 7\u001b[1;33m \u001b[0mprint\u001b[0m\u001b[1;33m(\u001b[0m\u001b[0mlist1\u001b[0m\u001b[1;33m*\u001b[0m\u001b[0mlist2\u001b[0m\u001b[1;33m)\u001b[0m \u001b[1;31m#Error thrown\u001b[0m\u001b[1;33m\u001b[0m\u001b[1;33m\u001b[0m\u001b[0m\n\u001b[0m",
      "\u001b[1;31mTypeError\u001b[0m: can't multiply sequence by non-int of type 'list'"
     ]
    }
   ],
   "source": [
    "# Python program to demonstrate a need of NumPy\n",
    "\n",
    "list1 = [1, 2, 3, 4 ,5, 6]\n",
    "list2 = [10, 9, 8, 7, 6, 5]\n",
    "\n",
    "# Multiplying both lists directly would give an error.\n",
    "print(list1*list2) #Error thrown"
   ]
  },
  {
   "cell_type": "markdown",
   "id": "37e0d226",
   "metadata": {},
   "source": [
    "Where as this can easily be done with NumPy arrays.\n",
    "\n",
    "Another example,"
   ]
  },
  {
   "cell_type": "code",
   "execution_count": 21,
   "id": "2a7819c0",
   "metadata": {},
   "outputs": [
    {
     "name": "stdout",
     "output_type": "stream",
     "text": [
      "[10 18 24 28 30 30]\n"
     ]
    }
   ],
   "source": [
    "# Python program to demonstrate the use of NumPy arrays\n",
    "import numpy as np\n",
    "\n",
    "list1 = [1, 2, 3, 4, 5, 6]\n",
    "list2 = [10, 9, 8, 7, 6, 5]\n",
    "\n",
    "# Convert list1 into a NumPy array\n",
    "a1 = np.array(list1)\n",
    "\n",
    "# Convert list2 into a NumPy array\n",
    "a2 = np.array(list2)\n",
    "\n",
    "print(a1*a2)"
   ]
  },
  {
   "cell_type": "markdown",
   "id": "78d7fd82",
   "metadata": {},
   "source": [
    "This segment will help you get acquainted with indexing in NumPy in detail. Numpy package of python has a great power of indexing in different ways.\n",
    " \n",
    "\n",
    "Indexing using index arrays\n",
    "\n",
    "Indexing can be done in numpy by using an array as an index. In case of slice, a view or shallow copy of the array is returned but in index array a copy of the original array is returned. Numpy arrays can be indexed with other arrays or any other sequence with the exception of tuples. The last element is indexed by -1 second last by -2 and so on."
   ]
  },
  {
   "cell_type": "code",
   "execution_count": 22,
   "id": "bdedd90c",
   "metadata": {},
   "outputs": [
    {
     "name": "stdout",
     "output_type": "stream",
     "text": [
      "\n",
      " A sequential array with a negative step: \n",
      " [10  8  6  4  2]\n",
      "\n",
      " Elements at these indices are:\n",
      " [4 8 6]\n"
     ]
    }
   ],
   "source": [
    "# Python program to demonstrate\n",
    "# the use of index arrays.\n",
    "import numpy as np\n",
    "\n",
    "# Create a sequence of integers from 10 to 1 with a step of -2\n",
    "a = np.arange(10, 1, -2)\n",
    "print(\"\\n A sequential array with a negative step: \\n\",a)\n",
    "\n",
    "# Indexes are specified inside the np.array method.\n",
    "newarr = a[np.array([3, 1, 2 ])]\n",
    "print(\"\\n Elements at these indices are:\\n\",newarr)"
   ]
  },
  {
   "cell_type": "markdown",
   "id": "a9ab98b6",
   "metadata": {},
   "source": [
    "Another example,"
   ]
  },
  {
   "cell_type": "code",
   "execution_count": 23,
   "id": "4a854a3f",
   "metadata": {},
   "outputs": [
    {
     "name": "stdout",
     "output_type": "stream",
     "text": [
      "\n",
      " Elements are : \n",
      " [2 4 7]\n"
     ]
    }
   ],
   "source": [
    "import numpy as np\n",
    "\n",
    "# NumPy array with elements from 1 to 9\n",
    "x = np.array([1, 2, 3, 4, 5, 6, 7, 8, 9])\n",
    "\n",
    "# Index values can be negative.\n",
    "arr = x[np.array([1, 3, -3])]\n",
    "print(\"\\n Elements are : \\n\",arr)"
   ]
  },
  {
   "cell_type": "markdown",
   "id": "43269ffa",
   "metadata": {},
   "source": [
    "Types of Indexing\n",
    "\n",
    "There are two types of indexing :\n",
    "\n",
    "1. Basic Slicing and indexing : \n",
    "\n",
    "Consider the syntax x[obj] where x is the array and obj is the index. Slice object is the index in case of basic slicing. Basic slicing occurs when obj is :\n",
    "\n",
    "    1. a slice object that is of the form start : stop : step\n",
    "    2. an integer\n",
    "    3. or a tuple of slice objects and integers\n",
    "\n",
    "All arrays generated by basic slicing are always view of the original array."
   ]
  },
  {
   "cell_type": "code",
   "execution_count": 24,
   "id": "65358d8c",
   "metadata": {},
   "outputs": [
    {
     "name": "stdout",
     "output_type": "stream",
     "text": [
      "\n",
      " Array is:\n",
      "  [ 0  1  2  3  4  5  6  7  8  9 10 11 12 13 14 15 16 17 18 19]\n",
      "\n",
      " a[-8:17:1] =  [12 13 14 15 16]\n",
      "\n",
      " a[10:] =  [10 11 12 13 14 15 16 17 18 19]\n"
     ]
    }
   ],
   "source": [
    "# Python program for basic slicing.\n",
    "import numpy as np\n",
    "\n",
    "# Arrange elements from 0 to 19\n",
    "a = np.arange(20)\n",
    "print(\"\\n Array is:\\n \",a)\n",
    "\n",
    "# a[start:stop:step]\n",
    "print(\"\\n a[-8:17:1] = \",a[-8:17:1])\n",
    "\n",
    "# The : operator means all elements till the end.\n",
    "print(\"\\n a[10:] = \",a[10:])"
   ]
  },
  {
   "cell_type": "markdown",
   "id": "33f077b8",
   "metadata": {},
   "source": [
    "Ellipsis can also be used along with basic slicing. Ellipsis (…) is the number of : objects needed to make a selection tuple of the same length as the dimensions of the array."
   ]
  },
  {
   "cell_type": "code",
   "execution_count": 25,
   "id": "b48bd1c7",
   "metadata": {},
   "outputs": [
    {
     "name": "stdout",
     "output_type": "stream",
     "text": [
      "[[ 1  4]\n",
      " [ 7 10]]\n",
      "\n",
      "\n"
     ]
    }
   ],
   "source": [
    "# Python program for indexing using basic slicing with ellipsis\n",
    "import numpy as np\n",
    "\n",
    "# A 3 dimensional array.\n",
    "b = np.array([[[1, 2, 3],[4, 5, 6]],\n",
    "            [[7, 8, 9],[10, 11, 12]]])\n",
    "\n",
    "print(b[...,0]) #Equivalent to b[: ,: 1 ]\n",
    "print(\"\\n\")\n",
    "#print(b[0 ,1, 2 ])"
   ]
  },
  {
   "cell_type": "markdown",
   "id": "55916c22",
   "metadata": {},
   "source": [
    "2. Advanced indexing : Advanced indexing is triggered when obj is : \n",
    "\n",
    "    1. an ndarray of type integer or Boolean\n",
    "    2. or a tuple with at least one sequence object\n",
    "    3. is a non tuple sequence object\n",
    "    \n",
    "Advanced indexing returns a copy of data rather than a view of it. Advanced indexing is of two types integer and Boolean.\n",
    "\n",
    "Purely integer indexing : \n",
    "\n",
    "When integers are used for indexing. Each element of first dimension is paired with the element of the second dimension. So the index of the elements in this case are (0,0),(1,0),(2,1) and the corresponding elements are selected."
   ]
  },
  {
   "cell_type": "code",
   "execution_count": 29,
   "id": "078bdcc2",
   "metadata": {},
   "outputs": [
    {
     "name": "stdout",
     "output_type": "stream",
     "text": [
      "[[1 2]\n",
      " [3 4]\n",
      " [5 6]]\n",
      "\n",
      "\n",
      "[1 3 6]\n"
     ]
    }
   ],
   "source": [
    "# Python program showing advanced indexing\n",
    "import numpy as np\n",
    "\n",
    "a = np.array([[1 ,2 ],[3 ,4 ],[5 ,6 ]])\n",
    "print(a)\n",
    "print(\"\\n\")\n",
    "print(a[[0 ,1 ,2 ],[0 ,0 ,1]])"
   ]
  },
  {
   "cell_type": "markdown",
   "id": "60512e6c",
   "metadata": {},
   "source": [
    "# Boolean Indexing \n",
    "\n",
    "This indexing has some boolean expression as the index. Those elements are returned which satisfy that Boolean expression. It is used for filtering the desired element values."
   ]
  },
  {
   "cell_type": "code",
   "execution_count": 30,
   "id": "62233f37",
   "metadata": {},
   "outputs": [
    {
     "name": "stdout",
     "output_type": "stream",
     "text": [
      "[ 80 100]\n"
     ]
    }
   ],
   "source": [
    "# You may wish to select numbers greater than 50\n",
    "import numpy as np\n",
    "\n",
    "a = np.array([10, 40, 80, 50, 100])\n",
    "print(a[a>50])"
   ]
  },
  {
   "cell_type": "code",
   "execution_count": 31,
   "id": "58bdcb7f",
   "metadata": {},
   "outputs": [
    {
     "name": "stdout",
     "output_type": "stream",
     "text": [
      "[1600 6400]\n"
     ]
    }
   ],
   "source": [
    "# You may wish to square the multiples of 40\n",
    "import numpy as np\n",
    "\n",
    "a = np.array([10, 40, 80, 50, 100])\n",
    "print(a[a%40==0]**2)"
   ]
  },
  {
   "cell_type": "code",
   "execution_count": 32,
   "id": "baa7c709",
   "metadata": {},
   "outputs": [
    {
     "name": "stdout",
     "output_type": "stream",
     "text": [
      "[10  9 20]\n",
      "\n",
      "\n",
      "[[ 5  5]\n",
      " [16  4]]\n"
     ]
    }
   ],
   "source": [
    "# You may wish to select those elements whose\n",
    "# sum of row is a multiple of 10.\n",
    "import numpy as np\n",
    "\n",
    "b = np.array([[5, 5],\n",
    "              [4, 5],\n",
    "              [16, 4]])\n",
    "\n",
    "sumrow = b.sum(1) #axis 1 for rowwise total\n",
    "print(sumrow)\n",
    "print(\"\\n\")\n",
    "print(b[sumrow%10==0])"
   ]
  },
  {
   "cell_type": "markdown",
   "id": "3ac7ac13",
   "metadata": {},
   "source": [
    "# Data Types in Numpy\n",
    "\n",
    "Every Numpy array is a table of elements (usually numbers), all of the same type, indexed by a tuple of positive integers. Every ndarray has an associated data type (dtype) object. This data type object (dtype) provides information about the layout of the array. The values of an ndarray are stored in a buffer which can be thought of as a contiguous block of memory bytes which can be interpreted by the dtype object. Numpy provides a large set of numeric datatypes that can be used to construct arrays. At the time of Array creation, Numpy tries to guess a datatype, but functions that construct arrays usually also include an optional argument to explicitly specify the datatype."
   ]
  },
  {
   "cell_type": "markdown",
   "id": "890c7f1e",
   "metadata": {},
   "source": [
    "# Constructing a Datatype Object\n",
    "\n",
    "In Numpy, datatypes of Arrays need not to be defined unless a specific datatype is required. Numpy tries to guess the datatype for Arrays which are not predefined in the constructor function."
   ]
  },
  {
   "cell_type": "code",
   "execution_count": 33,
   "id": "46bc8516",
   "metadata": {},
   "outputs": [
    {
     "name": "stdout",
     "output_type": "stream",
     "text": [
      "Integer Datatype: \n",
      "int32\n",
      "\n",
      "Float Datatype: \n",
      "float64\n",
      "\n",
      "Forcing a Datatype: \n",
      "int64\n"
     ]
    }
   ],
   "source": [
    "# Python Program to create\n",
    "# a data type object\n",
    "import numpy as np\n",
    " \n",
    "# Integer datatype\n",
    "# guessed by Numpy\n",
    "x = np.array([1, 2])  \n",
    "print(\"Integer Datatype: \")\n",
    "print(x.dtype)         \n",
    " \n",
    "# Float datatype\n",
    "# guessed by Numpy\n",
    "x = np.array([1.0, 2.0]) \n",
    "print(\"\\nFloat Datatype: \")\n",
    "print(x.dtype)  \n",
    " \n",
    "# Forced Datatype\n",
    "x = np.array([1.0, 2.0], dtype = np.int64)   \n",
    "print(\"\\nForcing a Datatype: \")\n",
    "print(x.dtype)"
   ]
  },
  {
   "cell_type": "raw",
   "id": "b03e7461",
   "metadata": {},
   "source": [
    "Math Operations on DataType array\n",
    "\n",
    "In Numpy arrays, basic mathematical operations are performed element-wise on the array. These operations are applied both as operator overloads and as functions. Many useful functions are provided in Numpy for performing computations on Arrays such as sum: for addition of Array elements, T: for Transpose of elements, etc."
   ]
  },
  {
   "cell_type": "code",
   "execution_count": 34,
   "id": "7fcd5af1",
   "metadata": {},
   "outputs": [
    {
     "name": "stdout",
     "output_type": "stream",
     "text": [
      "[[4. 7.]\n",
      " [2. 6.]]\n",
      "\n",
      "\n",
      "[[3. 6.]\n",
      " [2. 8.]]\n",
      "Addition of Two Arrays: \n",
      "[[ 7. 13.]\n",
      " [ 4. 14.]]\n",
      "\n",
      "Addition of Array elements: \n",
      "19.0\n",
      "\n",
      "Square root of Array1 elements: \n",
      "[[2.         2.64575131]\n",
      " [1.41421356 2.44948974]]\n",
      "\n",
      "Transpose of Array: \n",
      "[[4. 2.]\n",
      " [7. 6.]]\n"
     ]
    }
   ],
   "source": [
    "# Python Program to create\n",
    "# a data type object\n",
    "import numpy as np\n",
    " \n",
    "# First Array\n",
    "arr1 = np.array([[4, 7], [2, 6]], \n",
    "                 dtype = np.float64)\n",
    "                  \n",
    "# Second Array\n",
    "arr2 = np.array([[3, 6], [2, 8]], \n",
    "                 dtype = np.float64) \n",
    "\n",
    "print(arr1)\n",
    "print(\"\\n\")\n",
    "print(arr2)\n",
    "# Addition of two Arrays\n",
    "Sum = np.add(arr1, arr2)\n",
    "print(\"Addition of Two Arrays: \")\n",
    "print(Sum)\n",
    " \n",
    "# Addition of all Array elements\n",
    "# using predefined sum method\n",
    "Sum1 = np.sum(arr1)\n",
    "print(\"\\nAddition of Array elements: \")\n",
    "print(Sum1)\n",
    " \n",
    "# Square root of Array\n",
    "Sqrt = np.sqrt(arr1)\n",
    "print(\"\\nSquare root of Array1 elements: \")\n",
    "print(Sqrt)\n",
    " \n",
    "# Transpose of Array\n",
    "# using In-built function 'T'\n",
    "Trans_arr = arr1.T\n",
    "print(\"\\nTranspose of Array: \")\n",
    "print(Trans_arr)"
   ]
  },
  {
   "cell_type": "code",
   "execution_count": 35,
   "id": "f4ee6703",
   "metadata": {},
   "outputs": [
    {
     "name": "stdout",
     "output_type": "stream",
     "text": [
      "type is:  <class 'numpy.ndarray'>\n",
      "dtype is:  int32\n"
     ]
    }
   ],
   "source": [
    "# Python program to differentiate\n",
    "# between type and dtype.\n",
    "import numpy as np\n",
    "\n",
    "a = np.array([1])\n",
    "\n",
    "print(\"type is: \",type(a))\n",
    "print(\"dtype is: \",a.dtype)"
   ]
  },
  {
   "cell_type": "raw",
   "id": "46ffb21f",
   "metadata": {},
   "source": [
    "# Methods in Numpy\n",
    "\n",
    "The list may keep on updating in time to come with newer versions...\n",
    "\n",
    "all()\n",
    "any()\n",
    "take()\n",
    "put()\n",
    "apply_along_axis()\n",
    "apply_over_axes()\n",
    "argmin()\n",
    "argmax()\n",
    "nanargmin()\n",
    "nanargmax()\n",
    "amax()\n",
    "amin()\n",
    "insert()\n",
    "delete()\n",
    "append()\n",
    "around()\n",
    "flip()\n",
    "fliplr()\n",
    "flipud()\n",
    "triu()\n",
    "tril()\n",
    "tri()\n",
    "empty()\n",
    "empty_like()\n",
    "zeros()\n",
    "zeros_like()\n",
    "ones()\n",
    "ones_like()\n",
    "full_like()\n",
    "diag()\n",
    "diagflat()\n",
    "diag_indices()\n",
    "asmatrix()\n",
    "bmat()\n",
    "eye()\n",
    "roll()\n",
    "identity()\n",
    "arange()\n",
    "place()\n",
    "extract()\n",
    "compress()\n",
    "rot90()\n",
    "tile()\n",
    "reshape()\n",
    "ravel()\n",
    "isinf()\n",
    "isrealobj()\n",
    "isscalar()\n",
    "isneginf()\n",
    "isposinf()\n",
    "iscomplex()\n",
    "isnan()\n",
    "iscomplexobj()\n",
    "isreal()\n",
    "isfinite()\n",
    "isfortran()\n",
    "exp()\n",
    "exp2()\n",
    "fix()\n",
    "hypot()\n",
    "absolute()\n",
    "ceil()\n",
    "floor()\n",
    "degrees()\n",
    "radians()\n",
    "npv()\n",
    "fv()\n",
    "pv()\n",
    "power()\n",
    "float_power()\n",
    "log()\n",
    "log1()\n",
    "log2()\n",
    "log10()\n",
    "dot()\n",
    "vdot()\n",
    "trunc()\n",
    "divide()\n",
    "floor_divide()\n",
    "true_divide()\n",
    "random.rand()\n",
    "random.randn()\n",
    "ndarray.flat()\n",
    "expm1()\n",
    "bincount()\n",
    "rint()\n",
    "equal()\n",
    "not_equal()\n",
    "less()\n",
    "less_equal()\n",
    "greater()\n",
    "greater_equal()\n",
    "prod()\n",
    "square()\n",
    "cbrt()\n",
    "logical_or()\n",
    "logical_and()\n",
    "logical_not()\n",
    "logical_xor()\n",
    "array_equal()\n",
    "array_equiv()\n",
    "sin()\n",
    "cos()\n",
    "tan()\n",
    "sinh()\n",
    "cosh()\n",
    "tanh()\n",
    "arcsin()\n",
    "arccos()\n",
    "arctan()\n",
    "arctan2()"
   ]
  },
  {
   "cell_type": "markdown",
   "id": "5ddab884",
   "metadata": {},
   "source": [
    "# More practice exapmles, which can exercise upon...."
   ]
  },
  {
   "cell_type": "code",
   "execution_count": 36,
   "id": "14d1ecce",
   "metadata": {},
   "outputs": [],
   "source": [
    "import time \n",
    "import sys"
   ]
  },
  {
   "cell_type": "code",
   "execution_count": 37,
   "id": "fd3c30ef",
   "metadata": {},
   "outputs": [],
   "source": [
    "b = range (10000)"
   ]
  },
  {
   "cell_type": "code",
   "execution_count": 38,
   "id": "80133cc0",
   "metadata": {},
   "outputs": [
    {
     "data": {
      "text/plain": [
       "10000"
      ]
     },
     "execution_count": 38,
     "metadata": {},
     "output_type": "execute_result"
    }
   ],
   "source": [
    "len(b)"
   ]
  },
  {
   "cell_type": "code",
   "execution_count": 39,
   "id": "4f9ad163",
   "metadata": {},
   "outputs": [
    {
     "data": {
      "text/plain": [
       "28"
      ]
     },
     "execution_count": 39,
     "metadata": {},
     "output_type": "execute_result"
    }
   ],
   "source": [
    "sys.getsizeof(5)"
   ]
  },
  {
   "cell_type": "code",
   "execution_count": 40,
   "id": "65e6affd",
   "metadata": {},
   "outputs": [
    {
     "name": "stdout",
     "output_type": "stream",
     "text": [
      "280000\n"
     ]
    }
   ],
   "source": [
    "print(sys.getsizeof(5) * len(b))"
   ]
  },
  {
   "cell_type": "code",
   "execution_count": 45,
   "id": "156ef735",
   "metadata": {},
   "outputs": [
    {
     "data": {
      "text/plain": [
       "48"
      ]
     },
     "execution_count": 45,
     "metadata": {},
     "output_type": "execute_result"
    }
   ],
   "source": [
    "sys.getsizeof(b) # try giving any whole number, zero , float & any negative value"
   ]
  },
  {
   "cell_type": "code",
   "execution_count": 46,
   "id": "a97db0b5",
   "metadata": {},
   "outputs": [
    {
     "name": "stdout",
     "output_type": "stream",
     "text": [
      "40000\n"
     ]
    }
   ],
   "source": [
    "import numpy as np\n",
    "c = np.arange(10000) # arrange will take only positive integer value\n",
    "print (c.size*c.itemsize)"
   ]
  },
  {
   "cell_type": "code",
   "execution_count": 47,
   "id": "38354f68",
   "metadata": {},
   "outputs": [
    {
     "data": {
      "text/plain": [
       "4"
      ]
     },
     "execution_count": 47,
     "metadata": {},
     "output_type": "execute_result"
    }
   ],
   "source": [
    "c.itemsize"
   ]
  },
  {
   "cell_type": "code",
   "execution_count": 48,
   "id": "e276bc1f",
   "metadata": {},
   "outputs": [
    {
     "data": {
      "text/plain": [
       "array([   0,    1,    2, ..., 9997, 9998, 9999])"
      ]
     },
     "execution_count": 48,
     "metadata": {},
     "output_type": "execute_result"
    }
   ],
   "source": [
    "c"
   ]
  },
  {
   "cell_type": "code",
   "execution_count": 49,
   "id": "3ed3606a",
   "metadata": {},
   "outputs": [
    {
     "data": {
      "text/plain": [
       "4"
      ]
     },
     "execution_count": 49,
     "metadata": {},
     "output_type": "execute_result"
    }
   ],
   "source": [
    "c.itemsize #The size given by itemsize function is the size at memory location in bytes..."
   ]
  },
  {
   "cell_type": "code",
   "execution_count": 50,
   "id": "b8fdf8e6",
   "metadata": {},
   "outputs": [
    {
     "data": {
      "text/plain": [
       "10000"
      ]
     },
     "execution_count": 50,
     "metadata": {},
     "output_type": "execute_result"
    }
   ],
   "source": [
    "c.size"
   ]
  },
  {
   "cell_type": "code",
   "execution_count": 51,
   "id": "cdacb96e",
   "metadata": {},
   "outputs": [
    {
     "name": "stdout",
     "output_type": "stream",
     "text": [
      "<class 'numpy.ndarray'>\n"
     ]
    }
   ],
   "source": [
    "# check the array\n",
    "\n",
    "print(type(c))"
   ]
  },
  {
   "cell_type": "markdown",
   "id": "8e93f4ff",
   "metadata": {},
   "source": [
    "### Example of Array takes less time than list"
   ]
  },
  {
   "cell_type": "code",
   "execution_count": 52,
   "id": "25cb1c3b",
   "metadata": {},
   "outputs": [],
   "source": [
    "size = 10000\n",
    "L1 = range(size)\n",
    "L2 = range(size)\n",
    "A1 = np.arange(size)\n",
    "A2 = np.arange(size)"
   ]
  },
  {
   "cell_type": "code",
   "execution_count": 53,
   "id": "104f0207",
   "metadata": {},
   "outputs": [
    {
     "data": {
      "text/plain": [
       "range(0, 10000)"
      ]
     },
     "execution_count": 53,
     "metadata": {},
     "output_type": "execute_result"
    }
   ],
   "source": [
    "L1"
   ]
  },
  {
   "cell_type": "code",
   "execution_count": 54,
   "id": "56f2bf17",
   "metadata": {},
   "outputs": [
    {
     "data": {
      "text/plain": [
       "array([   0,    1,    2, ..., 9997, 9998, 9999])"
      ]
     },
     "execution_count": 54,
     "metadata": {},
     "output_type": "execute_result"
    }
   ],
   "source": [
    "A1"
   ]
  },
  {
   "cell_type": "code",
   "execution_count": 55,
   "id": "82cff8c4",
   "metadata": {},
   "outputs": [
    {
     "name": "stdout",
     "output_type": "stream",
     "text": [
      "Python List took: 0.2989530563354492\n"
     ]
    }
   ],
   "source": [
    "start = time.time() #at the end you can check time it takes\n",
    "result = [(x+y) for x,y in zip(L1,L2)]\n",
    "#print (result)\n",
    "print(\"Python List took:\", (time.time() - start)*100)"
   ]
  },
  {
   "cell_type": "code",
   "execution_count": 56,
   "id": "a72df811",
   "metadata": {},
   "outputs": [
    {
     "name": "stdout",
     "output_type": "stream",
     "text": [
      "[    0     2     4 ... 19994 19996 19998]\n",
      "Numpy Array took: 0.14994144439697266\n"
     ]
    }
   ],
   "source": [
    "start = time.time()\n",
    "result = A1 + A2\n",
    "print (result)\n",
    "print(\"Numpy Array took:\", (time.time() - start)*100)"
   ]
  },
  {
   "cell_type": "code",
   "execution_count": 58,
   "id": "5e20bb74",
   "metadata": {},
   "outputs": [
    {
     "data": {
      "text/plain": [
       "array([[ 1,  2],\n",
       "       [ 3,  4],\n",
       "       [ 5,  6],\n",
       "       [ 9, 10]])"
      ]
     },
     "execution_count": 58,
     "metadata": {},
     "output_type": "execute_result"
    }
   ],
   "source": [
    "import numpy as np\n",
    "a = np.array([[1,2],[3,4],[5,6],[9,10]])\n",
    "a"
   ]
  },
  {
   "cell_type": "code",
   "execution_count": 59,
   "id": "807b4d18",
   "metadata": {},
   "outputs": [
    {
     "data": {
      "text/plain": [
       "(4, 2)"
      ]
     },
     "execution_count": 59,
     "metadata": {},
     "output_type": "execute_result"
    }
   ],
   "source": [
    "a.shape"
   ]
  },
  {
   "cell_type": "code",
   "execution_count": 60,
   "id": "db601de7",
   "metadata": {},
   "outputs": [
    {
     "data": {
      "text/plain": [
       "2"
      ]
     },
     "execution_count": 60,
     "metadata": {},
     "output_type": "execute_result"
    }
   ],
   "source": [
    "a.ndim"
   ]
  },
  {
   "cell_type": "code",
   "execution_count": 61,
   "id": "ac5cbd66",
   "metadata": {},
   "outputs": [
    {
     "data": {
      "text/plain": [
       "4"
      ]
     },
     "execution_count": 61,
     "metadata": {},
     "output_type": "execute_result"
    }
   ],
   "source": [
    "a.itemsize"
   ]
  },
  {
   "cell_type": "code",
   "execution_count": 63,
   "id": "63bb9bac",
   "metadata": {},
   "outputs": [
    {
     "name": "stdout",
     "output_type": "stream",
     "text": [
      "4\n"
     ]
    }
   ],
   "source": [
    "# importing the array module\n",
    "import array as arr\n",
    "\n",
    "# creating an integer data type array\n",
    "x = arr.array('i', [1,2,3,4,5,6,7])\n",
    "\n",
    "# using itemsize function \n",
    "print(x.itemsize)          #The size given by itemsize function is the size at memory location in bytes..."
   ]
  },
  {
   "cell_type": "code",
   "execution_count": 64,
   "id": "18c167ef",
   "metadata": {},
   "outputs": [
    {
     "data": {
      "text/plain": [
       "array([[0., 0., 0., 0.],\n",
       "       [0., 0., 0., 0.],\n",
       "       [0., 0., 0., 0.]])"
      ]
     },
     "execution_count": 64,
     "metadata": {},
     "output_type": "execute_result"
    }
   ],
   "source": [
    "np.zeros((3,4))"
   ]
  },
  {
   "cell_type": "code",
   "execution_count": 65,
   "id": "13c51119",
   "metadata": {},
   "outputs": [
    {
     "name": "stderr",
     "output_type": "stream",
     "text": [
      "C:\\Users\\Pranav\\AppData\\Local\\Temp/ipykernel_23284/1207795164.py:1: DeprecationWarning: `np.complex` is a deprecated alias for the builtin `complex`. To silence this warning, use `complex` by itself. Doing this will not modify any behavior and is safe. If you specifically wanted the numpy scalar type, use `np.complex128` here.\n",
      "Deprecated in NumPy 1.20; for more details and guidance: https://numpy.org/devdocs/release/1.20.0-notes.html#deprecations\n",
      "  a = np.array([[1,2],[3,4],[5,6]], dtype = np.complex)\n"
     ]
    },
    {
     "data": {
      "text/plain": [
       "array([[1.+0.j, 2.+0.j],\n",
       "       [3.+0.j, 4.+0.j],\n",
       "       [5.+0.j, 6.+0.j]])"
      ]
     },
     "execution_count": 65,
     "metadata": {},
     "output_type": "execute_result"
    }
   ],
   "source": [
    "a = np.array([[1,2],[3,4],[5,6]], dtype = np.complex)\n",
    "a"
   ]
  },
  {
   "cell_type": "code",
   "execution_count": 66,
   "id": "d09b19c0",
   "metadata": {},
   "outputs": [
    {
     "data": {
      "text/plain": [
       "range(0, 5)"
      ]
     },
     "execution_count": 66,
     "metadata": {},
     "output_type": "execute_result"
    }
   ],
   "source": [
    "L = range(5)\n",
    "L"
   ]
  },
  {
   "cell_type": "code",
   "execution_count": 67,
   "id": "153ecc3f",
   "metadata": {},
   "outputs": [
    {
     "data": {
      "text/plain": [
       "array([0, 1, 2, 3, 4])"
      ]
     },
     "execution_count": 67,
     "metadata": {},
     "output_type": "execute_result"
    }
   ],
   "source": [
    "np.arange(5)"
   ]
  },
  {
   "cell_type": "code",
   "execution_count": 68,
   "id": "a38ab1d7",
   "metadata": {},
   "outputs": [
    {
     "name": "stdout",
     "output_type": "stream",
     "text": [
      "Concatination example:\n",
      "['helloabc' 'hixyz']\n"
     ]
    }
   ],
   "source": [
    "print(\"Concatination example:\")\n",
    "print(np.char.add([\"hello\", \"hi\"], [\"abc\",\"xyz\"]))"
   ]
  },
  {
   "cell_type": "code",
   "execution_count": 69,
   "id": "a77e1133",
   "metadata": {},
   "outputs": [
    {
     "data": {
      "text/plain": [
       "array('hello hello hello ', dtype='<U18')"
      ]
     },
     "execution_count": 69,
     "metadata": {},
     "output_type": "execute_result"
    }
   ],
   "source": [
    "np.char.multiply(\"hello \" , 3)"
   ]
  },
  {
   "cell_type": "code",
   "execution_count": 70,
   "id": "75d01d0b",
   "metadata": {},
   "outputs": [
    {
     "name": "stdout",
     "output_type": "stream",
     "text": [
      "hello hello hello \n"
     ]
    }
   ],
   "source": [
    "print(np.char.multiply(\"hello \" , 3))"
   ]
  },
  {
   "cell_type": "code",
   "execution_count": 71,
   "id": "bf52d179",
   "metadata": {},
   "outputs": [
    {
     "name": "stdout",
     "output_type": "stream",
     "text": [
      "       hello        \n"
     ]
    }
   ],
   "source": [
    "print(np.char.center(\"hello\" , 20))"
   ]
  },
  {
   "cell_type": "code",
   "execution_count": 72,
   "id": "0e3660e1",
   "metadata": {},
   "outputs": [
    {
     "name": "stdout",
     "output_type": "stream",
     "text": [
      "-------hello--------\n"
     ]
    }
   ],
   "source": [
    "print(np.char.center(\"hello\" , 20 , fillchar = \"-\"))"
   ]
  },
  {
   "cell_type": "code",
   "execution_count": 73,
   "id": "4c58735b",
   "metadata": {},
   "outputs": [
    {
     "name": "stdout",
     "output_type": "stream",
     "text": [
      "Hello world\n"
     ]
    }
   ],
   "source": [
    "print(np.char.capitalize(\"hello world\"))"
   ]
  },
  {
   "cell_type": "code",
   "execution_count": 74,
   "id": "645be12a",
   "metadata": {},
   "outputs": [
    {
     "name": "stdout",
     "output_type": "stream",
     "text": [
      "How Are We Doing\n"
     ]
    }
   ],
   "source": [
    "print(np.char.title(\"how are we doing\"))"
   ]
  },
  {
   "cell_type": "code",
   "execution_count": 75,
   "id": "3f3c4c44",
   "metadata": {},
   "outputs": [
    {
     "name": "stdout",
     "output_type": "stream",
     "text": [
      "hello world\n",
      "['hello' 'world']\n"
     ]
    }
   ],
   "source": [
    "print(np.char.lower(\"HELLO WORLD\"))\n",
    "print(np.char.lower([\"HELLO\" , \"WORLD\"]))"
   ]
  },
  {
   "cell_type": "code",
   "execution_count": 76,
   "id": "71a0e08e",
   "metadata": {},
   "outputs": [
    {
     "name": "stdout",
     "output_type": "stream",
     "text": [
      "HELLO WORLD\n",
      "['HELLO' 'WORLD']\n"
     ]
    }
   ],
   "source": [
    "print(np.char.upper(\"hello world\"))\n",
    "print(np.char.upper([\"hello\" , \"world\"]))"
   ]
  },
  {
   "cell_type": "code",
   "execution_count": 77,
   "id": "d8dee700",
   "metadata": {},
   "outputs": [
    {
     "name": "stdout",
     "output_type": "stream",
     "text": [
      "['are', 'you', 'coming', 'to', 'the', 'party']\n"
     ]
    }
   ],
   "source": [
    "print(np.char.split(\"are you coming to the party\"))"
   ]
  },
  {
   "cell_type": "code",
   "execution_count": 78,
   "id": "2c0c65cc",
   "metadata": {},
   "outputs": [
    {
     "name": "stdout",
     "output_type": "stream",
     "text": [
      "['are you', 'coming to the party']\n"
     ]
    }
   ],
   "source": [
    "print(np.char.splitlines(\"are you\\ncoming to the party\"))"
   ]
  },
  {
   "cell_type": "code",
   "execution_count": 79,
   "id": "1f49141b",
   "metadata": {},
   "outputs": [
    {
     "name": "stdout",
     "output_type": "stream",
     "text": [
      "['nain' 'pranav' 'kash']\n"
     ]
    }
   ],
   "source": [
    "print(np.char.strip(['naina', 'pranav', 'akash'], 'a'))"
   ]
  },
  {
   "cell_type": "code",
   "execution_count": 80,
   "id": "51896fc5",
   "metadata": {},
   "outputs": [
    {
     "name": "stdout",
     "output_type": "stream",
     "text": [
      "['d:m:y' 'y-m-d']\n"
     ]
    }
   ],
   "source": [
    "print(np.char.join([\":\" , \"-\"], [\"dmy\", \"ymd\"]))"
   ]
  },
  {
   "cell_type": "code",
   "execution_count": 81,
   "id": "929df20c",
   "metadata": {},
   "outputs": [
    {
     "name": "stdout",
     "output_type": "stream",
     "text": [
      "he was a good dancer\n"
     ]
    }
   ],
   "source": [
    "print(np.char.replace(\"he is a good dancer\", \"is\", \"was\"))"
   ]
  },
  {
   "cell_type": "markdown",
   "id": "9e553595",
   "metadata": {},
   "source": [
    "# Array Manipulation"
   ]
  },
  {
   "cell_type": "code",
   "execution_count": 82,
   "id": "78b6d027",
   "metadata": {},
   "outputs": [
    {
     "name": "stdout",
     "output_type": "stream",
     "text": [
      "The original array:\n",
      "[0 1 2 3 4 5 6 7 8]\n"
     ]
    }
   ],
   "source": [
    "import numpy as np\n",
    "\n",
    "a = np.arange(9)\n",
    "print(\"The original array:\")\n",
    "print(a)"
   ]
  },
  {
   "cell_type": "code",
   "execution_count": 85,
   "id": "38581cc5",
   "metadata": {},
   "outputs": [
    {
     "name": "stdout",
     "output_type": "stream",
     "text": [
      "The original array:\n",
      "[0 1 2 3 4 5 6 7 8]\n",
      "\n",
      "(9,)\n",
      "\n",
      "The modified array:\n",
      "[[0 1 2]\n",
      " [3 4 5]\n",
      " [6 7 8]]\n",
      "\n",
      "(3, 3)\n"
     ]
    }
   ],
   "source": [
    "import numpy as np\n",
    "\n",
    "a = np.arange(9)\n",
    "print(\"The original array:\")\n",
    "print(a) #Flatn one dimentional array\n",
    "print()\n",
    "print(a.shape)\n",
    "print() #print a blank line in between\n",
    "\n",
    "b = a.reshape(3,3) #also try with (5,3) that shall give error\n",
    "print(\"The modified array:\")\n",
    "print(b) #Two dimensional array\n",
    "print()\n",
    "print(b.shape)"
   ]
  },
  {
   "cell_type": "code",
   "execution_count": 86,
   "id": "2089d94c",
   "metadata": {},
   "outputs": [
    {
     "name": "stdout",
     "output_type": "stream",
     "text": [
      "[0 1 2 3 4 5 6 7 8]\n"
     ]
    }
   ],
   "source": [
    "print(b.flatten())"
   ]
  },
  {
   "cell_type": "code",
   "execution_count": 87,
   "id": "73d6e20f",
   "metadata": {},
   "outputs": [
    {
     "name": "stdout",
     "output_type": "stream",
     "text": [
      "[0 3 6 1 4 7 2 5 8]\n"
     ]
    }
   ],
   "source": [
    "print(b.flatten(order = 'F')) #F stands for fortran, see the documentation for other options"
   ]
  },
  {
   "cell_type": "code",
   "execution_count": 88,
   "id": "105c20b4",
   "metadata": {},
   "outputs": [
    {
     "data": {
      "text/plain": [
       "array([[ 0,  1,  2],\n",
       "       [ 3,  4,  5],\n",
       "       [ 6,  7,  8],\n",
       "       [ 9, 10, 11]])"
      ]
     },
     "execution_count": 88,
     "metadata": {},
     "output_type": "execute_result"
    }
   ],
   "source": [
    "a = np.arange(12).reshape(4,3)\n",
    "a"
   ]
  },
  {
   "cell_type": "code",
   "execution_count": 89,
   "id": "c1e36bb3",
   "metadata": {},
   "outputs": [
    {
     "data": {
      "text/plain": [
       "array([[ 0,  3,  6,  9],\n",
       "       [ 1,  4,  7, 10],\n",
       "       [ 2,  5,  8, 11]])"
      ]
     },
     "execution_count": 89,
     "metadata": {},
     "output_type": "execute_result"
    }
   ],
   "source": [
    "np.transpose(a)"
   ]
  },
  {
   "cell_type": "code",
   "execution_count": 90,
   "id": "3c20ff7b",
   "metadata": {},
   "outputs": [
    {
     "data": {
      "text/plain": [
       "array([[0, 1, 2, 3],\n",
       "       [4, 5, 6, 7]])"
      ]
     },
     "execution_count": 90,
     "metadata": {},
     "output_type": "execute_result"
    }
   ],
   "source": [
    "b = np.arange(8).reshape(2,4)\n",
    "b"
   ]
  },
  {
   "cell_type": "code",
   "execution_count": 91,
   "id": "935d70ab",
   "metadata": {},
   "outputs": [
    {
     "data": {
      "text/plain": [
       "array([[[0, 1],\n",
       "        [2, 3]],\n",
       "\n",
       "       [[4, 5],\n",
       "        [6, 7]]])"
      ]
     },
     "execution_count": 91,
     "metadata": {},
     "output_type": "execute_result"
    }
   ],
   "source": [
    "b.reshape(2,2,2) #Just for display, if you want it to make change you have to store it"
   ]
  },
  {
   "cell_type": "code",
   "execution_count": 92,
   "id": "32005cdd",
   "metadata": {},
   "outputs": [
    {
     "data": {
      "text/plain": [
       "array([[[0, 1],\n",
       "        [2, 3]],\n",
       "\n",
       "       [[4, 5],\n",
       "        [6, 7]]])"
      ]
     },
     "execution_count": 92,
     "metadata": {},
     "output_type": "execute_result"
    }
   ],
   "source": [
    "c = b.reshape(2,2,2)\n",
    "c"
   ]
  },
  {
   "cell_type": "code",
   "execution_count": 93,
   "id": "cb901db1",
   "metadata": {},
   "outputs": [
    {
     "data": {
      "text/plain": [
       "(2, 4)"
      ]
     },
     "execution_count": 93,
     "metadata": {},
     "output_type": "execute_result"
    }
   ],
   "source": [
    "b.shape"
   ]
  },
  {
   "cell_type": "code",
   "execution_count": 94,
   "id": "8dd02f7b",
   "metadata": {},
   "outputs": [
    {
     "data": {
      "text/plain": [
       "(2, 2, 2)"
      ]
     },
     "execution_count": 94,
     "metadata": {},
     "output_type": "execute_result"
    }
   ],
   "source": [
    "c.shape"
   ]
  },
  {
   "cell_type": "markdown",
   "id": "640bdc76",
   "metadata": {},
   "source": [
    "# Numpy Arithmatic Operations"
   ]
  },
  {
   "cell_type": "code",
   "execution_count": 95,
   "id": "984347b9",
   "metadata": {},
   "outputs": [
    {
     "data": {
      "text/plain": [
       "array([[0, 1, 2],\n",
       "       [3, 4, 5],\n",
       "       [6, 7, 8]])"
      ]
     },
     "execution_count": 95,
     "metadata": {},
     "output_type": "execute_result"
    }
   ],
   "source": [
    "a = np.arange(9).reshape(3,3)\n",
    "a"
   ]
  },
  {
   "cell_type": "code",
   "execution_count": 100,
   "id": "1fe7c57a",
   "metadata": {},
   "outputs": [
    {
     "data": {
      "text/plain": [
       "array([10, 10, 10])"
      ]
     },
     "execution_count": 100,
     "metadata": {},
     "output_type": "execute_result"
    }
   ],
   "source": [
    "b = np.array([10,10,10])\n",
    "b"
   ]
  },
  {
   "cell_type": "code",
   "execution_count": 101,
   "id": "f4c793b0",
   "metadata": {},
   "outputs": [
    {
     "data": {
      "text/plain": [
       "array([[10, 11, 12],\n",
       "       [13, 14, 15],\n",
       "       [16, 17, 18]])"
      ]
     },
     "execution_count": 101,
     "metadata": {},
     "output_type": "execute_result"
    }
   ],
   "source": [
    "np.add(a,b)"
   ]
  },
  {
   "cell_type": "code",
   "execution_count": 102,
   "id": "3552e0b1",
   "metadata": {},
   "outputs": [
    {
     "data": {
      "text/plain": [
       "array([10, 11, 12])"
      ]
     },
     "execution_count": 102,
     "metadata": {},
     "output_type": "execute_result"
    }
   ],
   "source": [
    "b = np.array([10,11,12]) #change the valuse and see the result in following \n",
    "b"
   ]
  },
  {
   "cell_type": "code",
   "execution_count": 103,
   "id": "d3d14df7",
   "metadata": {},
   "outputs": [
    {
     "data": {
      "text/plain": [
       "array([[10, 12, 14],\n",
       "       [13, 15, 17],\n",
       "       [16, 18, 20]])"
      ]
     },
     "execution_count": 103,
     "metadata": {},
     "output_type": "execute_result"
    }
   ],
   "source": [
    "np.add(a,b)"
   ]
  },
  {
   "cell_type": "code",
   "execution_count": 104,
   "id": "0cf6e882",
   "metadata": {},
   "outputs": [
    {
     "data": {
      "text/plain": [
       "array([[-10, -10, -10],\n",
       "       [ -7,  -7,  -7],\n",
       "       [ -4,  -4,  -4]])"
      ]
     },
     "execution_count": 104,
     "metadata": {},
     "output_type": "execute_result"
    }
   ],
   "source": [
    "np.subtract(a,b)"
   ]
  },
  {
   "cell_type": "code",
   "execution_count": 105,
   "id": "deebd542",
   "metadata": {},
   "outputs": [
    {
     "data": {
      "text/plain": [
       "array([[ 0, 11, 24],\n",
       "       [30, 44, 60],\n",
       "       [60, 77, 96]])"
      ]
     },
     "execution_count": 105,
     "metadata": {},
     "output_type": "execute_result"
    }
   ],
   "source": [
    "np.multiply(a,b)"
   ]
  },
  {
   "cell_type": "code",
   "execution_count": 106,
   "id": "f399cd11",
   "metadata": {},
   "outputs": [
    {
     "data": {
      "text/plain": [
       "array([[0.        , 0.09090909, 0.16666667],\n",
       "       [0.3       , 0.36363636, 0.41666667],\n",
       "       [0.6       , 0.63636364, 0.66666667]])"
      ]
     },
     "execution_count": 106,
     "metadata": {},
     "output_type": "execute_result"
    }
   ],
   "source": [
    "np.divide(a,b)"
   ]
  },
  {
   "cell_type": "markdown",
   "id": "26ebfa85",
   "metadata": {},
   "source": [
    "# Slicing (Sections of Array)"
   ]
  },
  {
   "cell_type": "code",
   "execution_count": 107,
   "id": "99049bdc",
   "metadata": {},
   "outputs": [
    {
     "data": {
      "text/plain": [
       "array([ 0,  1,  2,  3,  4,  5,  6,  7,  8,  9, 10, 11, 12, 13, 14, 15, 16,\n",
       "       17, 18, 19])"
      ]
     },
     "execution_count": 107,
     "metadata": {},
     "output_type": "execute_result"
    }
   ],
   "source": [
    "a = np.arange(20)\n",
    "a"
   ]
  },
  {
   "cell_type": "code",
   "execution_count": 108,
   "id": "09ad65b1",
   "metadata": {},
   "outputs": [
    {
     "data": {
      "text/plain": [
       "array([ 4,  5,  6,  7,  8,  9, 10, 11, 12, 13, 14, 15, 16, 17, 18, 19])"
      ]
     },
     "execution_count": 108,
     "metadata": {},
     "output_type": "execute_result"
    }
   ],
   "source": [
    "a[4:]"
   ]
  },
  {
   "cell_type": "code",
   "execution_count": 109,
   "id": "f9a5370d",
   "metadata": {},
   "outputs": [
    {
     "data": {
      "text/plain": [
       "array([0, 1, 2, 3])"
      ]
     },
     "execution_count": 109,
     "metadata": {},
     "output_type": "execute_result"
    }
   ],
   "source": [
    "a[:4]"
   ]
  },
  {
   "cell_type": "code",
   "execution_count": 110,
   "id": "fec85d59",
   "metadata": {},
   "outputs": [
    {
     "data": {
      "text/plain": [
       "5"
      ]
     },
     "execution_count": 110,
     "metadata": {},
     "output_type": "execute_result"
    }
   ],
   "source": [
    "a[5]"
   ]
  },
  {
   "cell_type": "code",
   "execution_count": 111,
   "id": "c03eb5c7",
   "metadata": {},
   "outputs": [
    {
     "data": {
      "text/plain": [
       "array([2, 4, 6, 8])"
      ]
     },
     "execution_count": 111,
     "metadata": {},
     "output_type": "execute_result"
    }
   ],
   "source": [
    "s = slice (2,9,2) #slice with difference of 2\n",
    "a[s]"
   ]
  },
  {
   "cell_type": "code",
   "execution_count": 112,
   "id": "d1336960",
   "metadata": {},
   "outputs": [
    {
     "data": {
      "text/plain": [
       "array([2, 5, 8])"
      ]
     },
     "execution_count": 112,
     "metadata": {},
     "output_type": "execute_result"
    }
   ],
   "source": [
    "s = slice (2,9,3) #slice with difference of 3\n",
    "a[s]"
   ]
  },
  {
   "cell_type": "code",
   "execution_count": 113,
   "id": "a421ff8f",
   "metadata": {},
   "outputs": [
    {
     "data": {
      "text/plain": [
       "array([ 2,  5,  8, 11])"
      ]
     },
     "execution_count": 113,
     "metadata": {},
     "output_type": "execute_result"
    }
   ],
   "source": [
    "s = slice (2,12,3) #slice with difference of 3 between 2 and 12\n",
    "a[s]"
   ]
  },
  {
   "cell_type": "markdown",
   "id": "ffeef485",
   "metadata": {},
   "source": [
    "# Iterating Over Array"
   ]
  },
  {
   "cell_type": "code",
   "execution_count": 114,
   "id": "c97176a3",
   "metadata": {},
   "outputs": [
    {
     "data": {
      "text/plain": [
       "array([ 0,  5, 10, 15, 20, 25, 30, 35, 40])"
      ]
     },
     "execution_count": 114,
     "metadata": {},
     "output_type": "execute_result"
    }
   ],
   "source": [
    "a = np.arange(0, 45, 5) #create an array within a range with a step 5\n",
    "a"
   ]
  },
  {
   "cell_type": "code",
   "execution_count": 115,
   "id": "a7385b57",
   "metadata": {},
   "outputs": [
    {
     "data": {
      "text/plain": [
       "array([[ 0,  5, 10],\n",
       "       [15, 20, 25],\n",
       "       [30, 35, 40]])"
      ]
     },
     "execution_count": 115,
     "metadata": {},
     "output_type": "execute_result"
    }
   ],
   "source": [
    "a = a.reshape(3,3)\n",
    "a"
   ]
  },
  {
   "cell_type": "code",
   "execution_count": 116,
   "id": "2f84dc9c",
   "metadata": {},
   "outputs": [
    {
     "name": "stdout",
     "output_type": "stream",
     "text": [
      "0\n",
      "5\n",
      "10\n",
      "15\n",
      "20\n",
      "25\n",
      "30\n",
      "35\n",
      "40\n"
     ]
    }
   ],
   "source": [
    "for x in np.nditer(a):\n",
    "    print(x)"
   ]
  },
  {
   "cell_type": "markdown",
   "id": "e99d9b76",
   "metadata": {},
   "source": [
    "# Iteration order (C-Style and F-Style) f - fortran"
   ]
  },
  {
   "cell_type": "code",
   "execution_count": 117,
   "id": "9b29e003",
   "metadata": {},
   "outputs": [
    {
     "name": "stdout",
     "output_type": "stream",
     "text": [
      "[[ 0  5 10]\n",
      " [15 20 25]\n",
      " [30 35 40]]\n",
      "0\n",
      "5\n",
      "10\n",
      "15\n",
      "20\n",
      "25\n",
      "30\n",
      "35\n",
      "40\n",
      "\n",
      "0\n",
      "15\n",
      "30\n",
      "5\n",
      "20\n",
      "35\n",
      "10\n",
      "25\n",
      "40\n"
     ]
    }
   ],
   "source": [
    "print(a)\n",
    "for x in np.nditer(a, order = \"c\"):\n",
    "    print(x)\n",
    "print()    \n",
    "for x in np.nditer(a, order = \"F\"):\n",
    "    print(x)"
   ]
  },
  {
   "cell_type": "markdown",
   "id": "bdc93c51",
   "metadata": {},
   "source": [
    "# Joining Arrays"
   ]
  },
  {
   "cell_type": "code",
   "execution_count": 118,
   "id": "42cf02b0",
   "metadata": {},
   "outputs": [
    {
     "name": "stdout",
     "output_type": "stream",
     "text": [
      "First Array\n",
      "[[1 2]\n",
      " [3 4]]\n",
      "Second Array\n",
      "[[5 6]\n",
      " [7 8]]\n",
      "\n",
      "\n",
      "Joining the Two Arrays along axis 0:\n",
      "[[1 2]\n",
      " [3 4]\n",
      " [5 6]\n",
      " [7 8]]\n",
      "\n",
      "\n",
      "Joining the Two Arrays along axis 1:\n",
      "[[1 2 5 6]\n",
      " [3 4 7 8]]\n"
     ]
    }
   ],
   "source": [
    "a = np.array([[1,2],[3,4]])\n",
    "print(\"First Array\")\n",
    "print(a)\n",
    "b = np.array([[5,6],[7,8]])\n",
    "print(\"Second Array\")\n",
    "print(b)\n",
    "print('\\n')\n",
    "print('Joining the Two Arrays along axis 0:')\n",
    "print(np.concatenate((a,b)))\n",
    "print('\\n')\n",
    "print('Joining the Two Arrays along axis 1:')\n",
    "print(np.concatenate((a,b), axis =1))"
   ]
  },
  {
   "cell_type": "code",
   "execution_count": 119,
   "id": "158d937a",
   "metadata": {},
   "outputs": [
    {
     "name": "stdout",
     "output_type": "stream",
     "text": [
      "First Array\n",
      "[[1 2 3]\n",
      " [3 4 5]]\n",
      "Second Array\n",
      "[[5 6]\n",
      " [7 8]]\n",
      "\n",
      "\n",
      "Joining the Two Arrays along axis 0:\n"
     ]
    },
    {
     "ename": "ValueError",
     "evalue": "all the input array dimensions for the concatenation axis must match exactly, but along dimension 1, the array at index 0 has size 3 and the array at index 1 has size 2",
     "output_type": "error",
     "traceback": [
      "\u001b[1;31m---------------------------------------------------------------------------\u001b[0m",
      "\u001b[1;31mValueError\u001b[0m                                Traceback (most recent call last)",
      "\u001b[1;32m~\\AppData\\Local\\Temp/ipykernel_23284/2163235045.py\u001b[0m in \u001b[0;36m<module>\u001b[1;34m\u001b[0m\n\u001b[0;32m      7\u001b[0m \u001b[0mprint\u001b[0m\u001b[1;33m(\u001b[0m\u001b[1;34m'\\n'\u001b[0m\u001b[1;33m)\u001b[0m\u001b[1;33m\u001b[0m\u001b[1;33m\u001b[0m\u001b[0m\n\u001b[0;32m      8\u001b[0m \u001b[0mprint\u001b[0m\u001b[1;33m(\u001b[0m\u001b[1;34m'Joining the Two Arrays along axis 0:'\u001b[0m\u001b[1;33m)\u001b[0m\u001b[1;33m\u001b[0m\u001b[1;33m\u001b[0m\u001b[0m\n\u001b[1;32m----> 9\u001b[1;33m \u001b[0mprint\u001b[0m\u001b[1;33m(\u001b[0m\u001b[0mnp\u001b[0m\u001b[1;33m.\u001b[0m\u001b[0mconcatenate\u001b[0m\u001b[1;33m(\u001b[0m\u001b[1;33m(\u001b[0m\u001b[0ma\u001b[0m\u001b[1;33m,\u001b[0m\u001b[0mb\u001b[0m\u001b[1;33m)\u001b[0m\u001b[1;33m)\u001b[0m\u001b[1;33m)\u001b[0m\u001b[1;33m\u001b[0m\u001b[1;33m\u001b[0m\u001b[0m\n\u001b[0m\u001b[0;32m     10\u001b[0m \u001b[0mprint\u001b[0m\u001b[1;33m(\u001b[0m\u001b[1;34m'\\n'\u001b[0m\u001b[1;33m)\u001b[0m\u001b[1;33m\u001b[0m\u001b[1;33m\u001b[0m\u001b[0m\n\u001b[0;32m     11\u001b[0m \u001b[0mprint\u001b[0m\u001b[1;33m(\u001b[0m\u001b[1;34m'Joining the Two Arrays along axis 1:'\u001b[0m\u001b[1;33m)\u001b[0m\u001b[1;33m\u001b[0m\u001b[1;33m\u001b[0m\u001b[0m\n",
      "\u001b[1;32m<__array_function__ internals>\u001b[0m in \u001b[0;36mconcatenate\u001b[1;34m(*args, **kwargs)\u001b[0m\n",
      "\u001b[1;31mValueError\u001b[0m: all the input array dimensions for the concatenation axis must match exactly, but along dimension 1, the array at index 0 has size 3 and the array at index 1 has size 2"
     ]
    }
   ],
   "source": [
    "a = np.array([[1,2,3],[3,4,5]]) #Error, Axis must match exactly of same size \n",
    "print(\"First Array\")\n",
    "print(a)\n",
    "b = np.array([[5,6],[7,8]])\n",
    "print(\"Second Array\")\n",
    "print(b)\n",
    "print('\\n')\n",
    "print('Joining the Two Arrays along axis 0:')\n",
    "print(np.concatenate((a,b)))\n",
    "print('\\n')\n",
    "print('Joining the Two Arrays along axis 1:')\n",
    "print(np.concatenate((a,b), axis =1))"
   ]
  },
  {
   "cell_type": "markdown",
   "id": "9b65d037",
   "metadata": {},
   "source": [
    "# Splitting Array"
   ]
  },
  {
   "cell_type": "code",
   "execution_count": 120,
   "id": "a2d20c39",
   "metadata": {},
   "outputs": [
    {
     "name": "stdout",
     "output_type": "stream",
     "text": [
      "[0 1 2 3 4 5 6 7 8]\n"
     ]
    },
    {
     "data": {
      "text/plain": [
       "[array([0, 1, 2]), array([3, 4, 5]), array([6, 7, 8])]"
      ]
     },
     "execution_count": 120,
     "metadata": {},
     "output_type": "execute_result"
    }
   ],
   "source": [
    "a = np.arange(9)\n",
    "print(a)\n",
    "np.split(a,3)"
   ]
  },
  {
   "cell_type": "code",
   "execution_count": 121,
   "id": "8215901d",
   "metadata": {},
   "outputs": [
    {
     "data": {
      "text/plain": [
       "[array([0, 1]), array([2, 3, 4, 5, 6]), array([7, 8])]"
      ]
     },
     "execution_count": 121,
     "metadata": {},
     "output_type": "execute_result"
    }
   ],
   "source": [
    "np.split(a,[2,7])"
   ]
  },
  {
   "cell_type": "code",
   "execution_count": 122,
   "id": "3e46aa98",
   "metadata": {},
   "outputs": [
    {
     "data": {
      "text/plain": [
       "[array([0, 1, 2, 3]), array([4, 5, 6]), array([7, 8])]"
      ]
     },
     "execution_count": 122,
     "metadata": {},
     "output_type": "execute_result"
    }
   ],
   "source": [
    "np.split(a,[4,7])"
   ]
  },
  {
   "cell_type": "code",
   "execution_count": 123,
   "id": "45243a82",
   "metadata": {},
   "outputs": [
    {
     "data": {
      "text/plain": [
       "[array([0, 1, 2, 3]), array([4]), array([5, 6]), array([7, 8])]"
      ]
     },
     "execution_count": 123,
     "metadata": {},
     "output_type": "execute_result"
    }
   ],
   "source": [
    "np.split(a,[4,5,7])"
   ]
  },
  {
   "cell_type": "markdown",
   "id": "1b2811cd",
   "metadata": {},
   "source": [
    "# Resizing an Array"
   ]
  },
  {
   "cell_type": "code",
   "execution_count": 124,
   "id": "23692f71",
   "metadata": {},
   "outputs": [
    {
     "name": "stdout",
     "output_type": "stream",
     "text": [
      "[[1 2 3]\n",
      " [4 5 6]]\n",
      "\n",
      "\n",
      "(2, 3)\n",
      "\n",
      "\n",
      "[[1 2]\n",
      " [3 4]\n",
      " [5 6]]\n",
      "\n",
      "(3, 2)\n",
      "\n",
      "\n",
      "[[1 2 3 4 5]\n",
      " [6 1 2 3 4]\n",
      " [5 6 1 2 3]]\n"
     ]
    },
    {
     "data": {
      "text/plain": [
       "(3, 5)"
      ]
     },
     "execution_count": 124,
     "metadata": {},
     "output_type": "execute_result"
    }
   ],
   "source": [
    "a = np.array([[1,2,3], [4,5,6]])\n",
    "print(a)\n",
    "print(\"\\n\")\n",
    "print(a.shape)\n",
    "print(\"\\n\")\n",
    "b = np.resize(a,(3,2))\n",
    "print(b)\n",
    "print()\n",
    "print(b.shape)\n",
    "print(\"\\n\")\n",
    "b = np.resize(a,(3,5)) #The diffrence between reshaping and resizing (it repeats the data)\n",
    "print(b)\n",
    "b.shape"
   ]
  },
  {
   "cell_type": "markdown",
   "id": "f71a6b2c",
   "metadata": {},
   "source": [
    "# Histogram"
   ]
  },
  {
   "cell_type": "code",
   "execution_count": 125,
   "id": "26fb7c9b",
   "metadata": {},
   "outputs": [
    {
     "data": {
      "image/png": "[encoded data removed]",
      "text/plain": [
       "<Figure size 432x288 with 1 Axes>"
      ]
     },
     "metadata": {
      "needs_background": "light"
     },
     "output_type": "display_data"
    }
   ],
   "source": [
    "from matplotlib import pyplot as plt\n",
    "a = np.array([20,87,4,40,53,74,56,51,11,20,40,15,79,25,27])\n",
    "plt.hist(a, bins = [0,20,40,60,80,100])\n",
    "plt.title(\"histogram\")\n",
    "plt.show()"
   ]
  },
  {
   "cell_type": "code",
   "execution_count": 126,
   "id": "8a582ab0",
   "metadata": {},
   "outputs": [
    {
     "data": {
      "image/png": "[encoded data removed]",
      "text/plain": [
       "<Figure size 432x288 with 1 Axes>"
      ]
     },
     "metadata": {
      "needs_background": "light"
     },
     "output_type": "display_data"
    }
   ],
   "source": [
    "plt.hist(a, bins = [0,10,20,30,40,50,60,70,80,90,100])\n",
    "plt.title(\"histogram\")\n",
    "plt.show() #Natural or normal trend or distribution can nit be seen, that's why bins or buckets are importatnt"
   ]
  },
  {
   "cell_type": "markdown",
   "id": "c9f6b664",
   "metadata": {},
   "source": [
    "# Other usefull functions in Numpy"
   ]
  },
  {
   "cell_type": "code",
   "execution_count": 127,
   "id": "4c7e0819",
   "metadata": {},
   "outputs": [
    {
     "data": {
      "text/plain": [
       "array([1.        , 1.22222222, 1.44444444, 1.66666667, 1.88888889,\n",
       "       2.11111111, 2.33333333, 2.55555556, 2.77777778, 3.        ])"
      ]
     },
     "execution_count": 127,
     "metadata": {},
     "output_type": "execute_result"
    }
   ],
   "source": [
    "# Linspace Function\n",
    "\n",
    "a = np.linspace(1,3,10) # Between 1 & 3 give 10 numbers \n",
    "a"
   ]
  },
  {
   "cell_type": "code",
   "execution_count": 128,
   "id": "03ff7e3d",
   "metadata": {},
   "outputs": [
    {
     "name": "stdout",
     "output_type": "stream",
     "text": [
      "[[1 2 3]\n",
      " [3 4 5]]\n",
      "\n",
      "[4 6 8]\n",
      "\n",
      "[ 6 12]\n"
     ]
    }
   ],
   "source": [
    "# Sum and axis\n",
    "\n",
    "a = np.array([(1,2,3), (3,4,5)])\n",
    "print(a)\n",
    "print()\n",
    "print(a.sum(axis =0))\n",
    "print()\n",
    "print(a.sum(axis = 1))"
   ]
  },
  {
   "cell_type": "code",
   "execution_count": 129,
   "id": "835d2232",
   "metadata": {},
   "outputs": [
    {
     "name": "stdout",
     "output_type": "stream",
     "text": [
      "[[1 2 3]\n",
      " [3 4 5]]\n",
      "\n",
      "[[1.         1.41421356 1.73205081]\n",
      " [1.73205081 2.         2.23606798]]\n",
      "\n",
      "1.2909944487358056\n"
     ]
    }
   ],
   "source": [
    "# Square root and Standars deviation\n",
    "\n",
    "a = np.array([(1,2,3), (3,4,5)])\n",
    "print(a)\n",
    "print()\n",
    "print(np.sqrt(a))\n",
    "print()\n",
    "print(np.std(a))"
   ]
  },
  {
   "cell_type": "code",
   "execution_count": 130,
   "id": "889c3045",
   "metadata": {},
   "outputs": [
    {
     "name": "stdout",
     "output_type": "stream",
     "text": [
      "[0.         0.30103    0.47712125]\n"
     ]
    }
   ],
   "source": [
    "a = np.array([1,2,3])\n",
    "print(np.log10(a)) #can try with base 2 or any other "
   ]
  },
  {
   "cell_type": "markdown",
   "id": "59d589da",
   "metadata": {},
   "source": [
    "# Numpy Practice example (Short Project)"
   ]
  },
  {
   "cell_type": "code",
   "execution_count": 131,
   "id": "5f55387c",
   "metadata": {},
   "outputs": [
    {
     "name": "stdout",
     "output_type": "stream",
     "text": [
      "[0.  0.1 0.2 0.3 0.4 0.5 0.6 0.7 0.8 0.9 1.  1.1 1.2 1.3 1.4 1.5 1.6 1.7\n",
      " 1.8 1.9 2.  2.1 2.2 2.3 2.4 2.5 2.6 2.7 2.8 2.9 3.  3.1 3.2 3.3 3.4 3.5\n",
      " 3.6 3.7 3.8 3.9 4.  4.1 4.2 4.3 4.4 4.5 4.6 4.7 4.8 4.9 5.  5.1 5.2 5.3\n",
      " 5.4 5.5 5.6 5.7 5.8 5.9 6.  6.1 6.2 6.3 6.4 6.5 6.6 6.7 6.8 6.9 7.  7.1\n",
      " 7.2 7.3 7.4 7.5 7.6 7.7 7.8 7.9 8.  8.1 8.2 8.3 8.4 8.5 8.6 8.7 8.8 8.9\n",
      " 9.  9.1 9.2 9.3 9.4]\n",
      "[ 0.          0.09983342  0.19866933  0.29552021  0.38941834  0.47942554\n",
      "  0.56464247  0.64421769  0.71735609  0.78332691  0.84147098  0.89120736\n",
      "  0.93203909  0.96355819  0.98544973  0.99749499  0.9995736   0.99166481\n",
      "  0.97384763  0.94630009  0.90929743  0.86320937  0.8084964   0.74570521\n",
      "  0.67546318  0.59847214  0.51550137  0.42737988  0.33498815  0.23924933\n",
      "  0.14112001  0.04158066 -0.05837414 -0.15774569 -0.2555411  -0.35078323\n",
      " -0.44252044 -0.52983614 -0.61185789 -0.68776616 -0.7568025  -0.81827711\n",
      " -0.87157577 -0.91616594 -0.95160207 -0.97753012 -0.993691   -0.99992326\n",
      " -0.99616461 -0.98245261 -0.95892427 -0.92581468 -0.88345466 -0.83226744\n",
      " -0.77276449 -0.70554033 -0.63126664 -0.55068554 -0.46460218 -0.37387666\n",
      " -0.2794155  -0.1821625  -0.0830894   0.0168139   0.1165492   0.21511999\n",
      "  0.31154136  0.40484992  0.49411335  0.57843976  0.6569866   0.72896904\n",
      "  0.79366786  0.85043662  0.8987081   0.93799998  0.96791967  0.98816823\n",
      "  0.99854335  0.99894134  0.98935825  0.96988981  0.94073056  0.90217183\n",
      "  0.85459891  0.79848711  0.7343971   0.66296923  0.58491719  0.50102086\n",
      "  0.41211849  0.31909836  0.22288991  0.12445442  0.02477543]\n"
     ]
    }
   ],
   "source": [
    "#Lets try to plot a sin graph by using Numpy and Matplotlib libraries\n",
    "\n",
    "import numpy as np\n",
    "import matplotlib.pyplot as plt\n",
    "\n",
    "x = np.arange(0,3*np.pi, 0.1) #Here pi Pi (π) which is approximately equal to 3.14159 \n",
    "x\n",
    "y = np.sin(x) #We are just creating some data to plot a sin wave\n",
    "print(x)\n",
    "print(y)"
   ]
  },
  {
   "cell_type": "code",
   "execution_count": 132,
   "id": "5a61140d",
   "metadata": {},
   "outputs": [
    {
     "data": {
      "text/plain": [
       "9.42477796076938"
      ]
     },
     "execution_count": 132,
     "metadata": {},
     "output_type": "execute_result"
    }
   ],
   "source": [
    "3*np.pi"
   ]
  },
  {
   "cell_type": "code",
   "execution_count": 133,
   "id": "9bfe751e",
   "metadata": {},
   "outputs": [
    {
     "data": {
      "image/png": "[encoded data removed]",
      "text/plain": [
       "<Figure size 432x288 with 1 Axes>"
      ]
     },
     "metadata": {
      "needs_background": "light"
     },
     "output_type": "display_data"
    }
   ],
   "source": [
    "plt.plot(x,y)\n",
    "plt.show() #Can see values are ranging between -1 and 1"
   ]
  },
  {
   "cell_type": "markdown",
   "id": "abdd4dad",
   "metadata": {},
   "source": [
    "# 2nd Project"
   ]
  },
  {
   "cell_type": "code",
   "execution_count": null,
   "id": "f806ff67",
   "metadata": {},
   "outputs": [],
   "source": [
    "# Create a 6*6 two dimentional array and let 1 & 0 be alternatively placed across the diagonals\n",
    "\n",
    "z = np.zeros((6,6), dtype = int)\n",
    "z[1::2,0::2] = 1 # skipping with 2 starting from Row index 1 and column index 0\n",
    "z"
   ]
  },
  {
   "cell_type": "code",
   "execution_count": null,
   "id": "2d9a7f83",
   "metadata": {},
   "outputs": [],
   "source": [
    "z[0::2,1::2] = 1 # skipping with 2 starting from Row index 0 and column index 1\n",
    "z"
   ]
  },
  {
   "cell_type": "code",
   "execution_count": null,
   "id": "a9158bbf",
   "metadata": {},
   "outputs": [],
   "source": []
  }
 ],
 "metadata": {
  "kernelspec": {
   "display_name": "Python 3 (ipykernel)",
   "language": "python",
   "name": "python3"
  },
  "language_info": {
   "codemirror_mode": {
    "name": "ipython",
    "version": 3
   },
   "file_extension": ".py",
   "mimetype": "text/x-python",
   "name": "python",
   "nbconvert_exporter": "python",
   "pygments_lexer": "ipython3",
   "version": "3.9.7"
  }
 },
 "nbformat": 4,
 "nbformat_minor": 5
}
