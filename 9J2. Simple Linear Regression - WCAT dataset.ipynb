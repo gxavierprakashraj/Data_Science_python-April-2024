{
 "cells": [
  {
   "cell_type": "code",
   "execution_count": 16,
   "id": "0116ddda",
   "metadata": {},
   "outputs": [],
   "source": [
    "# For reading data set\n",
    "# importing necessary libraries\n",
    "\n",
    "import pandas as pd #for dataframes\n",
    "import numpy as np #for numerical and arithmatic operations\n",
    "import matplotlib.pyplot as plt #for visualization\n",
    "import statsmodels.formula.api as smf #for data mining and model building"
   ]
  },
  {
   "cell_type": "code",
   "execution_count": 17,
   "id": "1962324c",
   "metadata": {},
   "outputs": [
    {
     "name": "stdout",
     "output_type": "stream",
     "text": [
      "(109, 2)\n"
     ]
    }
   ],
   "source": [
    "#Importing Dataset Wc-At (Waist circumferance v/s Adipose tissues)\n",
    "wcat=pd.read_csv(\"Datasets/wc-at.csv\")\n",
    "print(wcat.shape) #Checking shape of the data"
   ]
  },
  {
   "cell_type": "code",
   "execution_count": 19,
   "id": "96df76bb",
   "metadata": {},
   "outputs": [
    {
     "name": "stdout",
     "output_type": "stream",
     "text": [
      "            Waist          AT\n",
      "count  109.000000  109.000000\n",
      "mean    91.901835  101.894037\n",
      "std     13.559116   57.294763\n",
      "min     63.500000   11.440000\n",
      "25%     80.000000   50.880000\n",
      "50%     90.800000   96.540000\n",
      "75%    104.000000  137.000000\n",
      "max    121.000000  253.000000\n"
     ]
    }
   ],
   "source": [
    "print(wcat.describe()) #Getting summary information of the data"
   ]
  },
  {
   "cell_type": "code",
   "execution_count": 20,
   "id": "67c79bb6",
   "metadata": {},
   "outputs": [
    {
     "data": {
      "text/plain": [
       "(array([ 2.,  9., 19., 17., 11.,  9., 13., 21.,  5.,  3.]),\n",
       " array([ 63.5 ,  69.25,  75.  ,  80.75,  86.5 ,  92.25,  98.  , 103.75,\n",
       "        109.5 , 115.25, 121.  ]),\n",
       " <BarContainer object of 10 artists>)"
      ]
     },
     "execution_count": 20,
     "metadata": {},
     "output_type": "execute_result"
    },
    {
     "data": {
      "image/png": "[encoded data removed]",
      "text/plain": [
       "<Figure size 432x288 with 1 Axes>"
      ]
     },
     "metadata": {
      "needs_background": "light"
     },
     "output_type": "display_data"
    }
   ],
   "source": [
    "plt.hist(wcat.Waist) # Histogram of Waist circumferance"
   ]
  },
  {
   "cell_type": "code",
   "execution_count": 21,
   "id": "1c6d4a15",
   "metadata": {},
   "outputs": [
    {
     "data": {
      "text/plain": [
       "(array([14., 18., 16., 13., 17., 14.,  4.,  6.,  3.,  4.]),\n",
       " array([ 11.44 ,  35.596,  59.752,  83.908, 108.064, 132.22 , 156.376,\n",
       "        180.532, 204.688, 228.844, 253.   ]),\n",
       " <BarContainer object of 10 artists>)"
      ]
     },
     "execution_count": 21,
     "metadata": {},
     "output_type": "execute_result"
    },
    {
     "data": {
      "image/png": "[encoded data removed]",
      "text/plain": [
       "<Figure size 432x288 with 1 Axes>"
      ]
     },
     "metadata": {
      "needs_background": "light"
     },
     "output_type": "display_data"
    }
   ],
   "source": [
    "plt.hist(wcat.AT) # Histogram of Adipose Tissues"
   ]
  },
  {
   "cell_type": "code",
   "execution_count": 22,
   "id": "07891c40",
   "metadata": {},
   "outputs": [
    {
     "data": {
      "text/plain": [
       "{'whiskers': [<matplotlib.lines.Line2D at 0x1ac18dcd640>,\n",
       "  <matplotlib.lines.Line2D at 0x1ac18dcd970>],\n",
       " 'caps': [<matplotlib.lines.Line2D at 0x1ac18dcdd00>,\n",
       "  <matplotlib.lines.Line2D at 0x1ac18dda0d0>],\n",
       " 'boxes': [<matplotlib.lines.Line2D at 0x1ac18dcd2b0>],\n",
       " 'medians': [<matplotlib.lines.Line2D at 0x1ac18dda460>],\n",
       " 'fliers': [<matplotlib.lines.Line2D at 0x1ac18dda7f0>],\n",
       " 'means': []}"
      ]
     },
     "execution_count": 22,
     "metadata": {},
     "output_type": "execute_result"
    },
    {
     "data": {
      "image/png": "[encoded data removed]",
      "text/plain": [
       "<Figure size 432x288 with 1 Axes>"
      ]
     },
     "metadata": {
      "needs_background": "light"
     },
     "output_type": "display_data"
    }
   ],
   "source": [
    "plt.boxplot(wcat.Waist, vert =  False) #Checking outliers if any in Waist"
   ]
  },
  {
   "cell_type": "code",
   "execution_count": 23,
   "id": "3df0c237",
   "metadata": {},
   "outputs": [
    {
     "data": {
      "text/plain": [
       "{'whiskers': [<matplotlib.lines.Line2D at 0x1ac18e2cf40>,\n",
       "  <matplotlib.lines.Line2D at 0x1ac18e3a340>],\n",
       " 'caps': [<matplotlib.lines.Line2D at 0x1ac18e3a6d0>,\n",
       "  <matplotlib.lines.Line2D at 0x1ac18e3aa60>],\n",
       " 'boxes': [<matplotlib.lines.Line2D at 0x1ac18e2cbb0>],\n",
       " 'medians': [<matplotlib.lines.Line2D at 0x1ac18e3adf0>],\n",
       " 'fliers': [<matplotlib.lines.Line2D at 0x1ac18e481c0>],\n",
       " 'means': []}"
      ]
     },
     "execution_count": 23,
     "metadata": {},
     "output_type": "execute_result"
    },
    {
     "data": {
      "image/png": "[encoded data removed]",
      "text/plain": [
       "<Figure size 432x288 with 1 Axes>"
      ]
     },
     "metadata": {
      "needs_background": "light"
     },
     "output_type": "display_data"
    }
   ],
   "source": [
    "plt.boxplot(wcat.AT, vert =  False) #Checking outliers if any in AT"
   ]
  },
  {
   "cell_type": "code",
   "execution_count": 24,
   "id": "777b1cf6",
   "metadata": {},
   "outputs": [
    {
     "data": {
      "text/plain": [
       "Text(0, 0.5, 'AT')"
      ]
     },
     "execution_count": 24,
     "metadata": {},
     "output_type": "execute_result"
    },
    {
     "data": {
      "image/png": "[encoded data removed]",
      "text/plain": [
       "<Figure size 432x288 with 1 Axes>"
      ]
     },
     "metadata": {
      "needs_background": "light"
     },
     "output_type": "display_data"
    }
   ],
   "source": [
    "# Plotting scatter plot to check the relationship between Waist and AT\n",
    "plt.plot(wcat.Waist,wcat.AT,\"ro\")\n",
    "plt.xlabel(\"waist\")\n",
    "plt.ylabel(\"AT\")"
   ]
  },
  {
   "cell_type": "code",
   "execution_count": 9,
   "id": "4f5ab87e",
   "metadata": {},
   "outputs": [
    {
     "data": {
      "text/html": [
       "<div>\n",
       "<style scoped>\n",
       "    .dataframe tbody tr th:only-of-type {\n",
       "        vertical-align: middle;\n",
       "    }\n",
       "\n",
       "    .dataframe tbody tr th {\n",
       "        vertical-align: top;\n",
       "    }\n",
       "\n",
       "    .dataframe thead th {\n",
       "        text-align: right;\n",
       "    }\n",
       "</style>\n",
       "<table border=\"1\" class=\"dataframe\">\n",
       "  <thead>\n",
       "    <tr style=\"text-align: right;\">\n",
       "      <th></th>\n",
       "      <th>Waist</th>\n",
       "      <th>AT</th>\n",
       "    </tr>\n",
       "  </thead>\n",
       "  <tbody>\n",
       "    <tr>\n",
       "      <th>Waist</th>\n",
       "      <td>1.000000</td>\n",
       "      <td>0.818558</td>\n",
       "    </tr>\n",
       "    <tr>\n",
       "      <th>AT</th>\n",
       "      <td>0.818558</td>\n",
       "      <td>1.000000</td>\n",
       "    </tr>\n",
       "  </tbody>\n",
       "</table>\n",
       "</div>"
      ],
      "text/plain": [
       "          Waist        AT\n",
       "Waist  1.000000  0.818558\n",
       "AT     0.818558  1.000000"
      ]
     },
     "execution_count": 9,
     "metadata": {},
     "output_type": "execute_result"
    }
   ],
   "source": [
    "wcat.corr() # Corelation coefficient (r) matrix of our data "
   ]
  },
  {
   "cell_type": "code",
   "execution_count": 25,
   "id": "403d4e07",
   "metadata": {},
   "outputs": [
    {
     "data": {
      "text/plain": [
       "0.818557812895853"
      ]
     },
     "execution_count": 25,
     "metadata": {},
     "output_type": "execute_result"
    }
   ],
   "source": [
    "wcat.AT.corr(wcat.Waist) # # correlation value between X (Waist) and Y (AT)"
   ]
  },
  {
   "cell_type": "code",
   "execution_count": 26,
   "id": "1a807c9d",
   "metadata": {},
   "outputs": [
    {
     "data": {
      "text/plain": [
       "array([[1.        , 0.81855781],\n",
       "       [0.81855781, 1.        ]])"
      ]
     },
     "execution_count": 26,
     "metadata": {},
     "output_type": "execute_result"
    }
   ],
   "source": [
    "np.corrcoef(wcat.AT,wcat.Waist)"
   ]
  },
  {
   "cell_type": "code",
   "execution_count": 27,
   "id": "4aaaf75a",
   "metadata": {},
   "outputs": [],
   "source": [
    "# For preparing linear regression model we need to import the statsmodels.formula.api\n",
    "import statsmodels.formula.api as smf\n",
    "\n",
    "model = smf.ols(\"AT ~ Waist\",data=wcat).fit()"
   ]
  },
  {
   "cell_type": "code",
   "execution_count": 28,
   "id": "67b2ed47",
   "metadata": {},
   "outputs": [
    {
     "data": {
      "text/plain": [
       "statsmodels.regression.linear_model.RegressionResultsWrapper"
      ]
     },
     "execution_count": 28,
     "metadata": {},
     "output_type": "execute_result"
    }
   ],
   "source": [
    "type(model)"
   ]
  },
  {
   "cell_type": "code",
   "execution_count": 29,
   "id": "d11ae8ca",
   "metadata": {},
   "outputs": [
    {
     "data": {
      "text/plain": [
       "Intercept   -215.981488\n",
       "Waist          3.458859\n",
       "dtype: float64"
      ]
     },
     "execution_count": 29,
     "metadata": {},
     "output_type": "execute_result"
    }
   ],
   "source": [
    "model.params # Model Parameters"
   ]
  },
  {
   "cell_type": "code",
   "execution_count": 14,
   "id": "39fadf2e",
   "metadata": {},
   "outputs": [
    {
     "data": {
      "text/html": [
       "<table class=\"simpletable\">\n",
       "<caption>OLS Regression Results</caption>\n",
       "<tr>\n",
       "  <th>Dep. Variable:</th>           <td>AT</td>        <th>  R-squared:         </th> <td>   0.670</td>\n",
       "</tr>\n",
       "<tr>\n",
       "  <th>Model:</th>                   <td>OLS</td>       <th>  Adj. R-squared:    </th> <td>   0.667</td>\n",
       "</tr>\n",
       "<tr>\n",
       "  <th>Method:</th>             <td>Least Squares</td>  <th>  F-statistic:       </th> <td>   217.3</td>\n",
       "</tr>\n",
       "<tr>\n",
       "  <th>Date:</th>             <td>Sat, 29 Jul 2023</td> <th>  Prob (F-statistic):</th> <td>1.62e-27</td>\n",
       "</tr>\n",
       "<tr>\n",
       "  <th>Time:</th>                 <td>12:53:46</td>     <th>  Log-Likelihood:    </th> <td> -534.99</td>\n",
       "</tr>\n",
       "<tr>\n",
       "  <th>No. Observations:</th>      <td>   109</td>      <th>  AIC:               </th> <td>   1074.</td>\n",
       "</tr>\n",
       "<tr>\n",
       "  <th>Df Residuals:</th>          <td>   107</td>      <th>  BIC:               </th> <td>   1079.</td>\n",
       "</tr>\n",
       "<tr>\n",
       "  <th>Df Model:</th>              <td>     1</td>      <th>                     </th>     <td> </td>   \n",
       "</tr>\n",
       "<tr>\n",
       "  <th>Covariance Type:</th>      <td>nonrobust</td>    <th>                     </th>     <td> </td>   \n",
       "</tr>\n",
       "</table>\n",
       "<table class=\"simpletable\">\n",
       "<tr>\n",
       "      <td></td>         <th>coef</th>     <th>std err</th>      <th>t</th>      <th>P>|t|</th>  <th>[0.025</th>    <th>0.975]</th>  \n",
       "</tr>\n",
       "<tr>\n",
       "  <th>Intercept</th> <td> -215.9815</td> <td>   21.796</td> <td>   -9.909</td> <td> 0.000</td> <td> -259.190</td> <td> -172.773</td>\n",
       "</tr>\n",
       "<tr>\n",
       "  <th>Waist</th>     <td>    3.4589</td> <td>    0.235</td> <td>   14.740</td> <td> 0.000</td> <td>    2.994</td> <td>    3.924</td>\n",
       "</tr>\n",
       "</table>\n",
       "<table class=\"simpletable\">\n",
       "<tr>\n",
       "  <th>Omnibus:</th>       <td> 3.960</td> <th>  Durbin-Watson:     </th> <td>   1.560</td>\n",
       "</tr>\n",
       "<tr>\n",
       "  <th>Prob(Omnibus):</th> <td> 0.138</td> <th>  Jarque-Bera (JB):  </th> <td>   4.596</td>\n",
       "</tr>\n",
       "<tr>\n",
       "  <th>Skew:</th>          <td> 0.104</td> <th>  Prob(JB):          </th> <td>   0.100</td>\n",
       "</tr>\n",
       "<tr>\n",
       "  <th>Kurtosis:</th>      <td> 3.984</td> <th>  Cond. No.          </th> <td>    639.</td>\n",
       "</tr>\n",
       "</table><br/><br/>Notes:<br/>[1] Standard Errors assume that the covariance matrix of the errors is correctly specified."
      ],
      "text/plain": [
       "<class 'statsmodels.iolib.summary.Summary'>\n",
       "\"\"\"\n",
       "                            OLS Regression Results                            \n",
       "==============================================================================\n",
       "Dep. Variable:                     AT   R-squared:                       0.670\n",
       "Model:                            OLS   Adj. R-squared:                  0.667\n",
       "Method:                 Least Squares   F-statistic:                     217.3\n",
       "Date:                Sat, 29 Jul 2023   Prob (F-statistic):           1.62e-27\n",
       "Time:                        12:53:46   Log-Likelihood:                -534.99\n",
       "No. Observations:                 109   AIC:                             1074.\n",
       "Df Residuals:                     107   BIC:                             1079.\n",
       "Df Model:                           1                                         \n",
       "Covariance Type:            nonrobust                                         \n",
       "==============================================================================\n",
       "                 coef    std err          t      P>|t|      [0.025      0.975]\n",
       "------------------------------------------------------------------------------\n",
       "Intercept   -215.9815     21.796     -9.909      0.000    -259.190    -172.773\n",
       "Waist          3.4589      0.235     14.740      0.000       2.994       3.924\n",
       "==============================================================================\n",
       "Omnibus:                        3.960   Durbin-Watson:                   1.560\n",
       "Prob(Omnibus):                  0.138   Jarque-Bera (JB):                4.596\n",
       "Skew:                           0.104   Prob(JB):                        0.100\n",
       "Kurtosis:                       3.984   Cond. No.                         639.\n",
       "==============================================================================\n",
       "\n",
       "Notes:\n",
       "[1] Standard Errors assume that the covariance matrix of the errors is correctly specified.\n",
       "\"\"\""
      ]
     },
     "execution_count": 14,
     "metadata": {},
     "output_type": "execute_result"
    }
   ],
   "source": [
    "model.summary() # Model Summary to check R-squered, Adjusted R-squered and P-values of the model parameteres"
   ]
  },
  {
   "cell_type": "code",
   "execution_count": 15,
   "id": "9fd90cc0",
   "metadata": {},
   "outputs": [],
   "source": [
    "# Prdiction intervals for our model, alpha can be set as per our domain and for that we need to research about our domain\n",
    "# to find which alpha will be a good fit, in this case the domain is medical science\n",
    "# default alfa is 0.05\n",
    "# Same way you can calculate such interval for every of your model\n",
    "\n",
    "#from statsmodels.sandbox.regression.predstd import wls_prediction_std\n",
    "#prstd, iv_l, iv_u = wls_prediction_std(model, alpha = 0.025)\n",
    "#print(prstd)\n",
    "#print('\\n')\n",
    "#print(pred)\n",
    "#print('\\n')\n",
    "#print(iv_l)\n",
    "#print('\\n')\n",
    "#print(iv_u)"
   ]
  },
  {
   "cell_type": "code",
   "execution_count": 27,
   "id": "b3689f99",
   "metadata": {},
   "outputs": [
    {
     "data": {
      "text/html": [
       "<div>\n",
       "<style scoped>\n",
       "    .dataframe tbody tr th:only-of-type {\n",
       "        vertical-align: middle;\n",
       "    }\n",
       "\n",
       "    .dataframe tbody tr th {\n",
       "        vertical-align: top;\n",
       "    }\n",
       "\n",
       "    .dataframe thead th {\n",
       "        text-align: right;\n",
       "    }\n",
       "</style>\n",
       "<table border=\"1\" class=\"dataframe\">\n",
       "  <thead>\n",
       "    <tr style=\"text-align: right;\">\n",
       "      <th></th>\n",
       "      <th>0</th>\n",
       "      <th>1</th>\n",
       "    </tr>\n",
       "  </thead>\n",
       "  <tbody>\n",
       "    <tr>\n",
       "      <th>Intercept</th>\n",
       "      <td>-259.190053</td>\n",
       "      <td>-172.772923</td>\n",
       "    </tr>\n",
       "    <tr>\n",
       "      <th>Waist</th>\n",
       "      <td>2.993689</td>\n",
       "      <td>3.924030</td>\n",
       "    </tr>\n",
       "  </tbody>\n",
       "</table>\n",
       "</div>"
      ],
      "text/plain": [
       "                    0           1\n",
       "Intercept -259.190053 -172.772923\n",
       "Waist        2.993689    3.924030"
      ]
     },
     "execution_count": 27,
     "metadata": {},
     "output_type": "execute_result"
    }
   ],
   "source": [
    "model.conf_int(0.05) # 95% confidence interval for estimates or model parameter"
   ]
  },
  {
   "cell_type": "code",
   "execution_count": 30,
   "id": "b9e54e31",
   "metadata": {},
   "outputs": [],
   "source": [
    "pred = model.predict(wcat.Waist) # Predicted values of AT using the model"
   ]
  },
  {
   "cell_type": "code",
   "execution_count": 31,
   "id": "89e00af1",
   "metadata": {},
   "outputs": [
    {
     "data": {
      "text/plain": [
       "0    25.72\n",
       "1    25.89\n",
       "2    42.60\n",
       "3    42.80\n",
       "4    29.84\n",
       "Name: AT, dtype: float64"
      ]
     },
     "execution_count": 31,
     "metadata": {},
     "output_type": "execute_result"
    }
   ],
   "source": [
    "wcat.AT.head()"
   ]
  },
  {
   "cell_type": "code",
   "execution_count": 32,
   "id": "e7e108ac",
   "metadata": {},
   "outputs": [
    {
     "data": {
      "text/plain": [
       "0    42.568252\n",
       "1    35.131704\n",
       "2    66.953210\n",
       "3    74.389758\n",
       "4    42.222366\n",
       "dtype: float64"
      ]
     },
     "execution_count": 32,
     "metadata": {},
     "output_type": "execute_result"
    }
   ],
   "source": [
    "pred.head()"
   ]
  },
  {
   "cell_type": "code",
   "execution_count": 33,
   "id": "8a77935c",
   "metadata": {},
   "outputs": [],
   "source": [
    "error1 = wcat.AT - pred # Calculating errors in our model \"model\""
   ]
  },
  {
   "cell_type": "code",
   "execution_count": 35,
   "id": "d9a73d2f",
   "metadata": {},
   "outputs": [
    {
     "data": {
      "text/plain": [
       "0     -16.848252\n",
       "1      -9.241704\n",
       "2     -24.353210\n",
       "3     -31.589758\n",
       "4     -12.382366\n",
       "         ...    \n",
       "104    -6.250337\n",
       "105   -44.530093\n",
       "106    -3.130398\n",
       "107    50.770560\n",
       "108    48.695244\n",
       "Length: 109, dtype: float64"
      ]
     },
     "execution_count": 35,
     "metadata": {},
     "output_type": "execute_result"
    }
   ],
   "source": [
    "error1"
   ]
  },
  {
   "cell_type": "code",
   "execution_count": 36,
   "id": "ebd80efb",
   "metadata": {},
   "outputs": [
    {
     "data": {
      "text/plain": [
       "-9.321799193916911e-14"
      ]
     },
     "execution_count": 36,
     "metadata": {},
     "output_type": "execute_result"
    }
   ],
   "source": [
    "np.mean(error1) # Checking avg. of errors, we know excellent model gives this very close to zero (e to the power -14 here) "
   ]
  },
  {
   "cell_type": "code",
   "execution_count": 37,
   "id": "a16e491b",
   "metadata": {},
   "outputs": [],
   "source": [
    "# Defining a function to calculate RMSE value (Root mean square error)\n",
    "def RMSE(i):\n",
    "    temp = np.sqrt(np.mean(i**2))\n",
    "    return temp"
   ]
  },
  {
   "cell_type": "code",
   "execution_count": 38,
   "id": "d9f9de3b",
   "metadata": {},
   "outputs": [
    {
     "data": {
      "text/plain": [
       "32.76017749575514"
      ]
     },
     "execution_count": 38,
     "metadata": {},
     "output_type": "execute_result"
    }
   ],
   "source": [
    "RMSE(error1) # Calculating RMSE value for model \"model\""
   ]
  },
  {
   "cell_type": "code",
   "execution_count": 39,
   "id": "023faf0a",
   "metadata": {},
   "outputs": [],
   "source": [
    "model1_RMSE = RMSE(error1) # Storing RMSE of model \"model\" for future reference"
   ]
  },
  {
   "cell_type": "code",
   "execution_count": 42,
   "id": "0ef8eaba",
   "metadata": {},
   "outputs": [
    {
     "name": "stdout",
     "output_type": "stream",
     "text": [
      "   Waist     AT\n",
      "0  74.75  25.72\n",
      "1  72.60  25.89\n",
      "2  81.80  42.60\n",
      "3  83.95  42.80\n",
      "4  74.65  29.84\n"
     ]
    },
    {
     "data": {
      "text/plain": [
       "Text(0, 0.5, 'TISSUE')"
      ]
     },
     "execution_count": 42,
     "metadata": {},
     "output_type": "execute_result"
    },
    {
     "data": {
      "image/png": "[encoded data removed]",
      "text/plain": [
       "<Figure size 432x288 with 1 Axes>"
      ]
     },
     "metadata": {
      "needs_background": "light"
     },
     "output_type": "display_data"
    }
   ],
   "source": [
    "# Visualization of regresion line over the scatter plot of Waist and AT\n",
    "# For visualization we need to import matplotlib.pyplot\n",
    "# Black line is regression line\n",
    "\n",
    "import matplotlib.pylab as plt\n",
    "print(wcat.head(5))\n",
    "plt.scatter(x=wcat['Waist'],y=wcat['AT'],color='red');\n",
    "plt.plot(wcat['Waist'],pred,color='black');\n",
    "plt.xlabel('WAIST');plt.ylabel('TISSUE')"
   ]
  },
  {
   "cell_type": "code",
   "execution_count": 43,
   "id": "c1f20cd2",
   "metadata": {},
   "outputs": [
    {
     "data": {
      "text/plain": [
       "0.8185578128958534"
      ]
     },
     "execution_count": 43,
     "metadata": {},
     "output_type": "execute_result"
    }
   ],
   "source": [
    "pred.corr(wcat.AT) # 0.81 # Correlation of predicted value vs actual AT value, which is same as waist to AT"
   ]
  },
  {
   "cell_type": "code",
   "execution_count": 44,
   "id": "549eac2c",
   "metadata": {},
   "outputs": [
    {
     "data": {
      "text/plain": [
       "Text(0, 0.5, 'Adipose TISSUE')"
      ]
     },
     "execution_count": 44,
     "metadata": {},
     "output_type": "execute_result"
    },
    {
     "data": {
      "image/png": "[encoded data removed]",
      "text/plain": [
       "<Figure size 432x288 with 1 Axes>"
      ]
     },
     "metadata": {
      "needs_background": "light"
     },
     "output_type": "display_data"
    }
   ],
   "source": [
    "# Second Model - using Transformation - here we are doing Log Transformation on Waist\n",
    "# Transforming variables for accuracy if possible\n",
    "\n",
    "plt.scatter(np.log(wcat.Waist), wcat.AT);\n",
    "plt.xlabel('Log of WAIST');plt.ylabel('Adipose TISSUE')"
   ]
  },
  {
   "cell_type": "code",
   "execution_count": 45,
   "id": "345ecb26",
   "metadata": {},
   "outputs": [
    {
     "data": {
      "text/plain": [
       "0.8217781862645355"
      ]
     },
     "execution_count": 45,
     "metadata": {},
     "output_type": "execute_result"
    }
   ],
   "source": [
    "# correlation between original AT value and Log transformed Waist value, we can see improvement in it than earlier model\n",
    "wcat.AT.corr(np.log(wcat.Waist)) "
   ]
  },
  {
   "cell_type": "code",
   "execution_count": 46,
   "id": "47881dd7",
   "metadata": {},
   "outputs": [],
   "source": [
    "# Fitting the model on transformed data\n",
    "\n",
    "model2 = smf.ols('AT~np.log(Waist)',data=wcat).fit()"
   ]
  },
  {
   "cell_type": "code",
   "execution_count": 48,
   "id": "2e9730b8",
   "metadata": {},
   "outputs": [
    {
     "data": {
      "text/plain": [
       "Intercept       -1328.341989\n",
       "np.log(Waist)     317.135564\n",
       "dtype: float64"
      ]
     },
     "execution_count": 48,
     "metadata": {},
     "output_type": "execute_result"
    }
   ],
   "source": [
    "model2.params"
   ]
  },
  {
   "cell_type": "code",
   "execution_count": 49,
   "id": "a78396d4",
   "metadata": {},
   "outputs": [
    {
     "data": {
      "text/html": [
       "<table class=\"simpletable\">\n",
       "<caption>OLS Regression Results</caption>\n",
       "<tr>\n",
       "  <th>Dep. Variable:</th>           <td>AT</td>        <th>  R-squared:         </th> <td>   0.675</td>\n",
       "</tr>\n",
       "<tr>\n",
       "  <th>Model:</th>                   <td>OLS</td>       <th>  Adj. R-squared:    </th> <td>   0.672</td>\n",
       "</tr>\n",
       "<tr>\n",
       "  <th>Method:</th>             <td>Least Squares</td>  <th>  F-statistic:       </th> <td>   222.6</td>\n",
       "</tr>\n",
       "<tr>\n",
       "  <th>Date:</th>             <td>Sun, 07 Jan 2024</td> <th>  Prob (F-statistic):</th> <td>6.80e-28</td>\n",
       "</tr>\n",
       "<tr>\n",
       "  <th>Time:</th>                 <td>10:00:05</td>     <th>  Log-Likelihood:    </th> <td> -534.11</td>\n",
       "</tr>\n",
       "<tr>\n",
       "  <th>No. Observations:</th>      <td>   109</td>      <th>  AIC:               </th> <td>   1072.</td>\n",
       "</tr>\n",
       "<tr>\n",
       "  <th>Df Residuals:</th>          <td>   107</td>      <th>  BIC:               </th> <td>   1078.</td>\n",
       "</tr>\n",
       "<tr>\n",
       "  <th>Df Model:</th>              <td>     1</td>      <th>                     </th>     <td> </td>   \n",
       "</tr>\n",
       "<tr>\n",
       "  <th>Covariance Type:</th>      <td>nonrobust</td>    <th>                     </th>     <td> </td>   \n",
       "</tr>\n",
       "</table>\n",
       "<table class=\"simpletable\">\n",
       "<tr>\n",
       "        <td></td>           <th>coef</th>     <th>std err</th>      <th>t</th>      <th>P>|t|</th>  <th>[0.025</th>    <th>0.975]</th>  \n",
       "</tr>\n",
       "<tr>\n",
       "  <th>Intercept</th>     <td>-1328.3420</td> <td>   95.923</td> <td>  -13.848</td> <td> 0.000</td> <td>-1518.498</td> <td>-1138.186</td>\n",
       "</tr>\n",
       "<tr>\n",
       "  <th>np.log(Waist)</th> <td>  317.1356</td> <td>   21.258</td> <td>   14.918</td> <td> 0.000</td> <td>  274.994</td> <td>  359.277</td>\n",
       "</tr>\n",
       "</table>\n",
       "<table class=\"simpletable\">\n",
       "<tr>\n",
       "  <th>Omnibus:</th>       <td> 3.317</td> <th>  Durbin-Watson:     </th> <td>   1.599</td>\n",
       "</tr>\n",
       "<tr>\n",
       "  <th>Prob(Omnibus):</th> <td> 0.190</td> <th>  Jarque-Bera (JB):  </th> <td>   2.908</td>\n",
       "</tr>\n",
       "<tr>\n",
       "  <th>Skew:</th>          <td> 0.235</td> <th>  Prob(JB):          </th> <td>   0.234</td>\n",
       "</tr>\n",
       "<tr>\n",
       "  <th>Kurtosis:</th>      <td> 3.647</td> <th>  Cond. No.          </th> <td>    145.</td>\n",
       "</tr>\n",
       "</table><br/><br/>Notes:<br/>[1] Standard Errors assume that the covariance matrix of the errors is correctly specified."
      ],
      "text/plain": [
       "<class 'statsmodels.iolib.summary.Summary'>\n",
       "\"\"\"\n",
       "                            OLS Regression Results                            \n",
       "==============================================================================\n",
       "Dep. Variable:                     AT   R-squared:                       0.675\n",
       "Model:                            OLS   Adj. R-squared:                  0.672\n",
       "Method:                 Least Squares   F-statistic:                     222.6\n",
       "Date:                Sun, 07 Jan 2024   Prob (F-statistic):           6.80e-28\n",
       "Time:                        10:00:05   Log-Likelihood:                -534.11\n",
       "No. Observations:                 109   AIC:                             1072.\n",
       "Df Residuals:                     107   BIC:                             1078.\n",
       "Df Model:                           1                                         \n",
       "Covariance Type:            nonrobust                                         \n",
       "=================================================================================\n",
       "                    coef    std err          t      P>|t|      [0.025      0.975]\n",
       "---------------------------------------------------------------------------------\n",
       "Intercept     -1328.3420     95.923    -13.848      0.000   -1518.498   -1138.186\n",
       "np.log(Waist)   317.1356     21.258     14.918      0.000     274.994     359.277\n",
       "==============================================================================\n",
       "Omnibus:                        3.317   Durbin-Watson:                   1.599\n",
       "Prob(Omnibus):                  0.190   Jarque-Bera (JB):                2.908\n",
       "Skew:                           0.235   Prob(JB):                        0.234\n",
       "Kurtosis:                       3.647   Cond. No.                         145.\n",
       "==============================================================================\n",
       "\n",
       "Notes:\n",
       "[1] Standard Errors assume that the covariance matrix of the errors is correctly specified.\n",
       "\"\"\""
      ]
     },
     "execution_count": 49,
     "metadata": {},
     "output_type": "execute_result"
    }
   ],
   "source": [
    "model2.summary()"
   ]
  },
  {
   "cell_type": "code",
   "execution_count": 43,
   "id": "4cfcbdc1",
   "metadata": {},
   "outputs": [
    {
     "name": "stdout",
     "output_type": "stream",
     "text": [
      "                         0            1\n",
      "Intercept     -1518.498012 -1138.185966\n",
      "np.log(Waist)   274.993649   359.277480\n"
     ]
    }
   ],
   "source": [
    "print(model2.conf_int(0.05)) # 95% confidence level"
   ]
  },
  {
   "cell_type": "code",
   "execution_count": 51,
   "id": "fe65a021",
   "metadata": {},
   "outputs": [],
   "source": [
    "pred2 = model2.predict(wcat)"
   ]
  },
  {
   "cell_type": "code",
   "execution_count": 52,
   "id": "4eab16f1",
   "metadata": {},
   "outputs": [],
   "source": [
    "error2 = wcat.AT - pred2"
   ]
  },
  {
   "cell_type": "code",
   "execution_count": 54,
   "id": "4b5eafbf",
   "metadata": {},
   "outputs": [
    {
     "data": {
      "text/plain": [
       "-1.7509337506895679e-13"
      ]
     },
     "execution_count": 54,
     "metadata": {},
     "output_type": "execute_result"
    }
   ],
   "source": [
    "np.mean(error2)"
   ]
  },
  {
   "cell_type": "code",
   "execution_count": 57,
   "id": "75947494",
   "metadata": {},
   "outputs": [
    {
     "data": {
      "text/plain": [
       "32.49688490932128"
      ]
     },
     "execution_count": 57,
     "metadata": {},
     "output_type": "execute_result"
    }
   ],
   "source": [
    "RMSE(error2)"
   ]
  },
  {
   "cell_type": "code",
   "execution_count": 58,
   "id": "71f6736c",
   "metadata": {},
   "outputs": [],
   "source": [
    "model2_RMSE = RMSE(error2)"
   ]
  },
  {
   "cell_type": "code",
   "execution_count": 59,
   "id": "908a68d9",
   "metadata": {},
   "outputs": [
    {
     "data": {
      "text/plain": [
       "0.8217781862645354"
      ]
     },
     "execution_count": 59,
     "metadata": {},
     "output_type": "execute_result"
    }
   ],
   "source": [
    "pred2.corr(wcat.AT)"
   ]
  },
  {
   "cell_type": "code",
   "execution_count": 60,
   "id": "3ae3a196",
   "metadata": {},
   "outputs": [
    {
     "data": {
      "text/plain": [
       "Text(0, 0.5, 'TISSUE')"
      ]
     },
     "execution_count": 60,
     "metadata": {},
     "output_type": "execute_result"
    },
    {
     "data": {
      "image/png": "[encoded data removed]",
      "text/plain": [
       "<Figure size 432x288 with 1 Axes>"
      ]
     },
     "metadata": {
      "needs_background": "light"
     },
     "output_type": "display_data"
    }
   ],
   "source": [
    "plt.scatter(x=np.log(wcat.Waist),y=wcat['AT'],color='green');\n",
    "plt.plot(np.log(wcat.Waist),pred2,color='blue');\n",
    "plt.xlabel('Log of WAIST');plt.ylabel('TISSUE')"
   ]
  },
  {
   "cell_type": "code",
   "execution_count": 61,
   "id": "263284fb",
   "metadata": {},
   "outputs": [
    {
     "data": {
      "text/plain": [
       "Text(0, 0.5, 'Log Adipose TISSUE')"
      ]
     },
     "execution_count": 61,
     "metadata": {},
     "output_type": "execute_result"
    },
    {
     "data": {
      "image/png": "[encoded data removed]",
      "text/plain": [
       "<Figure size 432x288 with 1 Axes>"
      ]
     },
     "metadata": {
      "needs_background": "light"
     },
     "output_type": "display_data"
    }
   ],
   "source": [
    "# Exponential transformation\n",
    "\n",
    "plt.scatter(wcat.Waist, np.log(wcat.AT));\n",
    "\n",
    "plt.xlabel('WAIST');plt.ylabel('Log Adipose TISSUE')"
   ]
  },
  {
   "cell_type": "code",
   "execution_count": 62,
   "id": "305c990d",
   "metadata": {},
   "outputs": [
    {
     "data": {
      "text/plain": [
       "0.8409006876081181"
      ]
     },
     "execution_count": 62,
     "metadata": {},
     "output_type": "execute_result"
    }
   ],
   "source": [
    "wcat.Waist.corr(np.log(wcat.AT))"
   ]
  },
  {
   "cell_type": "code",
   "execution_count": 63,
   "id": "442dba97",
   "metadata": {},
   "outputs": [],
   "source": [
    "model3 = smf.ols('np.log(AT)~Waist',data=wcat).fit()"
   ]
  },
  {
   "cell_type": "code",
   "execution_count": 64,
   "id": "b21e5541",
   "metadata": {},
   "outputs": [
    {
     "data": {
      "text/plain": [
       "Intercept    0.741021\n",
       "Waist        0.040252\n",
       "dtype: float64"
      ]
     },
     "execution_count": 64,
     "metadata": {},
     "output_type": "execute_result"
    }
   ],
   "source": [
    "model3.params"
   ]
  },
  {
   "cell_type": "code",
   "execution_count": 40,
   "id": "9fd71a1e",
   "metadata": {},
   "outputs": [
    {
     "data": {
      "text/html": [
       "<table class=\"simpletable\">\n",
       "<caption>OLS Regression Results</caption>\n",
       "<tr>\n",
       "  <th>Dep. Variable:</th>       <td>np.log(AT)</td>    <th>  R-squared:         </th> <td>   0.707</td>\n",
       "</tr>\n",
       "<tr>\n",
       "  <th>Model:</th>                   <td>OLS</td>       <th>  Adj. R-squared:    </th> <td>   0.704</td>\n",
       "</tr>\n",
       "<tr>\n",
       "  <th>Method:</th>             <td>Least Squares</td>  <th>  F-statistic:       </th> <td>   258.3</td>\n",
       "</tr>\n",
       "<tr>\n",
       "  <th>Date:</th>             <td>Thu, 14 Dec 2023</td> <th>  Prob (F-statistic):</th> <td>2.68e-30</td>\n",
       "</tr>\n",
       "<tr>\n",
       "  <th>Time:</th>                 <td>14:37:33</td>     <th>  Log-Likelihood:    </th> <td> -40.123</td>\n",
       "</tr>\n",
       "<tr>\n",
       "  <th>No. Observations:</th>      <td>   109</td>      <th>  AIC:               </th> <td>   84.25</td>\n",
       "</tr>\n",
       "<tr>\n",
       "  <th>Df Residuals:</th>          <td>   107</td>      <th>  BIC:               </th> <td>   89.63</td>\n",
       "</tr>\n",
       "<tr>\n",
       "  <th>Df Model:</th>              <td>     1</td>      <th>                     </th>     <td> </td>   \n",
       "</tr>\n",
       "<tr>\n",
       "  <th>Covariance Type:</th>      <td>nonrobust</td>    <th>                     </th>     <td> </td>   \n",
       "</tr>\n",
       "</table>\n",
       "<table class=\"simpletable\">\n",
       "<tr>\n",
       "      <td></td>         <th>coef</th>     <th>std err</th>      <th>t</th>      <th>P>|t|</th>  <th>[0.025</th>    <th>0.975]</th>  \n",
       "</tr>\n",
       "<tr>\n",
       "  <th>Intercept</th> <td>    0.7410</td> <td>    0.233</td> <td>    3.185</td> <td> 0.002</td> <td>    0.280</td> <td>    1.202</td>\n",
       "</tr>\n",
       "<tr>\n",
       "  <th>Waist</th>     <td>    0.0403</td> <td>    0.003</td> <td>   16.073</td> <td> 0.000</td> <td>    0.035</td> <td>    0.045</td>\n",
       "</tr>\n",
       "</table>\n",
       "<table class=\"simpletable\">\n",
       "<tr>\n",
       "  <th>Omnibus:</th>       <td> 2.604</td> <th>  Durbin-Watson:     </th> <td>   1.201</td>\n",
       "</tr>\n",
       "<tr>\n",
       "  <th>Prob(Omnibus):</th> <td> 0.272</td> <th>  Jarque-Bera (JB):  </th> <td>   2.117</td>\n",
       "</tr>\n",
       "<tr>\n",
       "  <th>Skew:</th>          <td>-0.329</td> <th>  Prob(JB):          </th> <td>   0.347</td>\n",
       "</tr>\n",
       "<tr>\n",
       "  <th>Kurtosis:</th>      <td> 3.182</td> <th>  Cond. No.          </th> <td>    639.</td>\n",
       "</tr>\n",
       "</table><br/><br/>Notes:<br/>[1] Standard Errors assume that the covariance matrix of the errors is correctly specified."
      ],
      "text/plain": [
       "<class 'statsmodels.iolib.summary.Summary'>\n",
       "\"\"\"\n",
       "                            OLS Regression Results                            \n",
       "==============================================================================\n",
       "Dep. Variable:             np.log(AT)   R-squared:                       0.707\n",
       "Model:                            OLS   Adj. R-squared:                  0.704\n",
       "Method:                 Least Squares   F-statistic:                     258.3\n",
       "Date:                Thu, 14 Dec 2023   Prob (F-statistic):           2.68e-30\n",
       "Time:                        14:37:33   Log-Likelihood:                -40.123\n",
       "No. Observations:                 109   AIC:                             84.25\n",
       "Df Residuals:                     107   BIC:                             89.63\n",
       "Df Model:                           1                                         \n",
       "Covariance Type:            nonrobust                                         \n",
       "==============================================================================\n",
       "                 coef    std err          t      P>|t|      [0.025      0.975]\n",
       "------------------------------------------------------------------------------\n",
       "Intercept      0.7410      0.233      3.185      0.002       0.280       1.202\n",
       "Waist          0.0403      0.003     16.073      0.000       0.035       0.045\n",
       "==============================================================================\n",
       "Omnibus:                        2.604   Durbin-Watson:                   1.201\n",
       "Prob(Omnibus):                  0.272   Jarque-Bera (JB):                2.117\n",
       "Skew:                          -0.329   Prob(JB):                        0.347\n",
       "Kurtosis:                       3.182   Cond. No.                         639.\n",
       "==============================================================================\n",
       "\n",
       "Notes:\n",
       "[1] Standard Errors assume that the covariance matrix of the errors is correctly specified.\n",
       "\"\"\""
      ]
     },
     "execution_count": 40,
     "metadata": {},
     "output_type": "execute_result"
    }
   ],
   "source": [
    "model3.summary()"
   ]
  },
  {
   "cell_type": "code",
   "execution_count": 56,
   "id": "89928f15",
   "metadata": {},
   "outputs": [
    {
     "name": "stdout",
     "output_type": "stream",
     "text": [
      "                  0         1\n",
      "Intercept  0.279862  1.202179\n",
      "Waist      0.035288  0.045217\n"
     ]
    }
   ],
   "source": [
    "print(model3.conf_int(0.05)) # 95% confidence level"
   ]
  },
  {
   "cell_type": "code",
   "execution_count": 66,
   "id": "ba7b327c",
   "metadata": {},
   "outputs": [],
   "source": [
    "pred_log = model3.predict(wcat)"
   ]
  },
  {
   "cell_type": "code",
   "execution_count": 67,
   "id": "8151b70c",
   "metadata": {},
   "outputs": [
    {
     "data": {
      "text/plain": [
       "0    25.72\n",
       "1    25.89\n",
       "2    42.60\n",
       "3    42.80\n",
       "4    29.84\n",
       "Name: AT, dtype: float64"
      ]
     },
     "execution_count": 67,
     "metadata": {},
     "output_type": "execute_result"
    }
   ],
   "source": [
    "wcat.AT.head() #Actual values"
   ]
  },
  {
   "cell_type": "code",
   "execution_count": 68,
   "id": "a510d0ed",
   "metadata": {},
   "outputs": [
    {
     "data": {
      "text/plain": [
       "0    3.749889\n",
       "1    3.663346\n",
       "2    4.033669\n",
       "3    4.120211\n",
       "4    3.745864\n",
       "dtype: float64"
      ]
     },
     "execution_count": 68,
     "metadata": {},
     "output_type": "execute_result"
    }
   ],
   "source": [
    "pred_log.head() #These are predicted values but in log format"
   ]
  },
  {
   "cell_type": "code",
   "execution_count": 69,
   "id": "3367bfb0",
   "metadata": {},
   "outputs": [],
   "source": [
    "pred3=np.exp(pred_log)  # as we have used log(AT) in preparing model so we need to convert it back"
   ]
  },
  {
   "cell_type": "code",
   "execution_count": 70,
   "id": "a4d29335",
   "metadata": {},
   "outputs": [
    {
     "data": {
      "text/plain": [
       "0       42.516361\n",
       "1       38.991601\n",
       "2       56.467684\n",
       "3       61.572246\n",
       "4       42.345566\n",
       "          ...    \n",
       "104    117.953181\n",
       "105     89.709020\n",
       "106    126.307181\n",
       "107    161.459872\n",
       "108    165.406833\n",
       "Length: 109, dtype: float64"
      ]
     },
     "execution_count": 70,
     "metadata": {},
     "output_type": "execute_result"
    }
   ],
   "source": [
    "pred3"
   ]
  },
  {
   "cell_type": "code",
   "execution_count": 71,
   "id": "8329c736",
   "metadata": {},
   "outputs": [
    {
     "data": {
      "text/plain": [
       "0.7633804583650526"
      ]
     },
     "execution_count": 71,
     "metadata": {},
     "output_type": "execute_result"
    }
   ],
   "source": [
    "pred3.corr(wcat.AT)"
   ]
  },
  {
   "cell_type": "code",
   "execution_count": 47,
   "id": "b53410b0",
   "metadata": {},
   "outputs": [
    {
     "data": {
      "text/html": [
       "<table class=\"simpletable\">\n",
       "<caption>OLS Regression Results</caption>\n",
       "<tr>\n",
       "  <th>Dep. Variable:</th>       <td>np.log(AT)</td>    <th>  R-squared:         </th> <td>   0.707</td>\n",
       "</tr>\n",
       "<tr>\n",
       "  <th>Model:</th>                   <td>OLS</td>       <th>  Adj. R-squared:    </th> <td>   0.704</td>\n",
       "</tr>\n",
       "<tr>\n",
       "  <th>Method:</th>             <td>Least Squares</td>  <th>  F-statistic:       </th> <td>   258.3</td>\n",
       "</tr>\n",
       "<tr>\n",
       "  <th>Date:</th>             <td>Thu, 14 Dec 2023</td> <th>  Prob (F-statistic):</th> <td>2.68e-30</td>\n",
       "</tr>\n",
       "<tr>\n",
       "  <th>Time:</th>                 <td>14:40:59</td>     <th>  Log-Likelihood:    </th> <td> -40.123</td>\n",
       "</tr>\n",
       "<tr>\n",
       "  <th>No. Observations:</th>      <td>   109</td>      <th>  AIC:               </th> <td>   84.25</td>\n",
       "</tr>\n",
       "<tr>\n",
       "  <th>Df Residuals:</th>          <td>   107</td>      <th>  BIC:               </th> <td>   89.63</td>\n",
       "</tr>\n",
       "<tr>\n",
       "  <th>Df Model:</th>              <td>     1</td>      <th>                     </th>     <td> </td>   \n",
       "</tr>\n",
       "<tr>\n",
       "  <th>Covariance Type:</th>      <td>nonrobust</td>    <th>                     </th>     <td> </td>   \n",
       "</tr>\n",
       "</table>\n",
       "<table class=\"simpletable\">\n",
       "<tr>\n",
       "      <td></td>         <th>coef</th>     <th>std err</th>      <th>t</th>      <th>P>|t|</th>  <th>[0.025</th>    <th>0.975]</th>  \n",
       "</tr>\n",
       "<tr>\n",
       "  <th>Intercept</th> <td>    0.7410</td> <td>    0.233</td> <td>    3.185</td> <td> 0.002</td> <td>    0.280</td> <td>    1.202</td>\n",
       "</tr>\n",
       "<tr>\n",
       "  <th>Waist</th>     <td>    0.0403</td> <td>    0.003</td> <td>   16.073</td> <td> 0.000</td> <td>    0.035</td> <td>    0.045</td>\n",
       "</tr>\n",
       "</table>\n",
       "<table class=\"simpletable\">\n",
       "<tr>\n",
       "  <th>Omnibus:</th>       <td> 2.604</td> <th>  Durbin-Watson:     </th> <td>   1.201</td>\n",
       "</tr>\n",
       "<tr>\n",
       "  <th>Prob(Omnibus):</th> <td> 0.272</td> <th>  Jarque-Bera (JB):  </th> <td>   2.117</td>\n",
       "</tr>\n",
       "<tr>\n",
       "  <th>Skew:</th>          <td>-0.329</td> <th>  Prob(JB):          </th> <td>   0.347</td>\n",
       "</tr>\n",
       "<tr>\n",
       "  <th>Kurtosis:</th>      <td> 3.182</td> <th>  Cond. No.          </th> <td>    639.</td>\n",
       "</tr>\n",
       "</table><br/><br/>Notes:<br/>[1] Standard Errors assume that the covariance matrix of the errors is correctly specified."
      ],
      "text/plain": [
       "<class 'statsmodels.iolib.summary.Summary'>\n",
       "\"\"\"\n",
       "                            OLS Regression Results                            \n",
       "==============================================================================\n",
       "Dep. Variable:             np.log(AT)   R-squared:                       0.707\n",
       "Model:                            OLS   Adj. R-squared:                  0.704\n",
       "Method:                 Least Squares   F-statistic:                     258.3\n",
       "Date:                Thu, 14 Dec 2023   Prob (F-statistic):           2.68e-30\n",
       "Time:                        14:40:59   Log-Likelihood:                -40.123\n",
       "No. Observations:                 109   AIC:                             84.25\n",
       "Df Residuals:                     107   BIC:                             89.63\n",
       "Df Model:                           1                                         \n",
       "Covariance Type:            nonrobust                                         \n",
       "==============================================================================\n",
       "                 coef    std err          t      P>|t|      [0.025      0.975]\n",
       "------------------------------------------------------------------------------\n",
       "Intercept      0.7410      0.233      3.185      0.002       0.280       1.202\n",
       "Waist          0.0403      0.003     16.073      0.000       0.035       0.045\n",
       "==============================================================================\n",
       "Omnibus:                        2.604   Durbin-Watson:                   1.201\n",
       "Prob(Omnibus):                  0.272   Jarque-Bera (JB):                2.117\n",
       "Skew:                          -0.329   Prob(JB):                        0.347\n",
       "Kurtosis:                       3.182   Cond. No.                         639.\n",
       "==============================================================================\n",
       "\n",
       "Notes:\n",
       "[1] Standard Errors assume that the covariance matrix of the errors is correctly specified.\n",
       "\"\"\""
      ]
     },
     "execution_count": 47,
     "metadata": {},
     "output_type": "execute_result"
    }
   ],
   "source": [
    "model3.summary()"
   ]
  },
  {
   "cell_type": "code",
   "execution_count": 72,
   "id": "f55131ab",
   "metadata": {},
   "outputs": [
    {
     "data": {
      "text/plain": [
       "Text(0, 0.5, 'TISSUE')"
      ]
     },
     "execution_count": 72,
     "metadata": {},
     "output_type": "execute_result"
    },
    {
     "data": {
      "image/png": "[encoded data removed]",
      "text/plain": [
       "<Figure size 432x288 with 1 Axes>"
      ]
     },
     "metadata": {
      "needs_background": "light"
     },
     "output_type": "display_data"
    }
   ],
   "source": [
    "#plt.scatter(x=wcat['Waist'],y=np.log(wcat.AT),color='green');\n",
    "plt.scatter(wcat.Waist, np.log(wcat.AT));\n",
    "plt.plot(wcat.Waist,pred_log,color='blue');\n",
    "plt.xlabel('WAIST');plt.ylabel('TISSUE')"
   ]
  },
  {
   "cell_type": "code",
   "execution_count": 73,
   "id": "ffb27ec9",
   "metadata": {},
   "outputs": [],
   "source": [
    "error_3 = pred3-wcat.AT"
   ]
  },
  {
   "cell_type": "code",
   "execution_count": 74,
   "id": "c439aace",
   "metadata": {},
   "outputs": [
    {
     "data": {
      "text/plain": [
       "-3.6591605443507658"
      ]
     },
     "execution_count": 74,
     "metadata": {},
     "output_type": "execute_result"
    }
   ],
   "source": [
    "np.mean(error_3)"
   ]
  },
  {
   "cell_type": "code",
   "execution_count": 75,
   "id": "e77cb83f",
   "metadata": {},
   "outputs": [
    {
     "data": {
      "text/plain": [
       "38.529001758071445"
      ]
     },
     "execution_count": 75,
     "metadata": {},
     "output_type": "execute_result"
    }
   ],
   "source": [
    "RMSE(error_3)"
   ]
  },
  {
   "cell_type": "code",
   "execution_count": 76,
   "id": "8d45ddda",
   "metadata": {},
   "outputs": [],
   "source": [
    "model3_RMSE = RMSE(error_3)"
   ]
  },
  {
   "cell_type": "code",
   "execution_count": 55,
   "id": "0e81824a",
   "metadata": {},
   "outputs": [
    {
     "data": {
      "text/plain": [
       "Text(0, 0.5, 'Standardized Residual')"
      ]
     },
     "execution_count": 55,
     "metadata": {},
     "output_type": "execute_result"
    },
    {
     "data": {
      "image/png": "[encoded data removed]",
      "text/plain": [
       "<Figure size 432x288 with 1 Axes>"
      ]
     },
     "metadata": {
      "needs_background": "light"
     },
     "output_type": "display_data"
    }
   ],
   "source": [
    "# so we will consider the model having highest R-Squared value which is the log transformation - model2\n",
    "# getting residuals of the entire data set\n",
    "\n",
    "#student_resid = model2.resid_pearson \n",
    "\n",
    "#student_resid\n",
    "\n",
    "plt.plot(pred3,model3.resid_pearson,\"o\");\n",
    "plt.axhline(y=0,color='green');\n",
    "plt.xlabel(\"Observation Number\");\n",
    "plt.ylabel(\"Standardized Residual\")"
   ]
  },
  {
   "cell_type": "markdown",
   "id": "837a51bc",
   "metadata": {},
   "source": [
    "But can we do any other mathematical transformation on our data ? Can we try a polynomial model or quadratic polunomial ? Let's try"
   ]
  },
  {
   "cell_type": "code",
   "execution_count": 77,
   "id": "deac7f92",
   "metadata": {},
   "outputs": [
    {
     "data": {
      "text/html": [
       "<div>\n",
       "<style scoped>\n",
       "    .dataframe tbody tr th:only-of-type {\n",
       "        vertical-align: middle;\n",
       "    }\n",
       "\n",
       "    .dataframe tbody tr th {\n",
       "        vertical-align: top;\n",
       "    }\n",
       "\n",
       "    .dataframe thead th {\n",
       "        text-align: right;\n",
       "    }\n",
       "</style>\n",
       "<table border=\"1\" class=\"dataframe\">\n",
       "  <thead>\n",
       "    <tr style=\"text-align: right;\">\n",
       "      <th></th>\n",
       "      <th>Waist</th>\n",
       "      <th>AT</th>\n",
       "      <th>Waist_Sq</th>\n",
       "    </tr>\n",
       "  </thead>\n",
       "  <tbody>\n",
       "    <tr>\n",
       "      <th>0</th>\n",
       "      <td>74.75</td>\n",
       "      <td>25.72</td>\n",
       "      <td>5587.5625</td>\n",
       "    </tr>\n",
       "    <tr>\n",
       "      <th>1</th>\n",
       "      <td>72.60</td>\n",
       "      <td>25.89</td>\n",
       "      <td>5270.7600</td>\n",
       "    </tr>\n",
       "    <tr>\n",
       "      <th>2</th>\n",
       "      <td>81.80</td>\n",
       "      <td>42.60</td>\n",
       "      <td>6691.2400</td>\n",
       "    </tr>\n",
       "    <tr>\n",
       "      <th>3</th>\n",
       "      <td>83.95</td>\n",
       "      <td>42.80</td>\n",
       "      <td>7047.6025</td>\n",
       "    </tr>\n",
       "    <tr>\n",
       "      <th>4</th>\n",
       "      <td>74.65</td>\n",
       "      <td>29.84</td>\n",
       "      <td>5572.6225</td>\n",
       "    </tr>\n",
       "  </tbody>\n",
       "</table>\n",
       "</div>"
      ],
      "text/plain": [
       "   Waist     AT   Waist_Sq\n",
       "0  74.75  25.72  5587.5625\n",
       "1  72.60  25.89  5270.7600\n",
       "2  81.80  42.60  6691.2400\n",
       "3  83.95  42.80  7047.6025\n",
       "4  74.65  29.84  5572.6225"
      ]
     },
     "execution_count": 77,
     "metadata": {},
     "output_type": "execute_result"
    }
   ],
   "source": [
    "# Quadratic model\n",
    "\n",
    "wcat[\"Waist_Sq\"] = wcat.Waist*wcat.Waist\n",
    "wcat.head()"
   ]
  },
  {
   "cell_type": "code",
   "execution_count": 78,
   "id": "c1e37255",
   "metadata": {},
   "outputs": [],
   "source": [
    "model_quad = smf.ols(\"np.log(AT) ~ Waist + Waist_Sq\",data=wcat).fit() #np.log(AT)"
   ]
  },
  {
   "cell_type": "code",
   "execution_count": 79,
   "id": "16953c5f",
   "metadata": {},
   "outputs": [
    {
     "data": {
      "text/plain": [
       "0      3.247269\n",
       "1      3.253857\n",
       "2      3.751854\n",
       "3      3.756538\n",
       "4      3.395850\n",
       "         ...   \n",
       "104    4.820282\n",
       "105    4.130355\n",
       "106    4.890349\n",
       "107    5.337538\n",
       "108    5.337538\n",
       "Name: AT, Length: 109, dtype: float64"
      ]
     },
     "execution_count": 79,
     "metadata": {},
     "output_type": "execute_result"
    }
   ],
   "source": [
    "np.log(wcat.AT)"
   ]
  },
  {
   "cell_type": "code",
   "execution_count": 80,
   "id": "5796cac1",
   "metadata": {},
   "outputs": [
    {
     "data": {
      "text/plain": [
       "Intercept   -7.824071\n",
       "Waist        0.228864\n",
       "Waist_Sq    -0.001016\n",
       "dtype: float64"
      ]
     },
     "execution_count": 80,
     "metadata": {},
     "output_type": "execute_result"
    }
   ],
   "source": [
    "model_quad.params"
   ]
  },
  {
   "cell_type": "code",
   "execution_count": 81,
   "id": "d4ee6912",
   "metadata": {},
   "outputs": [
    {
     "data": {
      "text/html": [
       "<table class=\"simpletable\">\n",
       "<caption>OLS Regression Results</caption>\n",
       "<tr>\n",
       "  <th>Dep. Variable:</th>       <td>np.log(AT)</td>    <th>  R-squared:         </th> <td>   0.779</td>\n",
       "</tr>\n",
       "<tr>\n",
       "  <th>Model:</th>                   <td>OLS</td>       <th>  Adj. R-squared:    </th> <td>   0.775</td>\n",
       "</tr>\n",
       "<tr>\n",
       "  <th>Method:</th>             <td>Least Squares</td>  <th>  F-statistic:       </th> <td>   186.8</td>\n",
       "</tr>\n",
       "<tr>\n",
       "  <th>Date:</th>             <td>Sun, 07 Jan 2024</td> <th>  Prob (F-statistic):</th> <td>1.80e-35</td>\n",
       "</tr>\n",
       "<tr>\n",
       "  <th>Time:</th>                 <td>10:49:10</td>     <th>  Log-Likelihood:    </th> <td> -24.779</td>\n",
       "</tr>\n",
       "<tr>\n",
       "  <th>No. Observations:</th>      <td>   109</td>      <th>  AIC:               </th> <td>   55.56</td>\n",
       "</tr>\n",
       "<tr>\n",
       "  <th>Df Residuals:</th>          <td>   106</td>      <th>  BIC:               </th> <td>   63.63</td>\n",
       "</tr>\n",
       "<tr>\n",
       "  <th>Df Model:</th>              <td>     2</td>      <th>                     </th>     <td> </td>   \n",
       "</tr>\n",
       "<tr>\n",
       "  <th>Covariance Type:</th>      <td>nonrobust</td>    <th>                     </th>     <td> </td>   \n",
       "</tr>\n",
       "</table>\n",
       "<table class=\"simpletable\">\n",
       "<tr>\n",
       "      <td></td>         <th>coef</th>     <th>std err</th>      <th>t</th>      <th>P>|t|</th>  <th>[0.025</th>    <th>0.975]</th>  \n",
       "</tr>\n",
       "<tr>\n",
       "  <th>Intercept</th> <td>   -7.8241</td> <td>    1.473</td> <td>   -5.312</td> <td> 0.000</td> <td>  -10.744</td> <td>   -4.904</td>\n",
       "</tr>\n",
       "<tr>\n",
       "  <th>Waist</th>     <td>    0.2289</td> <td>    0.032</td> <td>    7.107</td> <td> 0.000</td> <td>    0.165</td> <td>    0.293</td>\n",
       "</tr>\n",
       "<tr>\n",
       "  <th>Waist_Sq</th>  <td>   -0.0010</td> <td>    0.000</td> <td>   -5.871</td> <td> 0.000</td> <td>   -0.001</td> <td>   -0.001</td>\n",
       "</tr>\n",
       "</table>\n",
       "<table class=\"simpletable\">\n",
       "<tr>\n",
       "  <th>Omnibus:</th>       <td> 0.325</td> <th>  Durbin-Watson:     </th> <td>   1.464</td>\n",
       "</tr>\n",
       "<tr>\n",
       "  <th>Prob(Omnibus):</th> <td> 0.850</td> <th>  Jarque-Bera (JB):  </th> <td>   0.271</td>\n",
       "</tr>\n",
       "<tr>\n",
       "  <th>Skew:</th>          <td> 0.119</td> <th>  Prob(JB):          </th> <td>   0.873</td>\n",
       "</tr>\n",
       "<tr>\n",
       "  <th>Kurtosis:</th>      <td> 2.949</td> <th>  Cond. No.          </th> <td>4.49e+05</td>\n",
       "</tr>\n",
       "</table><br/><br/>Notes:<br/>[1] Standard Errors assume that the covariance matrix of the errors is correctly specified.<br/>[2] The condition number is large, 4.49e+05. This might indicate that there are<br/>strong multicollinearity or other numerical problems."
      ],
      "text/plain": [
       "<class 'statsmodels.iolib.summary.Summary'>\n",
       "\"\"\"\n",
       "                            OLS Regression Results                            \n",
       "==============================================================================\n",
       "Dep. Variable:             np.log(AT)   R-squared:                       0.779\n",
       "Model:                            OLS   Adj. R-squared:                  0.775\n",
       "Method:                 Least Squares   F-statistic:                     186.8\n",
       "Date:                Sun, 07 Jan 2024   Prob (F-statistic):           1.80e-35\n",
       "Time:                        10:49:10   Log-Likelihood:                -24.779\n",
       "No. Observations:                 109   AIC:                             55.56\n",
       "Df Residuals:                     106   BIC:                             63.63\n",
       "Df Model:                           2                                         \n",
       "Covariance Type:            nonrobust                                         \n",
       "==============================================================================\n",
       "                 coef    std err          t      P>|t|      [0.025      0.975]\n",
       "------------------------------------------------------------------------------\n",
       "Intercept     -7.8241      1.473     -5.312      0.000     -10.744      -4.904\n",
       "Waist          0.2289      0.032      7.107      0.000       0.165       0.293\n",
       "Waist_Sq      -0.0010      0.000     -5.871      0.000      -0.001      -0.001\n",
       "==============================================================================\n",
       "Omnibus:                        0.325   Durbin-Watson:                   1.464\n",
       "Prob(Omnibus):                  0.850   Jarque-Bera (JB):                0.271\n",
       "Skew:                           0.119   Prob(JB):                        0.873\n",
       "Kurtosis:                       2.949   Cond. No.                     4.49e+05\n",
       "==============================================================================\n",
       "\n",
       "Notes:\n",
       "[1] Standard Errors assume that the covariance matrix of the errors is correctly specified.\n",
       "[2] The condition number is large, 4.49e+05. This might indicate that there are\n",
       "strong multicollinearity or other numerical problems.\n",
       "\"\"\""
      ]
     },
     "execution_count": 81,
     "metadata": {},
     "output_type": "execute_result"
    }
   ],
   "source": [
    "model_quad.summary()# 0.672 was the Adj R2 for model 2  "
   ]
  },
  {
   "cell_type": "code",
   "execution_count": 85,
   "id": "98b8ba74",
   "metadata": {},
   "outputs": [
    {
     "name": "stdout",
     "output_type": "stream",
     "text": [
      "0    3.604938\n",
      "1    3.434844\n",
      "2    4.096771\n",
      "3    4.226660\n",
      "4    3.597235\n",
      "dtype: float64\n"
     ]
    }
   ],
   "source": [
    "pred_quad = model_quad.predict(wcat) #predicted values again in the log format and needs to convert back in original by taking exp\n",
    "print(pred_quad.head(5))"
   ]
  },
  {
   "cell_type": "code",
   "execution_count": 87,
   "id": "67aa693d",
   "metadata": {},
   "outputs": [
    {
     "data": {
      "text/plain": [
       "0    36.779400\n",
       "1    31.026570\n",
       "2    60.145769\n",
       "3    68.488132\n",
       "4    36.497176\n",
       "dtype: float64"
      ]
     },
     "execution_count": 87,
     "metadata": {},
     "output_type": "execute_result"
    }
   ],
   "source": [
    "pred4=np.exp(pred_quad)\n",
    "pred4.head(5)"
   ]
  },
  {
   "cell_type": "code",
   "execution_count": 88,
   "id": "e3577eac",
   "metadata": {},
   "outputs": [],
   "source": [
    "error_4 = pred4-wcat.AT"
   ]
  },
  {
   "cell_type": "code",
   "execution_count": 89,
   "id": "9243689c",
   "metadata": {},
   "outputs": [
    {
     "data": {
      "text/plain": [
       "-4.2426741884578565"
      ]
     },
     "execution_count": 89,
     "metadata": {},
     "output_type": "execute_result"
    }
   ],
   "source": [
    "np.mean(error_4)"
   ]
  },
  {
   "cell_type": "code",
   "execution_count": 90,
   "id": "81b3af4c",
   "metadata": {},
   "outputs": [
    {
     "data": {
      "text/plain": [
       "32.24444782776208"
      ]
     },
     "execution_count": 90,
     "metadata": {},
     "output_type": "execute_result"
    }
   ],
   "source": [
    "RMSE(error_4)"
   ]
  },
  {
   "cell_type": "code",
   "execution_count": 91,
   "id": "1fb34194",
   "metadata": {},
   "outputs": [],
   "source": [
    "model4_RMSE = RMSE(error_4)"
   ]
  },
  {
   "cell_type": "code",
   "execution_count": 92,
   "id": "af22a23a",
   "metadata": {},
   "outputs": [
    {
     "data": {
      "text/plain": [
       "Text(0, 0.5, 'TISSUE')"
      ]
     },
     "execution_count": 92,
     "metadata": {},
     "output_type": "execute_result"
    },
    {
     "data": {
      "image/png": "[encoded data removed]",
      "text/plain": [
       "<Figure size 432x288 with 1 Axes>"
      ]
     },
     "metadata": {
      "needs_background": "light"
     },
     "output_type": "display_data"
    }
   ],
   "source": [
    "#plt.scatter(x=wcat['Waist'],y=wcat['AT'],color='green');\n",
    "plt.scatter(wcat.Waist, np.log(wcat.AT));\n",
    "plt.plot(wcat.Waist,pred_quad,color='blue');\n",
    "plt.xlabel('WAIST');plt.ylabel('TISSUE')"
   ]
  },
  {
   "cell_type": "code",
   "execution_count": 24,
   "id": "0caa0592",
   "metadata": {},
   "outputs": [
    {
     "data": {
      "text/html": [
       "<div>\n",
       "<style scoped>\n",
       "    .dataframe tbody tr th:only-of-type {\n",
       "        vertical-align: middle;\n",
       "    }\n",
       "\n",
       "    .dataframe tbody tr th {\n",
       "        vertical-align: top;\n",
       "    }\n",
       "\n",
       "    .dataframe thead th {\n",
       "        text-align: right;\n",
       "    }\n",
       "</style>\n",
       "<table border=\"1\" class=\"dataframe\">\n",
       "  <thead>\n",
       "    <tr style=\"text-align: right;\">\n",
       "      <th></th>\n",
       "      <th>0</th>\n",
       "      <th>1</th>\n",
       "    </tr>\n",
       "  </thead>\n",
       "  <tbody>\n",
       "    <tr>\n",
       "      <th>Intercept</th>\n",
       "      <td>-10.744361</td>\n",
       "      <td>-4.903782</td>\n",
       "    </tr>\n",
       "    <tr>\n",
       "      <th>Waist</th>\n",
       "      <td>0.165023</td>\n",
       "      <td>0.292706</td>\n",
       "    </tr>\n",
       "    <tr>\n",
       "      <th>Waist_Sq</th>\n",
       "      <td>-0.001359</td>\n",
       "      <td>-0.000673</td>\n",
       "    </tr>\n",
       "  </tbody>\n",
       "</table>\n",
       "</div>"
      ],
      "text/plain": [
       "                   0         1\n",
       "Intercept -10.744361 -4.903782\n",
       "Waist       0.165023  0.292706\n",
       "Waist_Sq   -0.001359 -0.000673"
      ]
     },
     "execution_count": 24,
     "metadata": {},
     "output_type": "execute_result"
    }
   ],
   "source": [
    "model_quad.conf_int(0.05) "
   ]
  },
  {
   "cell_type": "code",
   "execution_count": 93,
   "id": "e6953595",
   "metadata": {},
   "outputs": [
    {
     "data": {
      "text/plain": [
       "Text(0, 0.5, 'Standardized Residual')"
      ]
     },
     "execution_count": 93,
     "metadata": {},
     "output_type": "execute_result"
    },
    {
     "data": {
      "image/png": "[encoded data removed]",
      "text/plain": [
       "<Figure size 432x288 with 1 Axes>"
      ]
     },
     "metadata": {
      "needs_background": "light"
     },
     "output_type": "display_data"
    }
   ],
   "source": [
    "# Checking the distribution of errors and their variance from mean (approximately 0 here)\n",
    "\n",
    "plt.scatter(np.arange(109),model_quad.resid_pearson);\n",
    "plt.axhline(y=0,color='red');\n",
    "plt.xlabel(\"Observation Number\");\n",
    "plt.ylabel(\"Standardized Residual\")"
   ]
  },
  {
   "cell_type": "code",
   "execution_count": 94,
   "id": "e174819b",
   "metadata": {},
   "outputs": [
    {
     "data": {
      "text/plain": [
       "(array([ 5.,  5., 16., 19., 27., 15., 14.,  5.,  2.,  1.]),\n",
       " array([-2.26761195, -1.74678239, -1.22595282, -0.70512326, -0.1842937 ,\n",
       "         0.33653586,  0.85736542,  1.37819499,  1.89902455,  2.41985411,\n",
       "         2.94068367]),\n",
       " <BarContainer object of 10 artists>)"
      ]
     },
     "execution_count": 94,
     "metadata": {},
     "output_type": "execute_result"
    },
    {
     "data": {
      "image/png": "[encoded data removed]",
      "text/plain": [
       "<Figure size 432x288 with 1 Axes>"
      ]
     },
     "metadata": {
      "needs_background": "light"
     },
     "output_type": "display_data"
    }
   ],
   "source": [
    "# Checking the distribution of errors and their variance from mean (approximately 0 here) using histogram\n",
    "\n",
    "plt.hist(model_quad.resid_pearson) # histogram for residual values"
   ]
  },
  {
   "cell_type": "markdown",
   "id": "dc653e58",
   "metadata": {},
   "source": [
    "So, above we have written 4 models of simple linear regression and we have tabulated the result in excel sheet to compare, let's check which model is best among above 4 in our SLR model summary file"
   ]
  },
  {
   "cell_type": "code",
   "execution_count": null,
   "id": "f8898de1",
   "metadata": {},
   "outputs": [],
   "source": []
  }
 ],
 "metadata": {
  "kernelspec": {
   "display_name": "Python 3 (ipykernel)",
   "language": "python",
   "name": "python3"
  },
  "language_info": {
   "codemirror_mode": {
    "name": "ipython",
    "version": 3
   },
   "file_extension": ".py",
   "mimetype": "text/x-python",
   "name": "python",
   "nbconvert_exporter": "python",
   "pygments_lexer": "ipython3",
   "version": "3.9.7"
  }
 },
 "nbformat": 4,
 "nbformat_minor": 5
}
