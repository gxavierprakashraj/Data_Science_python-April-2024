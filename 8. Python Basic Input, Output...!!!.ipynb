{
 "cells": [
  {
   "cell_type": "markdown",
   "id": "338ffdb4",
   "metadata": {},
   "source": [
    "# Python Basic Input and Output"
   ]
  },
  {
   "cell_type": "markdown",
   "id": "51f1f4cd",
   "metadata": {},
   "source": [
    "In this tutorial, we will learn simple ways to display output to users and take input from users in Python with the help of examples."
   ]
  },
  {
   "cell_type": "markdown",
   "id": "06ae1c6d",
   "metadata": {},
   "source": [
    "# Python Output\n",
    "\n",
    "In Python, we can simply use the print() function to print output. For example,"
   ]
  },
  {
   "cell_type": "code",
   "execution_count": 1,
   "id": "ba53b15f",
   "metadata": {},
   "outputs": [
    {
     "name": "stdout",
     "output_type": "stream",
     "text": [
      "Python is powerful * And I am good\n"
     ]
    }
   ],
   "source": [
    "print('Python is powerful ', ' And I am good', sep = '*')\n",
    "\n",
    "# Output: Python is powerful"
   ]
  },
  {
   "cell_type": "markdown",
   "id": "4089c35c",
   "metadata": {},
   "source": [
    "Here, the print() function displays the string enclosed inside the single quotation.\n",
    "\n",
    "Syntax of print()\n",
    "\n",
    "In the above code, the print() function is taking a single parameter.\n",
    "\n",
    "However, the actual syntax of the print function accepts 5 parameters\n",
    "\n",
    "print(object= separator= end= file= flush=)\n",
    "Here,\n",
    "\n",
    "object - value(s) to be printed\n",
    "\n",
    "sep (optional) - allows us to separate multiple objects inside print().\n",
    "\n",
    "end (optional) - allows us to add add specific values like new line \"\\n\", tab \"\\t\"\n",
    "\n",
    "file (optional) - where the values are printed. It's default value is sys.stdout (screen)\n",
    "\n",
    "flush (optional) - boolean specifying if the output is flushed or buffered. Default: False"
   ]
  },
  {
   "cell_type": "markdown",
   "id": "dcfcc90c",
   "metadata": {},
   "source": [
    "# Example 1: Python Print Statement"
   ]
  },
  {
   "cell_type": "code",
   "execution_count": 2,
   "id": "2609a7ef",
   "metadata": {},
   "outputs": [
    {
     "name": "stdout",
     "output_type": "stream",
     "text": [
      "Good Morning!\n",
      "It is rainy today\n"
     ]
    }
   ],
   "source": [
    "print('Good Morning!')\n",
    "print('It is rainy today')"
   ]
  },
  {
   "cell_type": "markdown",
   "id": "0b78f559",
   "metadata": {},
   "source": [
    "In the above example, the print() statement only includes the object to be printed. \n",
    "Here, the value for end is not used. Hence, it takes the default value '\\n'.\n",
    "\n",
    "So we get the output in two different lines."
   ]
  },
  {
   "cell_type": "markdown",
   "id": "bc16f217",
   "metadata": {},
   "source": [
    "# Example 2: Python print() with end Parameter"
   ]
  },
  {
   "cell_type": "code",
   "execution_count": 3,
   "id": "2dea3ceb",
   "metadata": {},
   "outputs": [
    {
     "name": "stdout",
     "output_type": "stream",
     "text": [
      "Good Morning! It is rainy today\n"
     ]
    }
   ],
   "source": [
    "# print with end whitespace\n",
    "print('Good Morning!', end= ' ')\n",
    "\n",
    "print('It is rainy today')"
   ]
  },
  {
   "cell_type": "markdown",
   "id": "7db3cce6",
   "metadata": {},
   "source": [
    "Notice that we have included the end= ' ' after the end of the first print() statement.\n",
    "\n",
    "Hence, we get the output in a single line separated by space."
   ]
  },
  {
   "cell_type": "markdown",
   "id": "213ae9f7",
   "metadata": {},
   "source": [
    "# Example 3: Python print() with sep parameter"
   ]
  },
  {
   "cell_type": "code",
   "execution_count": 4,
   "id": "b1b3e7f2",
   "metadata": {},
   "outputs": [
    {
     "name": "stdout",
     "output_type": "stream",
     "text": [
      "New Year. 2024. See you soon!\n"
     ]
    }
   ],
   "source": [
    "print('New Year', 2024, 'See you soon!', sep= '. ')"
   ]
  },
  {
   "cell_type": "markdown",
   "id": "8836d9c6",
   "metadata": {},
   "source": [
    "In the above example, the print() statement includes multiple items separated by a comma.\n",
    "\n",
    "Notice that we have used the optional parameter sep= \". \" inside the print() statement.\n",
    "\n",
    "Hence, the output includes items separated by . not comma."
   ]
  },
  {
   "cell_type": "markdown",
   "id": "431fc83c",
   "metadata": {},
   "source": [
    "# Example: Print Python Variables and Literals\n",
    "\n",
    "We can also use the print() function to print Python variables. For example,"
   ]
  },
  {
   "cell_type": "code",
   "execution_count": 5,
   "id": "4d7437c2",
   "metadata": {
    "scrolled": true
   },
   "outputs": [
    {
     "name": "stdout",
     "output_type": "stream",
     "text": [
      "5\n",
      "-10.6\n",
      "Programers\n"
     ]
    }
   ],
   "source": [
    "number = -10.6\n",
    "\n",
    "name = \"Programers\"\n",
    "\n",
    "# print literals     \n",
    "print(5)\n",
    "\n",
    "# print variables\n",
    "print(number)\n",
    "print(name)"
   ]
  },
  {
   "cell_type": "markdown",
   "id": "d87496c5",
   "metadata": {},
   "source": [
    "# Example: Print Concatenated Strings\n",
    "\n",
    "We can also join two strings together inside the print() statement. For example,"
   ]
  },
  {
   "cell_type": "code",
   "execution_count": 6,
   "id": "4e59e267",
   "metadata": {},
   "outputs": [
    {
     "name": "stdout",
     "output_type": "stream",
     "text": [
      "Programer is awesome.\n"
     ]
    }
   ],
   "source": [
    "print('Programer is' + ' awesome.')"
   ]
  },
  {
   "cell_type": "markdown",
   "id": "06572397",
   "metadata": {},
   "source": [
    "Here,\n",
    "\n",
    "the + operator joins two strings 'Programer is ' and 'awesome.'\n",
    "\n",
    "the print() function prints the joined string"
   ]
  },
  {
   "cell_type": "markdown",
   "id": "e6b066eb",
   "metadata": {},
   "source": [
    "# Output formatting\n",
    "\n",
    "Sometimes we would like to format our output to make it look attractive.\n",
    "\n",
    "This can be done by using the str.format() method. For example,"
   ]
  },
  {
   "cell_type": "code",
   "execution_count": 1,
   "id": "c54a8a27",
   "metadata": {},
   "outputs": [
    {
     "name": "stdout",
     "output_type": "stream",
     "text": [
      "The value of x is 5 and y is 10\n"
     ]
    }
   ],
   "source": [
    "x = 5\n",
    "y = 10\n",
    "\n",
    "print('The value of x is {} and y is {}'.format(x,y))"
   ]
  },
  {
   "cell_type": "markdown",
   "id": "6e48d483",
   "metadata": {},
   "source": [
    "Here, the curly braces {} are used as placeholders. We can specify the order in which they are printed by using numbers (tuple index)."
   ]
  },
  {
   "cell_type": "markdown",
   "id": "930f4d62",
   "metadata": {},
   "source": [
    "# Python Input\n",
    "\n",
    "While programming, we might want to take the input from the user. In Python, we can use the input() function.\n",
    "\n",
    "Syntax of input()\n",
    "\n",
    "input(prompt)\n",
    "\n",
    "Here, prompt is the string we wish to display on the screen. It is optional."
   ]
  },
  {
   "cell_type": "markdown",
   "id": "ab258046",
   "metadata": {},
   "source": [
    "# Example: Python User Input"
   ]
  },
  {
   "cell_type": "code",
   "execution_count": 9,
   "id": "5d6940f9",
   "metadata": {},
   "outputs": [
    {
     "name": "stdout",
     "output_type": "stream",
     "text": [
      "Enter a number: 5\n",
      "You Entered: 5\n",
      "Data type of num: <class 'str'>\n"
     ]
    }
   ],
   "source": [
    "# using input() to take user input\n",
    "num = input('Enter a number: ')\n",
    "\n",
    "print('You Entered:', num)\n",
    "\n",
    "print('Data type of num:', type(num))"
   ]
  },
  {
   "cell_type": "markdown",
   "id": "fb79a5f4",
   "metadata": {},
   "source": [
    "In the above example, we have used the input() function to take input from the user and stored the user input in the num variable.\n",
    "\n",
    "It is important to note that the entered value 10 is a string, not a number. So, type(num) returns <class 'str'>.\n",
    "\n",
    "To convert user input into a number we can use int() or float() functions as:"
   ]
  },
  {
   "cell_type": "code",
   "execution_count": 11,
   "id": "cc04593f",
   "metadata": {},
   "outputs": [
    {
     "name": "stdout",
     "output_type": "stream",
     "text": [
      "Enter a number: -10\n",
      "You Entered: -10\n",
      "Data type of num: <class 'int'>\n"
     ]
    }
   ],
   "source": [
    "num = int(input('Enter a number: '))\n",
    "\n",
    "print('You Entered:', num)\n",
    "\n",
    "print('Data type of num:', type(num))"
   ]
  },
  {
   "cell_type": "markdown",
   "id": "fca50ae4",
   "metadata": {},
   "source": [
    "Here, the data type of the user input is converted from string to integer ."
   ]
  },
  {
   "cell_type": "code",
   "execution_count": 12,
   "id": "690e6f3d",
   "metadata": {},
   "outputs": [
    {
     "name": "stdout",
     "output_type": "stream",
     "text": [
      "Enter a number: 10.52\n",
      "You Entered: 10.52\n",
      "Data type of num: <class 'float'>\n"
     ]
    }
   ],
   "source": [
    "num = float(input('Enter a number: '))\n",
    "\n",
    "#num = float(num)\n",
    "\n",
    "print('You Entered:', num)\n",
    "\n",
    "print('Data type of num:', type(num))"
   ]
  },
  {
   "cell_type": "code",
   "execution_count": null,
   "id": "5ab1d51b",
   "metadata": {},
   "outputs": [],
   "source": []
  }
 ],
 "metadata": {
  "kernelspec": {
   "display_name": "Python 3 (ipykernel)",
   "language": "python",
   "name": "python3"
  },
  "language_info": {
   "codemirror_mode": {
    "name": "ipython",
    "version": 3
   },
   "file_extension": ".py",
   "mimetype": "text/x-python",
   "name": "python",
   "nbconvert_exporter": "python",
   "pygments_lexer": "ipython3",
   "version": "3.9.7"
  }
 },
 "nbformat": 4,
 "nbformat_minor": 5
}
