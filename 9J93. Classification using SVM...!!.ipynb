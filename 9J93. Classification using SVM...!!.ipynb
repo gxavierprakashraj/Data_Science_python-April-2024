{
 "cells": [
  {
   "cell_type": "markdown",
   "id": "50cccc41",
   "metadata": {},
   "source": [
    "Classification is the task of assigning an observation to a category based on specific criteria.\n",
    "\n",
    "In machine learning, classification is part of supervised learning, which means that the data used to train the model have labels that identify each category.\n",
    "\n",
    "A critical step in the life cycle of a machine learning model is the evaluation of its performance.\n",
    "\n",
    "Two techniques used to evaluate a classification model are the confusion matrix and the classification report."
   ]
  },
  {
   "cell_type": "markdown",
   "id": "8651c7a3",
   "metadata": {},
   "source": [
    "we will learn to interpret the confusion matrix and the classification report while using them to evaluate the performance of a Different models on two common types of classification problems:"
   ]
  },
  {
   "cell_type": "markdown",
   "id": "f60d9a15",
   "metadata": {},
   "source": [
    "1. Binary classification\n",
    "\n",
    "2. Multiclass classification"
   ]
  },
  {
   "cell_type": "markdown",
   "id": "8005246f",
   "metadata": {},
   "source": [
    "# Binary classification"
   ]
  },
  {
   "cell_type": "markdown",
   "id": "3b380db3",
   "metadata": {},
   "source": [
    "### Breast cancer classification"
   ]
  },
  {
   "cell_type": "markdown",
   "id": "b9928930",
   "metadata": {},
   "source": [
    "In our binary classification problem, we will use the Wisconsin breast cancer dataset from sci-kit learn (sklearn). The goal is to train a model to predict whether biopsies of breast tissue are benign or malignant based on characteristics of the nuclei of the cells.\n",
    "\n",
    "In binary classification, we refer to the class we want to predict (malignant) as Positive and the second class (benign) as Negative.\n",
    "\n",
    "I have labeled the benign samples as 0 and the malignant samples as 1.\n",
    "\n",
    "Let's see the dataset in excel workbook in csv format and the import the data here..."
   ]
  },
  {
   "cell_type": "code",
   "execution_count": 1,
   "id": "acaa6966",
   "metadata": {},
   "outputs": [],
   "source": [
    "import pandas as pd\n",
    "cancer = pd.read_csv('Datasets\\cancer.csv') #For breast cancer prediction data"
   ]
  },
  {
   "cell_type": "code",
   "execution_count": null,
   "id": "ab9f065f",
   "metadata": {},
   "outputs": [],
   "source": [
    "#iris = pd.read_csv('Datasets\\iris.csv') #For iris species prediction (convert the o/p column to target)"
   ]
  },
  {
   "cell_type": "code",
   "execution_count": null,
   "id": "a71cd5d5",
   "metadata": {},
   "outputs": [],
   "source": [
    "#claimant = pd.read_csv('Datasets\\claimant.csv') #For claimant hiring attorney prediction (convert the o/p column to target)"
   ]
  },
  {
   "cell_type": "code",
   "execution_count": 2,
   "id": "4ee32043",
   "metadata": {},
   "outputs": [
    {
     "data": {
      "text/plain": [
       "(569, 31)"
      ]
     },
     "execution_count": 2,
     "metadata": {},
     "output_type": "execute_result"
    }
   ],
   "source": [
    "cancer.shape"
   ]
  },
  {
   "cell_type": "code",
   "execution_count": 3,
   "id": "95e26a39",
   "metadata": {},
   "outputs": [
    {
     "data": {
      "text/html": [
       "<div>\n",
       "<style scoped>\n",
       "    .dataframe tbody tr th:only-of-type {\n",
       "        vertical-align: middle;\n",
       "    }\n",
       "\n",
       "    .dataframe tbody tr th {\n",
       "        vertical-align: top;\n",
       "    }\n",
       "\n",
       "    .dataframe thead th {\n",
       "        text-align: right;\n",
       "    }\n",
       "</style>\n",
       "<table border=\"1\" class=\"dataframe\">\n",
       "  <thead>\n",
       "    <tr style=\"text-align: right;\">\n",
       "      <th></th>\n",
       "      <th>target</th>\n",
       "      <th>mean radius</th>\n",
       "      <th>mean texture</th>\n",
       "      <th>mean perimeter</th>\n",
       "      <th>mean area</th>\n",
       "      <th>mean smoothness</th>\n",
       "      <th>mean compactness</th>\n",
       "      <th>mean concavity</th>\n",
       "      <th>mean concave points</th>\n",
       "      <th>mean symmetry</th>\n",
       "      <th>...</th>\n",
       "      <th>worst radius</th>\n",
       "      <th>worst texture</th>\n",
       "      <th>worst perimeter</th>\n",
       "      <th>worst area</th>\n",
       "      <th>worst smoothness</th>\n",
       "      <th>worst compactness</th>\n",
       "      <th>worst concavity</th>\n",
       "      <th>worst concave points</th>\n",
       "      <th>worst symmetry</th>\n",
       "      <th>worst fractal dimension</th>\n",
       "    </tr>\n",
       "  </thead>\n",
       "  <tbody>\n",
       "    <tr>\n",
       "      <th>0</th>\n",
       "      <td>1</td>\n",
       "      <td>17.99</td>\n",
       "      <td>10.38</td>\n",
       "      <td>122.80</td>\n",
       "      <td>1001.0</td>\n",
       "      <td>0.11840</td>\n",
       "      <td>0.27760</td>\n",
       "      <td>0.3001</td>\n",
       "      <td>0.14710</td>\n",
       "      <td>0.2419</td>\n",
       "      <td>...</td>\n",
       "      <td>25.38</td>\n",
       "      <td>17.33</td>\n",
       "      <td>184.60</td>\n",
       "      <td>2019.0</td>\n",
       "      <td>0.1622</td>\n",
       "      <td>0.6656</td>\n",
       "      <td>0.7119</td>\n",
       "      <td>0.2654</td>\n",
       "      <td>0.4601</td>\n",
       "      <td>0.11890</td>\n",
       "    </tr>\n",
       "    <tr>\n",
       "      <th>1</th>\n",
       "      <td>1</td>\n",
       "      <td>20.57</td>\n",
       "      <td>17.77</td>\n",
       "      <td>132.90</td>\n",
       "      <td>1326.0</td>\n",
       "      <td>0.08474</td>\n",
       "      <td>0.07864</td>\n",
       "      <td>0.0869</td>\n",
       "      <td>0.07017</td>\n",
       "      <td>0.1812</td>\n",
       "      <td>...</td>\n",
       "      <td>24.99</td>\n",
       "      <td>23.41</td>\n",
       "      <td>158.80</td>\n",
       "      <td>1956.0</td>\n",
       "      <td>0.1238</td>\n",
       "      <td>0.1866</td>\n",
       "      <td>0.2416</td>\n",
       "      <td>0.1860</td>\n",
       "      <td>0.2750</td>\n",
       "      <td>0.08902</td>\n",
       "    </tr>\n",
       "    <tr>\n",
       "      <th>2</th>\n",
       "      <td>1</td>\n",
       "      <td>19.69</td>\n",
       "      <td>21.25</td>\n",
       "      <td>130.00</td>\n",
       "      <td>1203.0</td>\n",
       "      <td>0.10960</td>\n",
       "      <td>0.15990</td>\n",
       "      <td>0.1974</td>\n",
       "      <td>0.12790</td>\n",
       "      <td>0.2069</td>\n",
       "      <td>...</td>\n",
       "      <td>23.57</td>\n",
       "      <td>25.53</td>\n",
       "      <td>152.50</td>\n",
       "      <td>1709.0</td>\n",
       "      <td>0.1444</td>\n",
       "      <td>0.4245</td>\n",
       "      <td>0.4504</td>\n",
       "      <td>0.2430</td>\n",
       "      <td>0.3613</td>\n",
       "      <td>0.08758</td>\n",
       "    </tr>\n",
       "    <tr>\n",
       "      <th>3</th>\n",
       "      <td>1</td>\n",
       "      <td>11.42</td>\n",
       "      <td>20.38</td>\n",
       "      <td>77.58</td>\n",
       "      <td>386.1</td>\n",
       "      <td>0.14250</td>\n",
       "      <td>0.28390</td>\n",
       "      <td>0.2414</td>\n",
       "      <td>0.10520</td>\n",
       "      <td>0.2597</td>\n",
       "      <td>...</td>\n",
       "      <td>14.91</td>\n",
       "      <td>26.50</td>\n",
       "      <td>98.87</td>\n",
       "      <td>567.7</td>\n",
       "      <td>0.2098</td>\n",
       "      <td>0.8663</td>\n",
       "      <td>0.6869</td>\n",
       "      <td>0.2575</td>\n",
       "      <td>0.6638</td>\n",
       "      <td>0.17300</td>\n",
       "    </tr>\n",
       "    <tr>\n",
       "      <th>4</th>\n",
       "      <td>1</td>\n",
       "      <td>20.29</td>\n",
       "      <td>14.34</td>\n",
       "      <td>135.10</td>\n",
       "      <td>1297.0</td>\n",
       "      <td>0.10030</td>\n",
       "      <td>0.13280</td>\n",
       "      <td>0.1980</td>\n",
       "      <td>0.10430</td>\n",
       "      <td>0.1809</td>\n",
       "      <td>...</td>\n",
       "      <td>22.54</td>\n",
       "      <td>16.67</td>\n",
       "      <td>152.20</td>\n",
       "      <td>1575.0</td>\n",
       "      <td>0.1374</td>\n",
       "      <td>0.2050</td>\n",
       "      <td>0.4000</td>\n",
       "      <td>0.1625</td>\n",
       "      <td>0.2364</td>\n",
       "      <td>0.07678</td>\n",
       "    </tr>\n",
       "    <tr>\n",
       "      <th>5</th>\n",
       "      <td>1</td>\n",
       "      <td>12.45</td>\n",
       "      <td>15.70</td>\n",
       "      <td>82.57</td>\n",
       "      <td>477.1</td>\n",
       "      <td>0.12780</td>\n",
       "      <td>0.17000</td>\n",
       "      <td>0.1578</td>\n",
       "      <td>0.08089</td>\n",
       "      <td>0.2087</td>\n",
       "      <td>...</td>\n",
       "      <td>15.47</td>\n",
       "      <td>23.75</td>\n",
       "      <td>103.40</td>\n",
       "      <td>741.6</td>\n",
       "      <td>0.1791</td>\n",
       "      <td>0.5249</td>\n",
       "      <td>0.5355</td>\n",
       "      <td>0.1741</td>\n",
       "      <td>0.3985</td>\n",
       "      <td>0.12440</td>\n",
       "    </tr>\n",
       "    <tr>\n",
       "      <th>6</th>\n",
       "      <td>1</td>\n",
       "      <td>18.25</td>\n",
       "      <td>19.98</td>\n",
       "      <td>119.60</td>\n",
       "      <td>1040.0</td>\n",
       "      <td>0.09463</td>\n",
       "      <td>0.10900</td>\n",
       "      <td>0.1127</td>\n",
       "      <td>0.07400</td>\n",
       "      <td>0.1794</td>\n",
       "      <td>...</td>\n",
       "      <td>22.88</td>\n",
       "      <td>27.66</td>\n",
       "      <td>153.20</td>\n",
       "      <td>1606.0</td>\n",
       "      <td>0.1442</td>\n",
       "      <td>0.2576</td>\n",
       "      <td>0.3784</td>\n",
       "      <td>0.1932</td>\n",
       "      <td>0.3063</td>\n",
       "      <td>0.08368</td>\n",
       "    </tr>\n",
       "  </tbody>\n",
       "</table>\n",
       "<p>7 rows × 31 columns</p>\n",
       "</div>"
      ],
      "text/plain": [
       "   target  mean radius  mean texture  mean perimeter  mean area  \\\n",
       "0       1        17.99         10.38          122.80     1001.0   \n",
       "1       1        20.57         17.77          132.90     1326.0   \n",
       "2       1        19.69         21.25          130.00     1203.0   \n",
       "3       1        11.42         20.38           77.58      386.1   \n",
       "4       1        20.29         14.34          135.10     1297.0   \n",
       "5       1        12.45         15.70           82.57      477.1   \n",
       "6       1        18.25         19.98          119.60     1040.0   \n",
       "\n",
       "   mean smoothness  mean compactness  mean concavity  mean concave points  \\\n",
       "0          0.11840           0.27760          0.3001              0.14710   \n",
       "1          0.08474           0.07864          0.0869              0.07017   \n",
       "2          0.10960           0.15990          0.1974              0.12790   \n",
       "3          0.14250           0.28390          0.2414              0.10520   \n",
       "4          0.10030           0.13280          0.1980              0.10430   \n",
       "5          0.12780           0.17000          0.1578              0.08089   \n",
       "6          0.09463           0.10900          0.1127              0.07400   \n",
       "\n",
       "   mean symmetry  ...  worst radius  worst texture  worst perimeter  \\\n",
       "0         0.2419  ...         25.38          17.33           184.60   \n",
       "1         0.1812  ...         24.99          23.41           158.80   \n",
       "2         0.2069  ...         23.57          25.53           152.50   \n",
       "3         0.2597  ...         14.91          26.50            98.87   \n",
       "4         0.1809  ...         22.54          16.67           152.20   \n",
       "5         0.2087  ...         15.47          23.75           103.40   \n",
       "6         0.1794  ...         22.88          27.66           153.20   \n",
       "\n",
       "   worst area  worst smoothness  worst compactness  worst concavity  \\\n",
       "0      2019.0            0.1622             0.6656           0.7119   \n",
       "1      1956.0            0.1238             0.1866           0.2416   \n",
       "2      1709.0            0.1444             0.4245           0.4504   \n",
       "3       567.7            0.2098             0.8663           0.6869   \n",
       "4      1575.0            0.1374             0.2050           0.4000   \n",
       "5       741.6            0.1791             0.5249           0.5355   \n",
       "6      1606.0            0.1442             0.2576           0.3784   \n",
       "\n",
       "   worst concave points  worst symmetry  worst fractal dimension  \n",
       "0                0.2654          0.4601                  0.11890  \n",
       "1                0.1860          0.2750                  0.08902  \n",
       "2                0.2430          0.3613                  0.08758  \n",
       "3                0.2575          0.6638                  0.17300  \n",
       "4                0.1625          0.2364                  0.07678  \n",
       "5                0.1741          0.3985                  0.12440  \n",
       "6                0.1932          0.3063                  0.08368  \n",
       "\n",
       "[7 rows x 31 columns]"
      ]
     },
     "execution_count": 3,
     "metadata": {},
     "output_type": "execute_result"
    }
   ],
   "source": [
    "cancer.head(7)"
   ]
  },
  {
   "cell_type": "markdown",
   "id": "ef942987",
   "metadata": {},
   "source": [
    "### Let's Check the proportion of benign (0) and malignant (1) observations in the dependent variable target."
   ]
  },
  {
   "cell_type": "code",
   "execution_count": 4,
   "id": "06beea22",
   "metadata": {},
   "outputs": [
    {
     "name": "stdout",
     "output_type": "stream",
     "text": [
      "0    0.63\n",
      "1    0.37\n",
      "Name: target, dtype: float64\n"
     ]
    }
   ],
   "source": [
    "print(round(cancer['target'].value_counts()/len(cancer), 2))"
   ]
  },
  {
   "cell_type": "markdown",
   "id": "0a02dd4c",
   "metadata": {},
   "source": [
    "### 63% of the observations are benign, and 37% are malignant."
   ]
  },
  {
   "cell_type": "code",
   "execution_count": 5,
   "id": "ab7c219f",
   "metadata": {},
   "outputs": [],
   "source": [
    "# Libraries for data manipulation and visualization\n",
    "import numpy as np\n",
    "import pandas as pd\n",
    "import matplotlib.pyplot as plt\n",
    "import seaborn as sns\n",
    "# Libraries and modules for Machine Learning\n",
    "from sklearn.svm import SVC\n",
    "from sklearn.model_selection import train_test_split\n",
    "# Libraries and modules for model evaluation\n",
    "from sklearn.metrics import confusion_matrix, classification_report"
   ]
  },
  {
   "cell_type": "markdown",
   "id": "ec51f2c8",
   "metadata": {},
   "source": [
    "Let's Split the dataset into a train set (80%) and a test set(20%). Train the model on the train set and then use it to predict the class of the samples of the test set."
   ]
  },
  {
   "cell_type": "code",
   "execution_count": 6,
   "id": "cec33ee4",
   "metadata": {},
   "outputs": [],
   "source": [
    "# Separate the independent variables from the dependent variable.\n",
    "X = cancer.drop('target', axis = 1)\n",
    "y = cancer['target']\n",
    "# Divide the dataset into train (80%) and test (20%).\n",
    "X_train, X_test, y_train, y_test = train_test_split(X, y, test_size = 0.2, random_state = 0)\n",
    "# Create a Support Vector Machine object.\n",
    "svm = SVC()\n",
    "# Fit the model to the train set.\n",
    "svm.fit(X_train, y_train)\n",
    "# Predict the classes on the test set.\n",
    "y_predict = svm.predict(X_test)"
   ]
  },
  {
   "cell_type": "markdown",
   "id": "f6064989",
   "metadata": {},
   "source": [
    "### Now that we have the predictions, we need to evaluate the performance of our model."
   ]
  },
  {
   "cell_type": "markdown",
   "id": "008ced69",
   "metadata": {},
   "source": [
    "### Evaluating the model\n",
    "#### Confusion Matrix and Classification Report"
   ]
  },
  {
   "cell_type": "markdown",
   "id": "b45a0a1a",
   "metadata": {},
   "source": [
    "The confusion matrix is an N x N table (where N is the number of classes) that contains the number of correct and incorrect predictions of the classification model.\n",
    "\n",
    "To create the confusion matrix, we can use sklearn confusion_matrix(), which takes the real values (y_test) and the predicted values (y_predict).\n",
    "\n",
    "We can use seaborn to print a heatmap of the confusion matrix."
   ]
  },
  {
   "cell_type": "code",
   "execution_count": 13,
   "id": "cdac3c0f",
   "metadata": {},
   "outputs": [
    {
     "data": {
      "text/plain": [
       "array([[66,  7],\n",
       "       [ 1, 40]], dtype=int64)"
      ]
     },
     "execution_count": 13,
     "metadata": {},
     "output_type": "execute_result"
    }
   ],
   "source": [
    "confusion_matrix(y_predict,y_test)"
   ]
  },
  {
   "cell_type": "code",
   "execution_count": 14,
   "id": "d51f6577",
   "metadata": {},
   "outputs": [
    {
     "data": {
      "text/html": [
       "<div>\n",
       "<style scoped>\n",
       "    .dataframe tbody tr th:only-of-type {\n",
       "        vertical-align: middle;\n",
       "    }\n",
       "\n",
       "    .dataframe tbody tr th {\n",
       "        vertical-align: top;\n",
       "    }\n",
       "\n",
       "    .dataframe thead th {\n",
       "        text-align: right;\n",
       "    }\n",
       "</style>\n",
       "<table border=\"1\" class=\"dataframe\">\n",
       "  <thead>\n",
       "    <tr style=\"text-align: right;\">\n",
       "      <th>target</th>\n",
       "      <th>0</th>\n",
       "      <th>1</th>\n",
       "    </tr>\n",
       "    <tr>\n",
       "      <th>row_0</th>\n",
       "      <th></th>\n",
       "      <th></th>\n",
       "    </tr>\n",
       "  </thead>\n",
       "  <tbody>\n",
       "    <tr>\n",
       "      <th>0</th>\n",
       "      <td>66</td>\n",
       "      <td>7</td>\n",
       "    </tr>\n",
       "    <tr>\n",
       "      <th>1</th>\n",
       "      <td>1</td>\n",
       "      <td>40</td>\n",
       "    </tr>\n",
       "  </tbody>\n",
       "</table>\n",
       "</div>"
      ],
      "text/plain": [
       "target   0   1\n",
       "row_0         \n",
       "0       66   7\n",
       "1        1  40"
      ]
     },
     "execution_count": 14,
     "metadata": {},
     "output_type": "execute_result"
    }
   ],
   "source": [
    "pd.crosstab(y_predict,y_test,)"
   ]
  },
  {
   "cell_type": "code",
   "execution_count": 15,
   "id": "13b71b30",
   "metadata": {},
   "outputs": [
    {
     "data": {
      "text/plain": [
       "<AxesSubplot:>"
      ]
     },
     "execution_count": 15,
     "metadata": {},
     "output_type": "execute_result"
    },
    {
     "data": {
      "image/png": "[encoded data removed]",
      "text/plain": [
       "<Figure size 432x288 with 2 Axes>"
      ]
     },
     "metadata": {
      "needs_background": "light"
     },
     "output_type": "display_data"
    }
   ],
   "source": [
    "sns.heatmap(confusion_matrix(y_test,y_predict), annot = True)"
   ]
  },
  {
   "attachments": {
    "image.png": {
     "image/png": "[encoded data removed]"
    }
   },
   "cell_type": "markdown",
   "id": "7ef25313",
   "metadata": {},
   "source": [
    "![image.png](attachment:image.png)"
   ]
  },
  {
   "cell_type": "markdown",
   "id": "8f1b61b8",
   "metadata": {},
   "source": [
    "The rows of the matrix represent the real classes, while the columns represent the predicted classes."
   ]
  },
  {
   "cell_type": "markdown",
   "id": "935ea5f3",
   "metadata": {},
   "source": [
    "The values returned by the confusion matrix are divided into the following categories:\n",
    "\n",
    "1. True Positive (TP):\n",
    "    \n",
    "        The model predicted positive, and the real value is positive.\n",
    "\n",
    "2. True Negative (TN):\n",
    "    \n",
    "        The model predicted negative, and the real value is negative.\n",
    "\n",
    "3. False Positive (FP):\n",
    "    \n",
    "        The model predicted positive, but the real value is negative (Type I error).\n",
    "\n",
    "4. False Negative (FN):\n",
    "    \n",
    "        The model predicted negative, but the real value is positive (Type II error)."
   ]
  },
  {
   "cell_type": "markdown",
   "id": "d5c5b7ce",
   "metadata": {},
   "source": [
    "### The diagonal from the top left to the bottom right contains the observations correctly predicted."
   ]
  },
  {
   "cell_type": "markdown",
   "id": "f3e64d20",
   "metadata": {},
   "source": [
    "Let’s evaluate our model using the data of the confusion matrix.\n",
    "\n",
    "1. Total predictions: 114\n",
    "    \n",
    "2. Correct predictions: 106 (66 benign (TN) and 40 malignant (TP))\n",
    "    \n",
    "3. Incorrect predictions: 8 (1 benign classified as malignant (FP) and 7 malignant classified as benign (FN))"
   ]
  },
  {
   "cell_type": "markdown",
   "id": "8f6a2753",
   "metadata": {},
   "source": [
    "#### Although detailed, the data above make it difficult to understand how good is the model at classifying cancer samples. We can use the data of the confusion matrix to compute metrics that quantify the performance of the model."
   ]
  },
  {
   "cell_type": "markdown",
   "id": "81a7b76d",
   "metadata": {},
   "source": [
    "### Metrics for the evaluation of a classification model"
   ]
  },
  {
   "cell_type": "markdown",
   "id": "171cf04c",
   "metadata": {},
   "source": [
    "#### Accuracy: The accuracy returns the proportion of correct predictions.\n",
    "\n",
    "Accuracy = (TP + TN)/(TP + TN + FP + FN) = (66 + 40)/(66 + 40 + 1 + 7) = 0.93 = 93%"
   ]
  },
  {
   "cell_type": "markdown",
   "id": "359c9d24",
   "metadata": {},
   "source": [
    "#### Precision: The precision returns the proportion of true positives among all the values predicted as positive.\n",
    "    \n",
    "Precision = TP/(TP + FP) = 40/(40 + 1) = 0.98 = 98%"
   ]
  },
  {
   "cell_type": "markdown",
   "id": "fe3eb449",
   "metadata": {},
   "source": [
    "#### Recall: The recall returns the proportion of positive values correctly predicted.\n",
    "\n",
    "Recall = TP/(TP + FN) = 40/(40 + 7) = 0.85 = 85%"
   ]
  },
  {
   "cell_type": "markdown",
   "id": "ae25df2a",
   "metadata": {},
   "source": [
    "#### Specificity: The specificity returns the proportion of negative values correctly predicted.\n",
    "\n",
    "Specificity: TN/ (TN + FP) = 66/(66 + 1) = 0.99 = 99%"
   ]
  },
  {
   "cell_type": "markdown",
   "id": "07e49276",
   "metadata": {},
   "source": [
    "#### F1-score: The f1-score is the harmonic mean of precision and recall. It is often used to compare classifiers."
   ]
  },
  {
   "cell_type": "markdown",
   "id": "bb7239a0",
   "metadata": {},
   "source": [
    "F1-score = (2 x Precision x Recall) / (Precision + Recall) = 0.91 = 91%"
   ]
  },
  {
   "cell_type": "raw",
   "id": "ea0ea351",
   "metadata": {},
   "source": [
    "The harmonic mean gives more weight to the lower value, so a high F1-score means that both precision and recall are high."
   ]
  },
  {
   "cell_type": "raw",
   "id": "fc6e2607",
   "metadata": {},
   "source": [
    "So now, we will focus on accuracy, precision, recall and f1-score.\n",
    "\n",
    "We can use sklearn to compute the metrics above."
   ]
  },
  {
   "cell_type": "code",
   "execution_count": 16,
   "id": "ba1176c7",
   "metadata": {},
   "outputs": [
    {
     "name": "stdout",
     "output_type": "stream",
     "text": [
      "Accuracy: 0.93\n",
      "Precision: 0.98\n",
      "Recall: 0.85\n",
      "F1_score: 0.91\n"
     ]
    }
   ],
   "source": [
    "from sklearn.metrics import precision_score, accuracy_score, recall_score, f1_score\n",
    "print(f\"Accuracy: {round(accuracy_score(y_test, y_predict), 2)}\") \n",
    "print(f\"Precision: {round(precision_score(y_test, y_predict), 2)}\")\n",
    "print(f\"Recall: {round(recall_score(y_test, y_predict), 2)}\")\n",
    "print(f\"F1_score: {round(f1_score(y_test, y_predict), 2)}\")"
   ]
  },
  {
   "cell_type": "markdown",
   "id": "49f298de",
   "metadata": {},
   "source": [
    "### sklearn classification_report() returns precision, recall and F1-score for each class."
   ]
  },
  {
   "cell_type": "code",
   "execution_count": 17,
   "id": "1a4763e8",
   "metadata": {},
   "outputs": [
    {
     "name": "stdout",
     "output_type": "stream",
     "text": [
      "              precision    recall  f1-score   support\n",
      "\n",
      "           0       0.90      0.99      0.94        67\n",
      "           1       0.98      0.85      0.91        47\n",
      "\n",
      "    accuracy                           0.93       114\n",
      "   macro avg       0.94      0.92      0.93       114\n",
      "weighted avg       0.93      0.93      0.93       114\n",
      "\n"
     ]
    }
   ],
   "source": [
    "print(classification_report(y_test, y_predict))"
   ]
  },
  {
   "cell_type": "markdown",
   "id": "4ed6513d",
   "metadata": {},
   "source": [
    "#### Apart from the evaluation metrics, the classification report includes some additional information:"
   ]
  },
  {
   "cell_type": "markdown",
   "id": "632e81c9",
   "metadata": {},
   "source": [
    "#### Support: \n",
    "\n",
    "                number of observations for each class.\n",
    "\n",
    "#### Macro average: \n",
    "\n",
    "                the arithmetic average of a metric between the two classes.\n",
    "\n",
    "#### Macro average(precision) \n",
    "\n",
    "                = (p0 + p1)/2 = (0.90 + 0.98)/2 = 0.94 = 94%"
   ]
  },
  {
   "cell_type": "markdown",
   "id": "5204b79d",
   "metadata": {},
   "source": [
    "#### Weighted average: \n",
    "                 the weighted average is calculated by dividing sum(metric of interest x weight) by sum(weights).\n",
    "\n",
    "    Here the weights are the number of observation for each class.\n",
    "\n",
    "#### Weighted average (precision) \n",
    "                = (p0 x s0 + p1 x s1)/(s0 + s1) = (0.9 x 67) + (0.98 x 47)/(67 + 47) = 0.93"
   ]
  },
  {
   "cell_type": "markdown",
   "id": "230499e5",
   "metadata": {},
   "source": [
    "### What metric should we use to evaluate a classification model?\n",
    "\n",
    "The metric we use to evaluate the model depends on two factors:\n",
    "\n",
    "    1. Class balance\n",
    "    2. Reason for the classification"
   ]
  },
  {
   "cell_type": "markdown",
   "id": "af2c82ab",
   "metadata": {},
   "source": [
    "The accuracy is extensively used to evaluate a classification model. It works well when the classes are balanced but it can be misleading when the classes are unbalanced."
   ]
  },
  {
   "cell_type": "markdown",
   "id": "70e9f3e7",
   "metadata": {},
   "source": [
    "Let’s consider our cancer diagnosis problem again, but this time let’s assume that only 5% of the observations are malignant. In this case, a model that returns benign for every sample will have an accuracy of 95%, but it will be of no use."
   ]
  },
  {
   "cell_type": "markdown",
   "id": "a24dca67",
   "metadata": {},
   "source": [
    "In this situation, it is crucial to detect all the malignant observations, even if it means classifying some benign samples as malignant."
   ]
  },
  {
   "cell_type": "raw",
   "id": "6f308d67",
   "metadata": {},
   "source": [
    "Here, false negatives (type II errors) are more dangerous than false positives (type I errors)."
   ]
  },
  {
   "cell_type": "raw",
   "id": "2c5ffbdf",
   "metadata": {},
   "source": [
    "In this scenario, recall is the best metric to evaluate the model.\n",
    "\n",
    "Our model has a recall of 85%, which is not bad considered that we did not scale the data and did not optimize the model on the train set."
   ]
  },
  {
   "cell_type": "markdown",
   "id": "a6e0f933",
   "metadata": {},
   "source": [
    "In this case, the goal is to identify as many spams as possible while not losing emails of interest.\n",
    "\n",
    "Here type II errors (false negative) are more acceptable than type I errors (false positive).\n",
    "\n",
    "In other words, it is better having a few spams than losing an email of interest.\n",
    "\n",
    "In this scenario, precision is the best metric to evaluate the model."
   ]
  },
  {
   "cell_type": "markdown",
   "id": "dc9c5765",
   "metadata": {},
   "source": [
    "## Conclusions :\n",
    "    \n",
    "    we learned how to read the confusion matrix and compute accuracy, precision, recall and F1-score for both a binary and multiclass classification problem.\n",
    "\n",
    "    We also learned that no metric is good enough to evaluate all classification problems, but that each metric is the best choice in specific circumstances.\n",
    "\n",
    "    With this knowledge, we can interpret any classification report and use the information in it to confidently evaluate a model or compare different models."
   ]
  },
  {
   "cell_type": "code",
   "execution_count": null,
   "id": "5bc70eaf",
   "metadata": {},
   "outputs": [],
   "source": []
  }
 ],
 "metadata": {
  "kernelspec": {
   "display_name": "Python 3 (ipykernel)",
   "language": "python",
   "name": "python3"
  },
  "language_info": {
   "codemirror_mode": {
    "name": "ipython",
    "version": 3
   },
   "file_extension": ".py",
   "mimetype": "text/x-python",
   "name": "python",
   "nbconvert_exporter": "python",
   "pygments_lexer": "ipython3",
   "version": "3.9.7"
  }
 },
 "nbformat": 4,
 "nbformat_minor": 5
}
